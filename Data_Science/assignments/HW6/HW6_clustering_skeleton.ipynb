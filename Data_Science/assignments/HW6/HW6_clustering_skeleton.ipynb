{
 "cells": [
  {
   "cell_type": "code",
   "execution_count": 1,
   "metadata": {},
   "outputs": [],
   "source": [
    "import pandas as pd\n",
    "import numpy as np\n",
    "import matplotlib.pyplot as plt\n",
    "import pdb #for debugging the code. Set a breakpoint by pbd.set_trace(). https://www.geeksforgeeks.org/python-debugger-python-pdb/ "
   ]
  },
  {
   "cell_type": "code",
   "execution_count": 2,
   "metadata": {},
   "outputs": [
    {
     "name": "stdout",
     "output_type": "stream",
     "text": [
      "Initial centroids:\n",
      "     x  y\n",
      "13  4  4\n",
      "32  8  0\n",
      "23  6  3\n",
      "                x         y\n",
      "Cluster                    \n",
      "0        3.615385  5.230769\n",
      "1        8.000000  0.857143\n",
      "2        7.000000  3.888889\n",
      "No updates on clusters:  False\n",
      "                x         y\n",
      "Cluster                    \n",
      "0        3.640000  5.440000\n",
      "1        7.333333  0.888889\n",
      "2        7.000000  4.125000\n",
      "No updates on clusters:  False\n",
      "                x         y\n",
      "Cluster                    \n",
      "0        3.565217  5.521739\n",
      "1        6.727273  0.909091\n",
      "2        7.125000  5.000000\n",
      "No updates on clusters:  False\n",
      "                x         y\n",
      "Cluster                    \n",
      "0        3.444444  5.888889\n",
      "1        5.750000  1.187500\n",
      "2        7.375000  6.500000\n",
      "No updates on clusters:  False\n",
      "                x         y\n",
      "Cluster                    \n",
      "0        3.538462  6.307692\n",
      "1        5.476190  1.428571\n",
      "2        6.500000  8.125000\n",
      "No updates on clusters:  False\n",
      "                x         y\n",
      "Cluster                    \n",
      "0        3.600000  6.300000\n",
      "1        5.347826  1.565217\n",
      "2        6.000000  8.666667\n",
      "No updates on clusters:  False\n",
      "                x         y\n",
      "Cluster                    \n",
      "0        3.600000  6.300000\n",
      "1        5.347826  1.565217\n",
      "2        6.000000  8.666667\n",
      "No updates on clusters:  True\n",
      "Convergence! Final centroids:                 x         y\n",
      "Cluster                    \n",
      "0        3.600000  6.300000\n",
      "1        5.347826  1.565217\n",
      "2        6.000000  8.666667\n",
      "Plotting...\n"
     ]
    },
    {
     "data": {
      "image/png": "[encoded data removed]",
      "text/plain": [
       "<Figure size 432x288 with 1 Axes>"
      ]
     },
     "metadata": {
      "needs_background": "light"
     },
     "output_type": "display_data"
    },
    {
     "name": "stdout",
     "output_type": "stream",
     "text": [
      "Initial centroids:\n",
      "     x  y\n",
      "11  3  6\n",
      "17  5  6\n",
      "28  7  4\n",
      "                x         y\n",
      "Cluster                    \n",
      "0        2.466667  4.133333\n",
      "1        5.909091  7.909091\n",
      "2        6.937500  1.750000\n",
      "No updates on clusters:  False\n",
      "                x         y\n",
      "Cluster                    \n",
      "0        2.571429  2.571429\n",
      "1        5.214286  8.214286\n",
      "2        7.428571  1.857143\n",
      "No updates on clusters:  False\n",
      "                x         y\n",
      "Cluster                    \n",
      "0        2.583333  1.750000\n",
      "1        4.882353  7.823529\n",
      "2        7.615385  1.769231\n",
      "No updates on clusters:  False\n",
      "                x         y\n",
      "Cluster                    \n",
      "0        2.583333  1.750000\n",
      "1        4.882353  7.823529\n",
      "2        7.615385  1.769231\n",
      "No updates on clusters:  True\n",
      "Convergence! Final centroids:                 x         y\n",
      "Cluster                    \n",
      "0        2.583333  1.750000\n",
      "1        4.882353  7.823529\n",
      "2        7.615385  1.769231\n",
      "Plotting...\n"
     ]
    },
    {
     "data": {
      "image/png": "[encoded data removed]",
      "text/plain": [
       "<Figure size 432x288 with 1 Axes>"
      ]
     },
     "metadata": {
      "needs_background": "light"
     },
     "output_type": "display_data"
    },
    {
     "name": "stdout",
     "output_type": "stream",
     "text": [
      "Initial centroids:\n",
      "     x  y\n",
      "10  3  4\n",
      "7   2  9\n",
      "12  3  8\n",
      "                x         y\n",
      "Cluster                    \n",
      "0        5.107143  2.178571\n",
      "1        2.000000  9.000000\n",
      "2        5.230769  8.230769\n",
      "No updates on clusters:  False\n",
      "                x         y\n",
      "Cluster                    \n",
      "0        5.192308  1.884615\n",
      "1        2.333333  8.000000\n",
      "2        5.461538  8.000000\n",
      "No updates on clusters:  False\n",
      "                x         y\n",
      "Cluster                    \n",
      "0        5.200000  1.760000\n",
      "1        2.500000  7.500000\n",
      "2        5.615385  7.923077\n",
      "No updates on clusters:  False\n",
      "            x     y\n",
      "Cluster            \n",
      "0        5.20  1.76\n",
      "1        2.80  7.40\n",
      "2        5.75  8.00\n",
      "No updates on clusters:  False\n",
      "                x         y\n",
      "Cluster                    \n",
      "0        5.200000  1.760000\n",
      "1        3.000000  7.666667\n",
      "2        5.909091  7.909091\n",
      "No updates on clusters:  False\n",
      "                x         y\n",
      "Cluster                    \n",
      "0        5.200000  1.760000\n",
      "1        3.000000  7.666667\n",
      "2        5.909091  7.909091\n",
      "No updates on clusters:  True\n",
      "Convergence! Final centroids:                 x         y\n",
      "Cluster                    \n",
      "0        5.200000  1.760000\n",
      "1        3.000000  7.666667\n",
      "2        5.909091  7.909091\n",
      "Plotting...\n"
     ]
    },
    {
     "data": {
      "image/png": "[encoded data removed]",
      "text/plain": [
       "<Figure size 432x288 with 1 Axes>"
      ]
     },
     "metadata": {
      "needs_background": "light"
     },
     "output_type": "display_data"
    }
   ],
   "source": [
    "\n",
    "def k_means_clustering(data, centroids, k):\n",
    "    centroid_current = centroids\n",
    "    centroid_last = pd.DataFrame()\n",
    "    clusters = pd.DataFrame()\n",
    "    \n",
    "    # iterate until convergence\n",
    "    while not centroid_current.equals(centroid_last):\n",
    "        \n",
    "        cluster_count = 0 #it counts the number of clusters. Cluster IDs start from 0.\n",
    "        # calculate the distance of each point to the K centroids\n",
    "        for idx, position in centroid_current.iterrows():# the idx will not be used. We just separate the index with the actual data \"position\" in the dataset. You will use \"cluster_count\" as the column index in \"clusters\".\n",
    "            # your code is here. Save the Euclidean distances into 'clusters'\n",
    "            clusters[cluster_count] = ((data[centroid_current.columns] -np.array(position)).pow(2).sum(1))**(1/2)\n",
    "            \n",
    "            # your code ends\n",
    "            cluster_count += 1\n",
    "        \n",
    "        # update cluster, assign the points to clusters\n",
    "        clusterIDs = []\n",
    "        for row_idx in range(len(clusters)):\n",
    "            # your code is here. Check the distances at every row in 'clusters'. Save the assigned cluster IDs to points. The IDs start from 0\n",
    "            clusterIDs = clusters.idxmin(axis=1)\n",
    " \n",
    " \n",
    "           # your code ends\n",
    "        # assign points to clusters. The information is saved in the list and assigned to the dataset.\n",
    "            data['Cluster'] = clusterIDs\n",
    "        \n",
    "        # store previous cluster\n",
    "        centroid_last = centroid_current\n",
    "        \n",
    "        # Update the centroid of each cluster. All information are in 'data'. You have to calculate the new centroids based on the points in the same cluster.\n",
    "        # The centroid is the center of a list of points. For example, (x1, y1), (x2, y2), ..., (xn, yn). The centroid is (x, y), where x = the mean of (x1, x2, ..., xn) and y = the mean of (y1, y2, ..., yn).\n",
    "        centroids =[]\n",
    "        points= [] # save k lists of points in the list. The points in the same list are in the same cluster. \n",
    "        # your code is here. The K centroids will be saved in 'centroids', e.g. [[1, 2], [3, 4], [5, 6]]\n",
    "        centroids = data.groupby('Cluster').agg(np.mean)\n",
    "        print(centroids)\n",
    "        l1, l2, l3 = [], [], []\n",
    "        for i in range(len(data)):\n",
    "            x = data['x'][i]\n",
    "            y = data['y'][i]\n",
    "            if (data['Cluster'][i] == 0):\n",
    "                l1.append([x,y])\n",
    "            elif(data['Cluster'][i] == 1):\n",
    "                l2.append([x,y])\n",
    "            elif(data['Cluster'][i] == 2):\n",
    "                l3.append([x,y])\n",
    "        points.append(l1)\n",
    "        points.append(l2)\n",
    "        points.append(l3)\n",
    "        \n",
    "        \n",
    "        # your code ends\n",
    "        centroid_current = pd.DataFrame(data=centroids, columns = ['x', 'y'])\n",
    "         \n",
    "        print(\"No updates on clusters: \", centroid_current.equals(centroid_last))\n",
    "\n",
    "    print(\"Convergence! Final centroids:\", centroid_current)\n",
    "    # plotting\n",
    "    print('Plotting...')\n",
    "    colors= ['b', 'g', 'r', 'c', 'm', 'y', 'k']\n",
    "    \n",
    "    # scatter plot all points. All points are colored circles\n",
    "    for i in range(k):\n",
    "        p = np.array(points[i])\n",
    "        x, y = p[:,0], p[:, 1]\n",
    "        \n",
    "        plt.scatter(x, y, color = colors[i])\n",
    "        plt.scatter(centroid_current['x'], centroid_current['y'], marker='^', color = colors[i])\n",
    "    \n",
    "    # scatter plot all centroids. All points are colored triangles\n",
    "    for j in range(k):\n",
    "        plt.scatter(centroid_current.iloc[j][0], centroid_current.iloc[j][1], marker='^', color= colors[j])\n",
    "        \n",
    "    plt.show()\n",
    "\n",
    "if __name__ == '__main__':\n",
    "    # Question 1 K-means clustering\n",
    "    data = pd.read_csv('k_means_clustering_data.csv')\n",
    "    seeds = []\n",
    "    # Seed selection 1: random selected 3 points as centroids (4, 4), (8, 0), (6, 3)\n",
    "    seeds.append(pd.DataFrame([[4, 4], [8, 0], [6, 3]], index=[13, 32, 23], columns = ['x', 'y']))\n",
    "    \n",
    "    # Seed selection 2: random selected 3 points as centroids (3, 6), (5, 6), (7, 4)\n",
    "    seeds.append(pd.DataFrame([[3, 6], [5, 6], [7, 4]], index=[11, 17, 28], columns = ['x', 'y']))\n",
    "    \n",
    "    # Seed selection 3: random selected 3 points as centroids (3, 4), (2, 9), (3, 8)\n",
    "    seeds.append(pd.DataFrame([[3, 4], [2, 9], [3, 8]], index=[10, 7, 12], columns = ['x', 'y']))\n",
    "    \n",
    "    for i in range(3):\n",
    "      centroids = seeds[i]\n",
    "      print('Initial centroids:\\n', centroids)\n",
    "      k_means_clustering(data, centroids, 3)\n",
    "\n"
   ]
  },
  {
   "cell_type": "code",
   "execution_count": 6,
   "metadata": {},
   "outputs": [
    {
     "name": "stdout",
     "output_type": "stream",
     "text": [
      "\n",
      "P(w3=R|w1=R, u2=F, u3=T)=\n",
      "                         P(w2=Rainy, w3=Rainy|w1=Rainy, u2=False, u3=True)+\n",
      "                         P(w2=Foggy, w3=Rainy|w1=Rainy, u2=False, u3=True)+\n",
      "                         P(w2=Sunny, w3=Rainy|w1=Rainy, u2=False, u3=True)\n",
      "\n"
     ]
    }
   ],
   "source": [
    "\n",
    "# Question 2 Hidden Markov Model\n",
    "# your code is here\n",
    "print('''\n",
    "P(w3=R|w1=R, u2=F, u3=T)=\n",
    "                         P(w2=Rainy, w3=Rainy|w1=Rainy, u2=False, u3=True)+\n",
    "                         P(w2=Foggy, w3=Rainy|w1=Rainy, u2=False, u3=True)+\n",
    "                         P(w2=Sunny, w3=Rainy|w1=Rainy, u2=False, u3=True)\n",
    "''')\n",
    "\n",
    "# your code ends"
   ]
  }
 ],
 "metadata": {
  "kernelspec": {
   "display_name": "Python 3.10.4 64-bit",
   "language": "python",
   "name": "python3"
  },
  "language_info": {
   "codemirror_mode": {
    "name": "ipython",
    "version": 3
   },
   "file_extension": ".py",
   "mimetype": "text/x-python",
   "name": "python",
   "nbconvert_exporter": "python",
   "pygments_lexer": "ipython3",
   "version": "3.10.4"
  },
  "vscode": {
   "interpreter": {
    "hash": "51e4f816afd506db7bb7650607a3e2e026e40398beddcc9e11824953f6978b8d"
   }
  }
 },
 "nbformat": 4,
 "nbformat_minor": 4
}
