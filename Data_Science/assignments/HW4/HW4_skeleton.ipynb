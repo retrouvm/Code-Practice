{
 "cells": [
  {
   "cell_type": "code",
   "execution_count": 2,
   "metadata": {},
   "outputs": [],
   "source": [
    "#%% import necessary modules\n",
    "import numpy as np\n",
    "import matplotlib.pyplot as plt\n",
    "from sklearn.linear_model import LinearRegression\n",
    "from math import factorial\n",
    "import scipy.stats as stats\n",
    "import numpy.random as rn\n",
    "import pdb #for debugging the code. Set a breakpoint by pbd.set_trace(). https://www.geeksforgeeks.org/python-debugger-python-pdb/\n"
   ]
  },
  {
   "cell_type": "markdown",
   "metadata": {},
   "source": [
    "## Question 1 (hypothesis testing) 20pts\n",
    "*  If you flip the coin 15 times, and observed 12 heads, how likely this is a fair coin? A loaded coin tends to give head or tail more frequently. We set the p-value to be 0.05. We have the following statistical hypothesis testing "
   ]
  },
  {
   "cell_type": "code",
   "execution_count": 11,
   "metadata": {},
   "outputs": [
    {
     "name": "stdout",
     "output_type": "stream",
     "text": [
      "2*(binomPMF(12,15,0.05)+binomPMF(15,15,0.05))= 1.904813232421876e-13\n"
     ]
    }
   ],
   "source": [
    "#We assume H0 is correct, then we can calculate the probability P(at least 12 heads or 12 tails | coin is fair)\n",
    "def nchoosek(n,k):\n",
    "    return factorial(n)/factorial(k)/factorial(n-k)\n",
    "def binomPMF(k,n,p):\n",
    "    return nchoosek(n,k)*p**k*(1-p)**(n-k)\n",
    "print(\"2*(binomPMF(12,15,0.05)+binomPMF(15,15,0.05))=\",2*(binomPMF(12,15,0.05)+binomPMF(15,15,0.05)))"
   ]
  },
  {
   "cell_type": "code",
   "execution_count": 10,
   "metadata": {},
   "outputs": [
    {
     "name": "stdout",
     "output_type": "stream",
     "text": [
      "we accept H0\n"
     ]
    }
   ],
   "source": [
    "#If the value is smaller than the p-value 0.05, do you accept or reject H0\n",
    "print(\"we reject H0\")"
   ]
  },
  {
   "cell_type": "markdown",
   "metadata": {},
   "source": [
    "## Question 2 (statistics) 60pts\n",
    "* Write a program to simulate an experiment of tossing a fair coin 16 times and counting the number of heads. Repeat this experiment 105 times to obtain the number of heads for every 16 tosses; save the number of heads in a vector of size 105 (nHeads). You should be able to do this in just a few lines. (Use np.random.uniform to generate a 2d array of 105 * 16 random numbers between 0 and 1; a value that is greater than 0.5 is considered a “head”.) Complete the following questions. "
   ]
  },
  {
   "cell_type": "code",
   "execution_count": null,
   "metadata": {},
   "outputs": [],
   "source": [
    "\n",
    "\n",
    "#%% Q2 setup, 60pts\n",
    "\n",
    "#%% Q2a, 15pts\n",
    "rn.seed(0)\n",
    "N = 16;\n",
    "m = 10**5;\n",
    "# 10**5 by 16 = 16 + 16 + ... + 16\n",
    "# use the uniform or binomial functions to generate the data\n",
    "nHeads = (rn.uniform(size=(m, N))>0.5).sum(1)\n",
    "\n",
    "#%%plot the histgram\n",
    "# Your code is here\n",
    "# suggest one line code\n",
    "\n",
    "plt.xlabel('nHeads')\n",
    "plt.ylabel('Number of coins')\n",
    "plt.title('Q2a: Histogram')\n",
    "plt.show()\n",
    "\n",
    "#%% Q2b, 10pts\n",
    "# using plt.hist with parameter bins and density\n",
    "#Your code is here\n",
    "\n",
    "plt.show()\n",
    "\n",
    "#%% Q2c, 15pts\n",
    "\n",
    "#Use the values of counts returned from a or b. \n",
    "#Use the function cumsum to get the CDF.\n",
    "# Do not use scipy.stats.binom\n",
    "# Your code is here\n",
    "\n",
    "plt.show()\n",
    "\n",
    "\n",
    "#%% Q2d, 20pts\n",
    "# Use the binomial distribution CDF (use scipy.stats.binom.cdf)\n",
    "\n",
    "# Your code is here\n",
    "\n",
    "# scatter plot\n",
    "# Your code is here\n",
    "\n",
    "plt.show()\n",
    "\n",
    "# line plot\n",
    "#Your code is here\n",
    "\n",
    "plt.show()\n",
    "\n",
    "# Loglog scale plot plt.loglog\n",
    "#your code is here\n",
    "\n",
    "plt.xlim(10**-5, 1)\n",
    "plt.xlabel('Empirical CDF')\n",
    "plt.ylabel('Theoretical CDF')\n",
    "plt.title('Q2d: loglog plot')\n",
    "plt.show()\n",
    "\n",
    "\n"
   ]
  },
  {
   "cell_type": "markdown",
   "metadata": {},
   "source": [
    "## Question 3 (linear regression) 20pts\n",
    "* If the plot of n pairs of data (x , y) for an experiment appear to indicate a \"linear relationship\" between y and x, then the method of least squares may be used to write a linear relationship between x and y. \n",
    "\n",
    "* The least squares regression line is the line that minimizes the sum of the squares of the errors (SSE) from each data point to the line (see figure below). The least square regression line for the set of n data points is given by 𝑦 given by\n",
    "\n",
    "* The sales of a company (in million dollars) for each year are shown in the table. Output your results by the print() function in Python."
   ]
  },
  {
   "cell_type": "code",
   "execution_count": null,
   "metadata": {},
   "outputs": [],
   "source": [
    "\n",
    "##Q3, 20pts\n",
    "#%% Q3a, 15pts\n",
    "# the plot is not required\n",
    "#Your code is here\n",
    "\n",
    "#%%Q3b, 5pts\n",
    "#Your code is here\n",
    "\n",
    "\n",
    "#Output the result by print('Estimated sales in 2012 is ', XXX)\n",
    "\n",
    "\n"
   ]
  },
  {
   "cell_type": "code",
   "execution_count": null,
   "metadata": {},
   "outputs": [],
   "source": []
  }
 ],
 "metadata": {
  "kernelspec": {
   "display_name": "Python 3.10.4 64-bit",
   "language": "python",
   "name": "python3"
  },
  "language_info": {
   "codemirror_mode": {
    "name": "ipython",
    "version": 3
   },
   "file_extension": ".py",
   "mimetype": "text/x-python",
   "name": "python",
   "nbconvert_exporter": "python",
   "pygments_lexer": "ipython3",
   "version": "3.10.4"
  },
  "vscode": {
   "interpreter": {
    "hash": "51e4f816afd506db7bb7650607a3e2e026e40398beddcc9e11824953f6978b8d"
   }
  }
 },
 "nbformat": 4,
 "nbformat_minor": 4
}
