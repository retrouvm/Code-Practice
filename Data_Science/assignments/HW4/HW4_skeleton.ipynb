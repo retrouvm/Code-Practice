{
 "cells": [
  {
   "cell_type": "code",
   "execution_count": 2,
   "metadata": {},
   "outputs": [],
   "source": [
    "#%% import necessary modules\n",
    "import numpy as np\n",
    "import matplotlib.pyplot as plt\n",
    "from sklearn.linear_model import LinearRegression\n",
    "from math import factorial\n",
    "import scipy.stats as stats\n",
    "import numpy.random as rn\n",
    "import pdb #for debugging the code. Set a breakpoint by pbd.set_trace(). https://www.geeksforgeeks.org/python-debugger-python-pdb/\n"
   ]
  },
  {
   "cell_type": "code",
   "execution_count": 1,
   "metadata": {},
   "outputs": [
    {
     "ename": "NameError",
     "evalue": "name 'factorial' is not defined",
     "output_type": "error",
     "traceback": [
      "\u001b[1;31m---------------------------------------------------------------------------\u001b[0m",
      "\u001b[1;31mNameError\u001b[0m                                 Traceback (most recent call last)",
      "\u001b[1;32mc:\\Users\\rmani\\.vscode\\jupyterf\\Data_Science\\assignments\\HW4\\HW4_skeleton.ipynb Cell 2'\u001b[0m in \u001b[0;36m<cell line: 7>\u001b[1;34m()\u001b[0m\n\u001b[0;32m      <a href='vscode-notebook-cell:/c%3A/Users/rmani/.vscode/jupyterf/Data_Science/assignments/HW4/HW4_skeleton.ipynb#ch0000002?line=4'>5</a>\u001b[0m \u001b[39mdef\u001b[39;00m \u001b[39mbinomPMF\u001b[39m(k,n,p):\n\u001b[0;32m      <a href='vscode-notebook-cell:/c%3A/Users/rmani/.vscode/jupyterf/Data_Science/assignments/HW4/HW4_skeleton.ipynb#ch0000002?line=5'>6</a>\u001b[0m     \u001b[39mreturn\u001b[39;00m nchoosek(n,k)\u001b[39m*\u001b[39mp\u001b[39m*\u001b[39m\u001b[39m*\u001b[39mk\u001b[39m*\u001b[39m(\u001b[39m1\u001b[39m\u001b[39m-\u001b[39mp)\u001b[39m*\u001b[39m\u001b[39m*\u001b[39m(n\u001b[39m-\u001b[39mk)\n\u001b[1;32m----> <a href='vscode-notebook-cell:/c%3A/Users/rmani/.vscode/jupyterf/Data_Science/assignments/HW4/HW4_skeleton.ipynb#ch0000002?line=6'>7</a>\u001b[0m \u001b[39mprint\u001b[39m(binomPMF(\u001b[39m12\u001b[39;49m,\u001b[39m15\u001b[39;49m,\u001b[39m0.05\u001b[39;49m))\n",
      "\u001b[1;32mc:\\Users\\rmani\\.vscode\\jupyterf\\Data_Science\\assignments\\HW4\\HW4_skeleton.ipynb Cell 2'\u001b[0m in \u001b[0;36mbinomPMF\u001b[1;34m(k, n, p)\u001b[0m\n\u001b[0;32m      <a href='vscode-notebook-cell:/c%3A/Users/rmani/.vscode/jupyterf/Data_Science/assignments/HW4/HW4_skeleton.ipynb#ch0000002?line=4'>5</a>\u001b[0m \u001b[39mdef\u001b[39;00m \u001b[39mbinomPMF\u001b[39m(k,n,p):\n\u001b[1;32m----> <a href='vscode-notebook-cell:/c%3A/Users/rmani/.vscode/jupyterf/Data_Science/assignments/HW4/HW4_skeleton.ipynb#ch0000002?line=5'>6</a>\u001b[0m     \u001b[39mreturn\u001b[39;00m nchoosek(n,k)\u001b[39m*\u001b[39mp\u001b[39m*\u001b[39m\u001b[39m*\u001b[39mk\u001b[39m*\u001b[39m(\u001b[39m1\u001b[39m\u001b[39m-\u001b[39mp)\u001b[39m*\u001b[39m\u001b[39m*\u001b[39m(n\u001b[39m-\u001b[39mk)\n",
      "\u001b[1;32mc:\\Users\\rmani\\.vscode\\jupyterf\\Data_Science\\assignments\\HW4\\HW4_skeleton.ipynb Cell 2'\u001b[0m in \u001b[0;36mnchoosek\u001b[1;34m(n, k)\u001b[0m\n\u001b[0;32m      <a href='vscode-notebook-cell:/c%3A/Users/rmani/.vscode/jupyterf/Data_Science/assignments/HW4/HW4_skeleton.ipynb#ch0000002?line=2'>3</a>\u001b[0m \u001b[39mdef\u001b[39;00m \u001b[39mnchoosek\u001b[39m(n,k):\n\u001b[1;32m----> <a href='vscode-notebook-cell:/c%3A/Users/rmani/.vscode/jupyterf/Data_Science/assignments/HW4/HW4_skeleton.ipynb#ch0000002?line=3'>4</a>\u001b[0m     \u001b[39mreturn\u001b[39;00m factorial(n)\u001b[39m/\u001b[39mfactorial(k)\u001b[39m/\u001b[39mfactorial(n\u001b[39m-\u001b[39mk)\n",
      "\u001b[1;31mNameError\u001b[0m: name 'factorial' is not defined"
     ]
    }
   ],
   "source": [
    "\n",
    "#%% Q1, 20 pts \n",
    "#Q1a, 15pts, just use the print function to output the formula directly. You do not need to implement the code.\n",
    "def nchoosek(n,k):\n",
    "    return factorial(n)/factorial(k)/factorial(n-k)\n",
    "def binomPMF(k,n,p):\n",
    "    return nchoosek(n,k)*p**k*(1-p)**(n-k)\n",
    "print(binomPMF(12,15,0.05))\n",
    "#Q1b, 5pts, just output either 'accept' or 'reject'\n"
   ]
  },
  {
   "cell_type": "code",
   "execution_count": null,
   "metadata": {},
   "outputs": [],
   "source": [
    "\n",
    "\n",
    "#%% Q2 setup, 60pts\n",
    "\n",
    "#%% Q2a, 15pts\n",
    "rn.seed(0)\n",
    "N = 16;\n",
    "m = 10**5;\n",
    "# 10**5 by 16 = 16 + 16 + ... + 16\n",
    "# use the uniform or binomial functions to generate the data\n",
    "nHeads = (rn.uniform(size=(m, N))>0.5).sum(1)\n",
    "\n",
    "#%%plot the histgram\n",
    "# Your code is here\n",
    "# suggest one line code\n",
    "\n",
    "plt.xlabel('nHeads')\n",
    "plt.ylabel('Number of coins')\n",
    "plt.title('Q2a: Histogram')\n",
    "plt.show()\n",
    "\n",
    "#%% Q2b, 10pts\n",
    "# using plt.hist with parameter bins and density\n",
    "#Your code is here\n",
    "\n",
    "plt.show()\n",
    "\n",
    "#%% Q2c, 15pts\n",
    "\n",
    "#Use the values of counts returned from a or b. \n",
    "#Use the function cumsum to get the CDF.\n",
    "# Do not use scipy.stats.binom\n",
    "# Your code is here\n",
    "\n",
    "plt.show()\n",
    "\n",
    "\n",
    "#%% Q2d, 20pts\n",
    "# Use the binomial distribution CDF (use scipy.stats.binom.cdf)\n",
    "\n",
    "# Your code is here\n",
    "\n",
    "# scatter plot\n",
    "# Your code is here\n",
    "\n",
    "plt.show()\n",
    "\n",
    "# line plot\n",
    "#Your code is here\n",
    "\n",
    "plt.show()\n",
    "\n",
    "# Loglog scale plot plt.loglog\n",
    "#your code is here\n",
    "\n",
    "plt.xlim(10**-5, 1)\n",
    "plt.xlabel('Empirical CDF')\n",
    "plt.ylabel('Theoretical CDF')\n",
    "plt.title('Q2d: loglog plot')\n",
    "plt.show()\n",
    "\n",
    "\n",
    "\n",
    "##Q3, 20pts\n",
    "#%% Q3a, 15pts\n",
    "# the plot is not required\n",
    "#Your code is here\n",
    "\n",
    "#%%Q3b, 5pts\n",
    "#Your code is here\n",
    "\n",
    "\n",
    "#Output the result by print('Estimated sales in 2012 is ', XXX)\n",
    "\n",
    "\n"
   ]
  },
  {
   "cell_type": "code",
   "execution_count": null,
   "metadata": {},
   "outputs": [],
   "source": []
  }
 ],
 "metadata": {
  "kernelspec": {
   "display_name": "Python 3.10.4 64-bit",
   "language": "python",
   "name": "python3"
  },
  "language_info": {
   "codemirror_mode": {
    "name": "ipython",
    "version": 3
   },
   "file_extension": ".py",
   "mimetype": "text/x-python",
   "name": "python",
   "nbconvert_exporter": "python",
   "pygments_lexer": "ipython3",
   "version": "3.10.4"
  },
  "vscode": {
   "interpreter": {
    "hash": "51e4f816afd506db7bb7650607a3e2e026e40398beddcc9e11824953f6978b8d"
   }
  }
 },
 "nbformat": 4,
 "nbformat_minor": 4
}
