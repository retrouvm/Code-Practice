{
 "cells": [
  {
   "cell_type": "markdown",
   "metadata": {},
   "source": [
    "## Homework 2 (100 points)\n",
    "* Download the file vvk160_hw2.ipynb\n",
    "* Open the file via Jupyter Notebook\n",
    "* Run the code by clicking the “Run” button"
   ]
  },
  {
   "cell_type": "markdown",
   "metadata": {},
   "source": [
    "### Question 1 (20 pts)\n",
    "* Write a Python program to draw line charts of the financial data of Alphabet Inc. between October 3, 2016 to October 7, 2016. The sample financial data is in the file (fdata.csv). If you installed Pandas module, you can use the function read_csv() to read the data from the file directly. Or, you can write a function to read the data from the file. The code snippet gives the output shown in the following screenshot (the date can be in mm/dd/yy format)"
   ]
  },
  {
   "cell_type": "code",
   "execution_count": null,
   "metadata": {},
   "outputs": [],
   "source": [
    "from matplotlib import pyplot as plt\n",
    "import numpy as np\n",
    "import pdb # this is for debugging your code\n",
    "import pandas as pd\n",
    "#read the data from the file fdata.csv using read_csv()\n",
    "#save the data in df\n",
    "df = pd.read_csv(\"fdata.csv\", sep=',', parse_dates=True, index_col='Date')\n",
    "#set parameter index_col to 'Date' to be used as the index of the dataframe \n",
    "df.plot()\n",
    "plt.show()"
   ]
  },
  {
   "cell_type": "markdown",
   "metadata": {},
   "source": [
    "### Question 2 (20 pts)\n",
    "* Write a Python program to display the grid and draw line charts of the closing value of Alphabet Inc. between October 3, 2016 to October 7, 2016. You can type the following data into your code directly. Customized the grid lines with rendering with a larger grid (major grid) and a smaller grid (minor grid). You can refer to the grid() function to plot grids"
   ]
  },
  {
   "cell_type": "code",
   "execution_count": null,
   "metadata": {},
   "outputs": [],
   "source": [
    "dates=['03-10-2016',\n",
    "       '04-10-2016',\n",
    "       '05-10-2016',\n",
    "       '06-10-2016',\n",
    "       '07-10-2016']\n",
    "d_close=[772.559998,776.429993,776.469971,776.859985,775.080017]\n",
    "\n",
    "#save the data in the variable \"data\"\n",
    "#each row is saved in a tuple \n",
    "#zip->>useful to combine multiple lists into a list of tuples\n",
    "data=zip(dates,d_close)\n",
    "\n",
    "#plot data as a red line with round markers\n",
    "for d, c in data:\n",
    "    plt.plot(d,c,'ro',linestyle='-')\n",
    "    \n",
    "#add a title\n",
    "plt.title(\"Closing Stock Value of Alphabet Inc.\")\n",
    "#add a label to the y-axis\n",
    "plt.ylabel(\"Closing Value\")\n",
    "#add a label to the x-axis\n",
    "plt.xlabel(\"Date\")\n",
    "\n",
    "#turn on the minor TICKS, which are required for the minor GRID\n",
    "plt.minorticks_on()\n",
    "#customize the major grid\n",
    "plt.grid(which='major', linestyle='-', linewidth = .5, color='red')\n",
    "#customize the minor grid\n",
    "plt.grid(which='minor', color = 'gray', linestyle = '-', linewidth = .5)\n",
    "\n",
    "plt.show()\n"
   ]
  },
  {
   "cell_type": "markdown",
   "metadata": {},
   "source": [
    "### Question 3 (20 pts)\n",
    "* Write a Python programming to display a bar chart of the popularity of programming Languages\n",
    "* Sample data:\n",
    "    * Programming languages: Java, Python, PHP, JavaScript, C#, C++\n",
    "    * Popularity: 22.2, 17.6, 8.8, 8, 7.7, 6.7"
   ]
  },
  {
   "cell_type": "code",
   "execution_count": null,
   "metadata": {},
   "outputs": [],
   "source": [
    "#assign the data in variables \n",
    "prolang = [\"Java\", \"Python\", \"PHP\", \"JavaScript\", \"C#\", \"C++\"]\n",
    "popularity = [22.2,17.6,8.8,8,7.7,6.7]\n",
    "x_coo = range(len(prolang))\n",
    "\n",
    "#plot the bar chart \n",
    "plt.bar(x_coo, popularity,color='blue')\n",
    "\n",
    "#set ticks, labels, titles, grids\n",
    "plt.xticks(x_coo, prolang)\n",
    "plt.ylabel(\"Popularity\")\n",
    "plt.xlabel(\"Languages\")\n",
    "plt.title(\"Popularity of Programming Language\\nWorldwide, Odct 2017 compared to a year ago\")\n",
    "\n",
    "#turn on the grid\n",
    "plt.minorticks_on()\n",
    "#customize the major grid\n",
    "plt.grid(which='major', linestyle='-', linewidth=.5, color='red')\n",
    "#customize the minor grid\n",
    "plt.grid(which='minor', color = 'black', linestyle = '-', linewidth = .5)\n",
    "\n",
    "plt.show()"
   ]
  },
  {
   "cell_type": "markdown",
   "metadata": {},
   "source": [
    "### Question 4 (20 pts)\n",
    "* Write a Python programming to display a horizontal bar chart of the popularity of programming Languages using the data in Question 3"
   ]
  },
  {
   "cell_type": "code",
   "execution_count": null,
   "metadata": {},
   "outputs": [],
   "source": [
    "#save the data in variables\n",
    "prolang = [\"Java\", \"Python\", \"PHP\", \"JavaScript\", \"C#\", \"C++\"]\n",
    "popularity = [22.2,17.6,8.8,8,7.7,6.7]\n",
    "x_coo = range(len(prolang)) \n",
    "# plot the bar chart\n",
    "plt.barh(prolang,popularity,color='green')\n",
    "\n",
    "#set labels, titles, grids\n",
    "plt.xlabel(\"Popularity\")\n",
    "plt.ylabel(\"Languages\")\n",
    "plt.title(\"Popularity of Programming Language\\nWorldwide, Odct 2017 compared to a year ago\")\n",
    "\n",
    "#turn on the grid\n",
    "plt.minorticks_on()\n",
    "#customize the major grid\n",
    "plt.grid(which='major', linestyle='-', linewidth=.5, color='red')\n",
    "#customize the minor grid\n",
    "plt.grid(which='minor', color = 'black', linestyle = '-', linewidth = .5)\n",
    "\n",
    "plt.show()"
   ]
  },
  {
   "cell_type": "markdown",
   "metadata": {},
   "source": [
    "### Question 5 (20 pts)\n",
    "* Write a Python program to draw a scatter plot for three different groups comparing weights and heights"
   ]
  },
  {
   "cell_type": "code",
   "execution_count": 15,
   "metadata": {},
   "outputs": [
    {
     "data": {
      "image/png": "[encoded data removed]",
      "text/plain": [
       "<Figure size 432x288 with 1 Axes>"
      ]
     },
     "metadata": {
      "needs_background": "light"
     },
     "output_type": "display_data"
    }
   ],
   "source": [
    "weight1=[67,57.2,59.6,59.64,55.8,61.2,60.45,61,56.23,56]\n",
    "height1=[101.7,197.6,98.3,125.1,113.7,157.7,136,148.9,125.3,114.9]\n",
    "weight2=[61.9,64,62.1,64.2,62.3,65.4,62.4,61.4,62.5,63.6]\n",
    "height2=[152.8,155.3,135.1,125.2,151.3,135,182.2,195.9,165.1,125.1]\n",
    "weight3=[68.2,67.2,68.4,68.7,71,71.3,70.8,70,71.1,71.7]\n",
    "height3=[165.8,170.9,192.8,135.4,161.4,136.1,167.1,235.1,181.1,177.3]\n",
    "\n",
    "#draw the scatter plot\n",
    "plt.scatter(weight1,height1,marker=\"*\", c=\"red\")\n",
    "plt.scatter(weight2,height2,marker=\"*\",c=\"green\")\n",
    "plt.scatter(weight3,height3,marker=\"*\",c=\"blue\")\n",
    "\n",
    "#set labels, titles\n",
    "plt.title(\"Group Wise Weight vs Height\")\n",
    "plt.xlabel(\"Weight\")\n",
    "plt.ylabel(\"Height\")\n",
    "\n",
    "plt.show()"
   ]
  }
 ],
 "metadata": {
  "kernelspec": {
   "display_name": "Python 3.10.4 64-bit",
   "language": "python",
   "name": "python3"
  },
  "language_info": {
   "codemirror_mode": {
    "name": "ipython",
    "version": 3
   },
   "file_extension": ".py",
   "mimetype": "text/x-python",
   "name": "python",
   "nbconvert_exporter": "python",
   "pygments_lexer": "ipython3",
   "version": "3.10.4"
  },
  "vscode": {
   "interpreter": {
    "hash": "51e4f816afd506db7bb7650607a3e2e026e40398beddcc9e11824953f6978b8d"
   }
  }
 },
 "nbformat": 4,
 "nbformat_minor": 4
}
