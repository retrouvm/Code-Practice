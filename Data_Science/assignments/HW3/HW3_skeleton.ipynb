{
 "cells": [
  {
   "cell_type": "code",
   "execution_count": 86,
   "metadata": {},
   "outputs": [],
   "source": [
    "import sys\n",
    "import matplotlib.pyplot as plt\n",
    "import numpy as np\n",
    "from scipy.stats import norm\n"
   ]
  },
  {
   "cell_type": "markdown",
   "metadata": {},
   "source": [
    "### Question 1 (Matrix Multiplication) **10 pts**\n",
    "* Write a python code to calculate A∙B, A∙C, and A∙D using dot product function. If any of them cannot be calculated, please explain why."
   ]
  },
  {
   "cell_type": "code",
   "execution_count": null,
   "metadata": {},
   "outputs": [],
   "source": [
    "A=np.array([[2,8,4],\n",
    "           [5,4,2]])\n",
    "B=np.array([[4,1],\n",
    "           [6,4],\n",
    "           [5,3]])\n",
    "C=np.array([[4,1,2],\n",
    "           [6,4,3],\n",
    "           [5,3,4]])\n",
    "D=np.array([[4,1,2],\n",
    "           [6,4,3]])\n",
    "\n",
    "print(\"The dot product between matrices A and B is:\\n\",A.dot(B))\n",
    "print(\"\\nThe dot product between matrices A and C is:\\n\",A.dot(C))\n",
    "print(\"\\nDot product between the A and D matrices is not possible since number of columns in matrix A does match number of rows in matrix D\")"
   ]
  },
  {
   "cell_type": "markdown",
   "metadata": {},
   "source": [
    "### Question 2 (Pearson Correlation) **10 pts**"
   ]
  },
  {
   "cell_type": "code",
   "execution_count": null,
   "metadata": {},
   "outputs": [],
   "source": [
    "x = np.array([50, 68, 74, 70, 65, 61, 63, 74, 62])           \n",
    "y = np.array([170, 193, 209, 185, 195, 188, 188, 202, 183])"
   ]
  },
  {
   "cell_type": "code",
   "execution_count": null,
   "metadata": {},
   "outputs": [],
   "source": [
    "#scatter plot of x and y\n",
    "plt.scatter(x,y)\n",
    "plt.show()"
   ]
  },
  {
   "cell_type": "code",
   "execution_count": null,
   "metadata": {},
   "outputs": [],
   "source": [
    "#define the function of zscore() to compute the zscore of x and y\n",
    "def zscore(arr):\n",
    "    return(arr-np.mean(arr))/np.std(arr)"
   ]
  },
  {
   "cell_type": "code",
   "execution_count": null,
   "metadata": {},
   "outputs": [],
   "source": [
    "#scatter plot of the zscore of x and y\n",
    "plt.scatter(zscore(x),zscore(y))\n",
    "plt.show()"
   ]
  },
  {
   "cell_type": "code",
   "execution_count": null,
   "metadata": {},
   "outputs": [],
   "source": [
    "#Calculate the Pearson correlation coefficient using your own methods and compare your result with the result from the corrcoef function in numpy module\n",
    "my_calc=zscore(x).dot(zscore(y))/len(x)\n",
    "corrcoef_func=np.corrcoef(x,y)[0,1]\n",
    "print(f\"My calculation of the Pearson correlation\"\n",
    "      f\" coefficient is:\\n{my_calc}\\n\"\n",
    "      f\"the result from the corrcoef function in the numpy module is:\\n{corrcoef_func}\\n\"\n",
    "      f\"they are exactly the same calculations\")"
   ]
  },
  {
   "cell_type": "markdown",
   "metadata": {},
   "source": [
    "### Question 3 (Spearman Rank Correlation) **10 pts**"
   ]
  },
  {
   "cell_type": "code",
   "execution_count": null,
   "metadata": {},
   "outputs": [],
   "source": [
    "x = np.array([ 50, 68, 74, 70, 65, 61, 63, 74, 62, 80])\n",
    "y = np.array([170, 193, 209, 185, 195, 188, 188, 202, 183, 1000])\n",
    "\n",
    "#scatter plot of x and y\n",
    "plt.scatter(x,y)\n",
    "plt.show()\n"
   ]
  },
  {
   "cell_type": "code",
   "execution_count": null,
   "metadata": {},
   "outputs": [],
   "source": [
    "\n",
    "#calculate the Pearson correlation coefficient using the corrcoef function\n",
    "print(np.corrcoef(x,y)[0,1])\n"
   ]
  },
  {
   "cell_type": "code",
   "execution_count": null,
   "metadata": {},
   "outputs": [],
   "source": [
    "\n",
    "#calculate the Spearman rank correlation coefficient using the corrcoef function\n",
    "print(np.corrcoef(np.argsort(np.argsort(x)),np.argsort(np.argsort(y)))[0,1])\n"
   ]
  },
  {
   "cell_type": "code",
   "execution_count": null,
   "metadata": {},
   "outputs": [],
   "source": [
    "\n",
    "#are the two coefficients the same? which one is better? why?\n",
    "print('''\n",
    "~the coefficients are different.\n",
    "    *they are different because spearman rank is not so sensitive to outliers as pearson.\n",
    "    *thus whereas an outlier would throw off the pearson coefficient, it would not necessarilly effect spearman.\n",
    "    \n",
    "~in terms of which one is better:\n",
    "    depending on what kind of relationship the scatterplot is showing,\n",
    "    if it's mostly linear then the best bet would be to apply pearson,\n",
    "    but if it's not perfectly linear then spearman can give more\n",
    "    information that pearson would not be able to let us know,\n",
    "    since it can work with monotonic relationships,\n",
    "    thus spearmen would be deemed better''')\n"
   ]
  },
  {
   "cell_type": "code",
   "execution_count": null,
   "metadata": {},
   "outputs": [],
   "source": [
    "\n",
    "#what do the values (-1, 0, and 1) of the coefficient indicate correlation?\n",
    "print('''\n",
    "a value of -1 means a perfect negative association of rank\n",
    "a value of 0 means that there is no association between ranks\n",
    "a value of 1 means a perfect association of rank''')"
   ]
  },
  {
   "cell_type": "markdown",
   "metadata": {},
   "source": [
    "### Question 4 (Standard Normal Distribution) **8 pts**\n",
    "* Calculate the following probability in the standard normal distribution and output the questions and results in Python code. There are two ways to calculate the probability."
   ]
  },
  {
   "cell_type": "code",
   "execution_count": null,
   "metadata": {},
   "outputs": [],
   "source": [
    "\n",
    "print(norm.cdf(0.5)-norm.cdf(-0.5))\n",
    "print(2*(0.5-norm.cdf(-0.5)))"
   ]
  },
  {
   "cell_type": "markdown",
   "metadata": {},
   "source": [
    "### Question 5 (Properties of Normal Distribution) **12 pts**\n",
    "* If the distribution of a random variable X is a normal distribution, 𝑋~𝑁(𝜇, $σ^{2}$ )"
   ]
  },
  {
   "cell_type": "code",
   "execution_count": null,
   "metadata": {},
   "outputs": [],
   "source": [
    "#if we have X’ = 𝑎𝑋+𝑏, then what is the distribution if X’?\n",
    "print(\"X'~\\U0001D4A9(a\\u03BC+b,a\\u00B2\\u03C3\\u00B2)\")"
   ]
  },
  {
   "cell_type": "code",
   "execution_count": null,
   "metadata": {},
   "outputs": [],
   "source": [
    "#What is the relationship between X and Z? In other words, how do you represent Z using X?\n",
    "print(\"Z=(X-\\u03BC)/\\u03C3~\\U0001D4A9(0,1)\\n\")"
   ]
  },
  {
   "cell_type": "code",
   "execution_count": null,
   "metadata": {},
   "outputs": [],
   "source": [
    "#calculate the probability P(2 <= X <= 7) where 𝑋~𝑁(5,9) is in the normal distribution and output the major steps and results in Python code\n",
    "print(\"since \\u03BC=5, \\u03C3\\u00B2=9, and, \\u03C3=3\\n\")\n",
    "print(\"then probability is:\",norm.cdf(7,5,3)-norm.cdf(2,5,3))\n",
    "print(\"or also\")\n",
    "print('''\n",
    "X' = (X - 5) / 3 ~ \\U0001D4A9(5,9)\n",
    "(7 - 5) / 3 = 0.67\n",
    "(2-5)/3 = -1\\n''')\n",
    "print(\"probability is:\",norm.cdf(0.67) - norm.cdf(-1))"
   ]
  },
  {
   "cell_type": "code",
   "execution_count": 87,
   "metadata": {},
   "outputs": [
    {
     "name": "stdout",
     "output_type": "stream",
     "text": [
      "0.8663855974622838\n"
     ]
    }
   ],
   "source": [
    "#calculate the probability P(-1.5 <= X <= 1.5) where 𝑋~𝑁(0,1) is in the standard normal distribution.\n",
    "print(norm.cdf(1.5,0,1)-norm.cdf(-1.5,0,1))"
   ]
  },
  {
   "cell_type": "markdown",
   "metadata": {},
   "source": [
    "### Question 6 (Probabilistic calculation) **8 pts**\n",
    "* Complete the following Probabilistic calculation and output your solution by print function in Python"
   ]
  },
  {
   "cell_type": "code",
   "execution_count": 88,
   "metadata": {},
   "outputs": [
    {
     "name": "stdout",
     "output_type": "stream",
     "text": [
      "P(A U B) = P(A) + P(B) - P(A ∩ B)\n"
     ]
    }
   ],
   "source": [
    "print(\"P(A U B) = P(A) + P(B) - P(A ∩ B)\")"
   ]
  },
  {
   "cell_type": "code",
   "execution_count": 89,
   "metadata": {},
   "outputs": [
    {
     "name": "stdout",
     "output_type": "stream",
     "text": [
      "P(A | B) = P(A ∩ B) / P(B)\n"
     ]
    }
   ],
   "source": [
    "print(\"P(A | B) = P(A ∩ B) / P(B)\")"
   ]
  },
  {
   "cell_type": "code",
   "execution_count": null,
   "metadata": {},
   "outputs": [],
   "source": [
    "print(\"P(A ∩ B) = P(B) * P(A | B)\")"
   ]
  },
  {
   "cell_type": "code",
   "execution_count": null,
   "metadata": {},
   "outputs": [],
   "source": [
    "print(\"P(A ∩ B) = P(A) * P(B)\")"
   ]
  },
  {
   "cell_type": "markdown",
   "metadata": {},
   "source": [
    "### Question 7 (Probabilistic calculation) **8 pts**\n",
    "* Assume d is the tossed number of an 8-face die. Will the probabilities P(d = even) and P(d < 5) be independent? Write down your derivation and intermediate steps and output them in Python code"
   ]
  },
  {
   "cell_type": "code",
   "execution_count": 90,
   "metadata": {},
   "outputs": [
    {
     "name": "stdout",
     "output_type": "stream",
     "text": [
      "yes\n",
      "P(d=even) = 4/8 -> 1/2\n",
      "d<5 -> {1,2,3,4} = 4/8 -> 1/2\n",
      "P(d=even) and P(d<5) both equal 1/2, thus being independent\n"
     ]
    }
   ],
   "source": [
    "print(\"yes\")\n",
    "print(\"P(d=even) = 4/8 -> 1/2\")\n",
    "print(\"d<5 -> {1,2,3,4} = 4/8 -> 1/2\")\n",
    "print(\"P(d=even) and P(d<5) both equal 1/2, thus being independent\")"
   ]
  },
  {
   "cell_type": "markdown",
   "metadata": {},
   "source": [
    "### Question 8 (Theorem of Total Trobability and Bayes Theorem) **10 pts**\n",
    "* A box of dices: 95% fair, 5% loaded (50% at six). If we get 4 six in a row, what’s the chance that the die is loaded? "
   ]
  },
  {
   "cell_type": "markdown",
   "metadata": {},
   "source": [
    "print(\"P(six|fair) = 1/6\")\n",
    "print(\"P(six|loaded) = 0.5\")\n",
    "\n",
    "print(\"P(fair)=0.95 ∩ P( loaded )=0.05\")\n",
    "\n",
    "Therefore using law of total probability , we get here:\n",
    "P( 6666) = P(6666 | fair)P(fair) + P(6666 | loaded )P(loaded )\n",
    "P( 6666) = (1/6)4*0.95 + 0.54*0.05 = 0.003858\n",
    "\n",
    "Using Bayes theorem, we get now:\n",
    "P( loaded | 6666 ) = P(6666 | loaded )P(loaded ) / P( 6666)\n",
    "\n",
    "= 0.54*0.05 / 0.003858\n",
    "\n",
    "= 0.81"
   ]
  },
  {
   "cell_type": "code",
   "execution_count": null,
   "metadata": {},
   "outputs": [],
   "source": [
    "\n",
    "#%% Q9\n",
    "print(\"Question 9 **************************************\")\n",
    "\n",
    "\n",
    "\n",
    "\n",
    "# close all existing floating figures\n",
    "plt.close('all')\n"
   ]
  },
  {
   "cell_type": "code",
   "execution_count": null,
   "metadata": {},
   "outputs": [],
   "source": [
    "\n",
    "### Q10\n",
    "print(\"Question 10 **************************************\")\n",
    "#%% load data\n",
    "import pandas as pd \n",
    "measles=pd.read_csv('Measles.csv',header=None).values\n",
    "mumps=pd.read_csv('Mumps.csv',header=None).values\n",
    "\n",
    "\n",
    "# a. plot annual total measles cases in each year\n",
    "plt.figure()\n",
    "plt.title('a. NYC measles cases')\n",
    "\n",
    "# 1. Your code is here\n",
    "\n",
    "\n",
    "plt.show()\n",
    "\n",
    "#%% b. bar plot average mumps cases for each month of the year\n",
    "plt.figure()\n",
    "plt.title('b. Average monthly mumps cases')\n",
    "\n",
    "# 2. Your code is here\n",
    "\n",
    "plt.show()\n",
    "\n",
    "\n",
    "#%% c. scatter plot monthly mumps cases against measles cases\n",
    "mumpsCases = mumps[:, 1:].reshape(41*12)\n",
    "measlesCases = measles[:, 1:].reshape(41*12)\n",
    "\n",
    "plt.figure()\n",
    "plt.title('c. Monthly mumps vs measles cases')\n",
    "\n",
    "# 3. Your code is here\n",
    "\n",
    "plt.show()\n",
    "\n",
    "\n",
    "#%% d. plot monthly mumps cases against measles cases in log scale\n",
    "plt.figure()\n",
    "plt.title('d. Monthly mumps vs measles cases (log scale)')\n",
    "\n",
    "# 4. Your code is here\n",
    "\n",
    "plt.show()\n",
    "\n",
    "\n",
    "#%% e. Why would we want to plot the y axis in logarithm scale instead of linear scale\n",
    "\n",
    "# 5. Your code is here\n",
    "answer = ''\n",
    "\n",
    "print('\\n\\nAnswer to e: ' + answer)\n"
   ]
  },
  {
   "cell_type": "code",
   "execution_count": null,
   "metadata": {},
   "outputs": [],
   "source": []
  }
 ],
 "metadata": {
  "kernelspec": {
   "display_name": "Python 3.10.4 64-bit",
   "language": "python",
   "name": "python3"
  },
  "language_info": {
   "codemirror_mode": {
    "name": "ipython",
    "version": 3
   },
   "file_extension": ".py",
   "mimetype": "text/x-python",
   "name": "python",
   "nbconvert_exporter": "python",
   "pygments_lexer": "ipython3",
   "version": "3.10.4"
  },
  "vscode": {
   "interpreter": {
    "hash": "51e4f816afd506db7bb7650607a3e2e026e40398beddcc9e11824953f6978b8d"
   }
  }
 },
 "nbformat": 4,
 "nbformat_minor": 4
}
