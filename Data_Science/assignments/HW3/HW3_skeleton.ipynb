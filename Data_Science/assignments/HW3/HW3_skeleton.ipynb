{
 "cells": [
  {
   "cell_type": "code",
   "execution_count": null,
   "metadata": {},
   "outputs": [],
   "source": [
    "# -*- coding: utf-8 -*-\n",
    "import matplotlib.pyplot as plt\n",
    "import numpy as np\n",
    "\n",
    "#%% Q1 Matrix multiplication \n",
    "print(\"Question 1 **************************************\")\n",
    "\n",
    "\n"
   ]
  },
  {
   "cell_type": "code",
   "execution_count": null,
   "metadata": {},
   "outputs": [],
   "source": [
    "\n",
    "#%% Q2\n",
    "print(\"Question 2 **************************************\")\n",
    "#def zscore(arr):\n",
    " \n",
    "# x=\n",
    "# y=\n",
    "\n"
   ]
  },
  {
   "cell_type": "code",
   "execution_count": null,
   "metadata": {},
   "outputs": [],
   "source": [
    "\n",
    "#%% Q3\n",
    "print(\"Question 3 **************************************\")\n",
    "# x=\n",
    "# y=\n",
    "\n",
    "\n",
    "\n"
   ]
  },
  {
   "cell_type": "code",
   "execution_count": null,
   "metadata": {},
   "outputs": [],
   "source": [
    "\n",
    "#%% Q4\n",
    "print(\"Question 4 **************************************\")\n",
    "# print(\"norm.cdf(0.5) ... ... \\n\")\n",
    "\n",
    "\n",
    "\n"
   ]
  },
  {
   "cell_type": "code",
   "execution_count": null,
   "metadata": {},
   "outputs": [],
   "source": [
    "\n",
    "#%% Q5\n",
    "print(\"Question 5 **************************************\")\n",
    "# you can use the functions in the norm library directly \n",
    "# print(\"5a. X' ~ ... ...\")\n",
    "\n",
    "\n"
   ]
  },
  {
   "cell_type": "code",
   "execution_count": null,
   "metadata": {},
   "outputs": [],
   "source": [
    "\n",
    "#%% Q6\n",
    "print(\"Question 6 **************************************\")\n",
    "# print(\"P(A U B U C) = P(A) + ... + ...\")\n",
    "\n",
    "\n",
    "\n",
    "\n"
   ]
  },
  {
   "cell_type": "code",
   "execution_count": null,
   "metadata": {},
   "outputs": [],
   "source": [
    "\n",
    "#%% Q7\n",
    "print(\"Question 7 **************************************\")\n",
    "\n",
    "\n",
    "\n"
   ]
  },
  {
   "cell_type": "code",
   "execution_count": null,
   "metadata": {},
   "outputs": [],
   "source": [
    "\n",
    "#%% Q8\n",
    "print(\"Question 8 **************************************\")\n",
    "\n",
    "\n",
    "\n",
    "\n",
    "\n"
   ]
  },
  {
   "cell_type": "code",
   "execution_count": null,
   "metadata": {},
   "outputs": [],
   "source": [
    "\n",
    "#%% Q9\n",
    "print(\"Question 9 **************************************\")\n",
    "\n",
    "\n",
    "\n",
    "\n",
    "# close all existing floating figures\n",
    "plt.close('all')\n"
   ]
  },
  {
   "cell_type": "code",
   "execution_count": null,
   "metadata": {},
   "outputs": [],
   "source": [
    "\n",
    "### Q10\n",
    "print(\"Question 10 **************************************\")\n",
    "#%% load data\n",
    "import pandas as pd \n",
    "measles=pd.read_csv('Measles.csv',header=None).values\n",
    "mumps=pd.read_csv('Mumps.csv',header=None).values\n",
    "\n",
    "\n",
    "# a. plot annual total measles cases in each year\n",
    "plt.figure()\n",
    "plt.title('a. NYC measles cases')\n",
    "\n",
    "# 1. Your code is here\n",
    "\n",
    "\n",
    "plt.show()\n",
    "\n",
    "#%% b. bar plot average mumps cases for each month of the year\n",
    "plt.figure()\n",
    "plt.title('b. Average monthly mumps cases')\n",
    "\n",
    "# 2. Your code is here\n",
    "\n",
    "plt.show()\n",
    "\n",
    "\n",
    "#%% c. scatter plot monthly mumps cases against measles cases\n",
    "mumpsCases = mumps[:, 1:].reshape(41*12)\n",
    "measlesCases = measles[:, 1:].reshape(41*12)\n",
    "\n",
    "plt.figure()\n",
    "plt.title('c. Monthly mumps vs measles cases')\n",
    "\n",
    "# 3. Your code is here\n",
    "\n",
    "plt.show()\n",
    "\n",
    "\n",
    "#%% d. plot monthly mumps cases against measles cases in log scale\n",
    "plt.figure()\n",
    "plt.title('d. Monthly mumps vs measles cases (log scale)')\n",
    "\n",
    "# 4. Your code is here\n",
    "\n",
    "plt.show()\n",
    "\n",
    "\n",
    "#%% e. Why would we want to plot the y axis in logarithm scale instead of linear scale\n",
    "\n",
    "# 5. Your code is here\n",
    "answer = ''\n",
    "\n",
    "print('\\n\\nAnswer to e: ' + answer)\n"
   ]
  },
  {
   "cell_type": "code",
   "execution_count": null,
   "metadata": {},
   "outputs": [],
   "source": []
  }
 ],
 "metadata": {
  "kernelspec": {
   "display_name": "Python 3",
   "language": "python",
   "name": "python3"
  },
  "language_info": {
   "codemirror_mode": {
    "name": "ipython",
    "version": 3
   },
   "file_extension": ".py",
   "mimetype": "text/x-python",
   "name": "python",
   "nbconvert_exporter": "python",
   "pygments_lexer": "ipython3",
   "version": "3.7.6"
  }
 },
 "nbformat": 4,
 "nbformat_minor": 4
}
