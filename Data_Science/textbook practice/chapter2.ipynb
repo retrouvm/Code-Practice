{
 "cells": [
  {
   "cell_type": "markdown",
   "metadata": {},
   "source": [
    "## Data Scientists You May Know"
   ]
  },
  {
   "cell_type": "markdown",
   "metadata": {},
   "source": [
    "*design a “Data Scientists You May Know” suggester, suggest that a user might know the friends of friends\n",
    "\n",
    "* these are easy to compute:\n",
    "    * for each of a user’s friends, iterate over that person’s friends and collect all the results"
   ]
  }
 ],
 "metadata": {
  "language_info": {
   "name": "python"
  },
  "orig_nbformat": 4
 },
 "nbformat": 4,
 "nbformat_minor": 2
}
