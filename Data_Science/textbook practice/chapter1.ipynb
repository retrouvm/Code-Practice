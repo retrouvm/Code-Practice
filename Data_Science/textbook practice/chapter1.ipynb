{
 "cells": [
  {
   "cell_type": "code",
   "execution_count": 58,
   "metadata": {},
   "outputs": [],
   "source": [
    "import numpy as np\n",
    "import matplotlib.pyplot as plt"
   ]
  },
  {
   "cell_type": "markdown",
   "metadata": {},
   "source": [
    "* data dump\n",
    "    * consists of a list of users, each represented by a dict that contains for each user his or her id (which is a number) and name (which, in one of the great cosmic coincidences, rhymes with the user’s id):"
   ]
  },
  {
   "cell_type": "code",
   "execution_count": 59,
   "metadata": {},
   "outputs": [],
   "source": [
    "users = [\n",
    "{ \"id\": 0, \"name\": \"Hero\" },\n",
    "{ \"id\": 1, \"name\": \"Dunn\" },\n",
    "{ \"id\": 2, \"name\": \"Sue\" },\n",
    "{ \"id\": 3, \"name\": \"Chi\" },\n",
    "{ \"id\": 4, \"name\": \"Thor\" },\n",
    "{ \"id\": 5, \"name\": \"Clive\" },\n",
    "{ \"id\": 6, \"name\": \"Hicks\" },\n",
    "{ \"id\": 7, \"name\": \"Devin\" },\n",
    "{ \"id\": 8, \"name\": \"Kate\" },\n",
    "{ \"id\": 9, \"name\": \"Klein\" }\n",
    "]\n",
    "\n",
    "#“friendship” data, represented as a list of pairs of IDs:\n",
    "\n",
    "friendships = [(0, 1), (0, 2), (1, 2), (1, 3), (2, 3), (3, 4),\n",
    "(4, 5), (5, 6), (5, 7), (6, 8), (7, 8), (8, 9)]\n"
   ]
  },
  {
   "cell_type": "markdown",
   "metadata": {},
   "source": [
    "* the tuple (0, 1) indicates that the data scientist with id 0 (Hero) and the data scientist with id 1 (Dunn) are friends\n",
    "![](https://www.oreilly.com/library/view/data-science-from/9781491901410/assets/dsfs_0101.png)"
   ]
  },
  {
   "cell_type": "code",
   "execution_count": 60,
   "metadata": {},
   "outputs": [],
   "source": [
    "# to add a list of friends to each user\n",
    "#first we set each user’s friends property to an empty list\n",
    "for user in users:\n",
    "    user[\"friends\"] = [] #creating a new key within each user dictionary for \"friends\" list\n",
    "\n",
    "#and then we populate the lists using the friendships data\n",
    "for i, j in friendships:\n",
    "    #users[i] is the user whose id is i within the tuples of friendship\n",
    "    users[i][\"friends\"].append(users[j]) # add i as a friend of j\n",
    "    users[j][\"friends\"].append(users[i]) # add j as a friend of i"
   ]
  },
  {
   "cell_type": "markdown",
   "metadata": {},
   "source": [
    "* Once each user dict contains a list of friends, we can easily ask questions of our graph, like “what’s the average number of connections?”"
   ]
  },
  {
   "cell_type": "code",
   "execution_count": 61,
   "metadata": {},
   "outputs": [],
   "source": [
    "#first we find the total number of connections, by summing up the lengths of all the friends lists\n",
    "def number_of_friends(user): #function to return the length of the list in the value of the \"friends\" key for each user within users\n",
    "    return len(user[\"friends\"])\n",
    "total_connections = sum(number_of_friends(user)for user in users) #stores number of all \"friends\" connections by summing up the lengths returned by function number_of_friends for each user"
   ]
  },
  {
   "cell_type": "code",
   "execution_count": 62,
   "metadata": {},
   "outputs": [],
   "source": [
    "#and then we just divide by the number of users:\n",
    "from __future__ import division #will change the / operator to mean true division throughout the module\n",
    "num_users = len(users) #stores total number of users\n",
    "avg_connections = total_connections / num_users #calculates average number of connections across the users"
   ]
  },
  {
   "cell_type": "markdown",
   "metadata": {},
   "source": [
    "* the most connected people — are those who have the largest\n",
    "number of friends\n",
    "* Since there aren’t very many users, we can sort them from “most friends” to “least friends”"
   ]
  },
  {
   "cell_type": "code",
   "execution_count": 63,
   "metadata": {},
   "outputs": [],
   "source": [
    "user_id=[]\n",
    "for user in users:\n",
    "    for key,value in user.items():\n",
    "        if key==\"id\":\n",
    "            user_id.append(value)"
   ]
  },
  {
   "cell_type": "code",
   "execution_count": 73,
   "metadata": {},
   "outputs": [
    {
     "name": "stdout",
     "output_type": "stream",
     "text": [
      "[(0, 2), (1, 3), (2, 3), (3, 3), (4, 2), (5, 3), (6, 2), (7, 2), (8, 3), (9, 1)]\n"
     ]
    }
   ],
   "source": [
    "from operator import itemgetter\n",
    "# create a list (user_id, number_of_friends)\n",
    "num_friends_by_id = [(user[\"id\"], number_of_friends(user))for user in users]\n",
    "print(sorted(num_friends_by_id, key=lambda num_friends:(user_id,num_friends)))"
   ]
  }
 ],
 "metadata": {
  "kernelspec": {
   "display_name": "Python 3.10.4 64-bit",
   "language": "python",
   "name": "python3"
  },
  "language_info": {
   "codemirror_mode": {
    "name": "ipython",
    "version": 3
   },
   "file_extension": ".py",
   "mimetype": "text/x-python",
   "name": "python",
   "nbconvert_exporter": "python",
   "pygments_lexer": "ipython3",
   "version": "3.10.4"
  },
  "orig_nbformat": 4,
  "vscode": {
   "interpreter": {
    "hash": "51e4f816afd506db7bb7650607a3e2e026e40398beddcc9e11824953f6978b8d"
   }
  }
 },
 "nbformat": 4,
 "nbformat_minor": 2
}
