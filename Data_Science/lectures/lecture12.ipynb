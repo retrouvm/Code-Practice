{
 "cells": [
  {
   "cell_type": "markdown",
   "metadata": {},
   "source": [
    "### bayes theorem\n",
    "* given the partition\n",
    "    * $B_{1}$, $B_{2}$, $B_{3}$,...,$B_{n}$\n",
    "    * $B_{m}$ ∩ $B_{n}$ = 0, n≠m\n",
    "    * $\\bigcup \\limits _{n=1} ^{N} B_{n}=S$\n",
    "* then\n",
    "    * $P(B_{n}|A)= \\frac{P(A \\cup B_{n})}{P(A)}=\\frac{P(A|B_{n})P(B_{n})}{P(A)}$\n",
    "* and\n",
    "    * $P(B_{n}|A)=\\frac{P(A|B_{n})P(B_{n})}{\\sum \\limits _{n=1} ^{N}P(A|B_{n})P(B_{n})}$\n",
    "        * from total probability"
   ]
  },
  {
   "cell_type": "markdown",
   "metadata": {},
   "source": [
    "### example\n",
    "* continued from previous:\n",
    "    * if a part is found defective, what is the probability C made it?\n",
    "        * $P(C|D)=\\frac{P(D|C)P(C)}{P(D)}=\\frac{P(D|C)P(C)}{P(D|A)P(A)+P(D|B)P(B)+P(D|C)P(C)}$\n",
    "            * => $\\frac{0.08*0.5}{0.073}$\n",
    "                * => 0.55 or 55%"
   ]
  }
 ],
 "metadata": {
  "language_info": {
   "name": "python"
  },
  "orig_nbformat": 4
 },
 "nbformat": 4,
 "nbformat_minor": 2
}
