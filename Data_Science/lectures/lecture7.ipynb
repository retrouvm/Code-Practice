{
 "cells": [
  {
   "cell_type": "markdown",
   "metadata": {},
   "source": [
    "## Lecture 7"
   ]
  },
  {
   "cell_type": "code",
   "execution_count": null,
   "metadata": {},
   "outputs": [],
   "source": [
    "#array indexing and slicing\n",
    "#Somewhat similar to python list, but much more flexible\n",
    "import numpy as np\n",
    "grades=[[79, 95, 60],\n",
    "        [95, 60, 61],\n",
    "        [99, 67, 84],\n",
    "        [76, 76, 97],\n",
    "        [91, 84, 98],\n",
    "        [70, 69, 96],\n",
    "        [88, 65, 76],\n",
    "        [67, 73, 80],\n",
    "        [82, 89, 61],\n",
    "        [94, 67, 88]]\n",
    "gArray =np.array(grades)\n",
    "print(gArray, \"\\n\")\n",
    "\n",
    "print(gArray[:,2], \"\\n\") #prints entire 3rd column\n",
    "print(gArray[0], \"\\n\") #prints first row, first nested list\n",
    "print(gArray[1:3], \"\\n\") #prints rows (lists) in indexes 1 and 2\n",
    "print(gArray[0][2], \"\\n\") #prints the value of the second index of the list in the zero'th index\n",
    "print(gArray[0,2],\"\\n\") #same as above\n",
    "print(gArray[:2,[0,2]],\"\\n\") #prints rows (nested lists) at indexes 0&1, but only their values in indexes 0&2\n",
    "print(gArray[[0,2],:],\"\\n\") #prints rows (nested lits) at indexes 0&2, all elements\n",
    "print(gArray[[0,2]][:,[0,2]],\"\\n\") #prints rows (nested lits) at indexes 0&2, but only their values in indexes 0&2\n",
    "print(gArray[np.ix_([0,2],[0,2])],\"\\n\") #np.ix_ creates subarray of select rows/columns from bigger array, basically slices arrays, this line of code prints exactly the same as the line above\n",
    "print(gArray[[0,2],[0,2]],\"\\n\") #prints rows (nested lits) at indexes 0&2, only value at index 0 row at index 0, and only value at index 2 for row at index 2\n",
    "\n",
    "a=np.array([1,2,3])\n",
    "print(a,\"\\n\")\n",
    "b=a[:2] #copies array (a) up to index 1\n",
    "print(b,\"\\n\")\n",
    "b[0]=10 #changes index 0 to 10\n",
    "print(b,\"\\n\")\n",
    "print(a, \"\\n\") #because b's copy of a's array was the same memory and object, the changes made to b, were also made to a\n",
    "\n",
    "#use .copy() to make a copy of an array explicitly\n",
    "arr2=gArray.copy() \n",
    "arr2 is gArray #check if they are using the same memory storage\n",
    "print()\n",
    "arr2[1,:]=100 #changes all values in row (nested list) at index 1 to 100\n",
    "print(arr2,\"\\n\")\n",
    "print(gArray[1,:],\"\\n\") #check if row at index 1 of the original array is still the same\n",
    "gArray[0,:]=100 #changes all values in row (nested list) at index 0 to 100\n",
    "print(gArray,\"\\n\")\n",
    "\n",
    "#boolean indexing\n",
    "#select record for female students\n",
    "female = [ True, False, True, True, False, True, False, False, False, False]\n",
    "print(gArray[female,:],\"\\n\") #each row of student scores are assigned to female gender at True within the 'female' array\n",
    "\n",
    "#select record for those who had <= 70 in final\n",
    "print(gArray[gArray[:,2]<70,:],\"\\n\")\n",
    "\n",
    "#anything < 70 is changed to 70\n",
    "gArray[gArray<70]=70\n",
    "print(gArray,\"\\n\")"
   ]
  },
  {
   "cell_type": "markdown",
   "metadata": {},
   "source": [
    "### reshaping and transposing"
   ]
  },
  {
   "cell_type": "code",
   "execution_count": null,
   "metadata": {},
   "outputs": [],
   "source": [
    "#Reshape and transpose only changes the view – still pointing to the same object!\n",
    "print(np.arange(6).reshape((2,3)),\"\\n\") #creates a matrix up to an index of 6 starting at 0, with a shape of 2x3, 2 rows by 3 columns\n",
    "print(np.arange(6).reshape((2,3),order='F'),\"\\n\") #‘F’ means to read / write the elements with the first index changing fastest, and the last index changing slowest\n",
    "print(np.arange(6).reshape(2,3).T,\"\\n\") #returns a view of the array with axes transposed -> interchanging each row and the corresponding column\n",
    "\n",
    "a=np.arange(6)\n",
    "print(a,\"\\n\")\n",
    "b=a.reshape((2,3))\n",
    "print(b,\"\\n\")\n",
    "b[0,0]=10 #assign value at row 0, column 0 the new value of 10\n",
    "print(b,\"\\n\")\n",
    "print(a,\"\\n\") #also changed a\n",
    "c=b.transpose()\n",
    "print(c,\"\\n\")\n",
    "c[0,0]=6\n",
    "print(c,\"\\n\")\n",
    "print(b,\"\\n\") #b also changed"
   ]
  },
  {
   "cell_type": "markdown",
   "metadata": {},
   "source": [
    "### matrix\n",
    "* a matrix is a rectangular array of numbers organized in rows and columns\n",
    "* if a matrix A has __m__ rows and __n__ columns, then we say that A is an __m__ x __n__ matrix\n",
    "* $a_{ij}$ is the element of A in row *i* and column *j*\n",
    "* __row__ *i* is the elements $a_{i1}$ $a_{i2}$... $a_{in}$\n",
    "* __column__ *j* is the elements $a_{1j}$ $a_{2j}$... $a_{mj}$"
   ]
  },
  {
   "cell_type": "markdown",
   "metadata": {},
   "source": [
    "### vectors\n",
    "* if a matrix has only one row, then it is a __row vector__\n",
    "    * example:$$\\big(\\begin{smallmatrix}1 & 2 & 4 & 0 & 1\\end{smallmatrix}\\big)$$\n",
    "* if a matrix has only on column, this it is a column vector\n",
    "    * example:$$\\begin{pmatrix}1 \\\\ 5 \\\\ -4 \\\\ 0\\end{pmatrix}$$"
   ]
  },
  {
   "cell_type": "markdown",
   "metadata": {},
   "source": [
    "### identity matrix\n",
    "* the __identity matrix__ is asquare matrix that has 1s on the main diagonal and 0s everywhere else\n",
    "* an identity matrix of order n x n is denoted $I_{n}$\n",
    "![](https://dcvp84mxptlac.cloudfront.net/diagrams2/equation-2-examples-of-identity-matrices-of-different-dimensions.png)"
   ]
  },
  {
   "cell_type": "markdown",
   "metadata": {},
   "source": [
    "### diagonal matrix\n",
    "* a __diagonal matrix__ is a square matrix such that every element that is not on the main diagonal is 0 ( elements on the main diagonal can be 0 or non-zero)\n",
    "* an n x n diagonal matrix is denoted by $D_{n}$\n",
    "    \n",
    "     ![](https://www.statlect.com/images/diagonal-matrix__11.png)"
   ]
  },
  {
   "cell_type": "markdown",
   "metadata": {},
   "source": [
    "### dot product\n",
    "* dot product is a multiplication of a row vector of order 1 x n with a column vector of order n x 1. the result is a scalar\n",
    "* it is obtained by multiplying the *i*th element of the row vector with the *i*th element of the row vector and then summing these products\n",
    "![](http://hyperphysics.phy-astr.gsu.edu/hbase/imgmec/matvec2.gif)"
   ]
  },
  {
   "cell_type": "code",
   "execution_count": null,
   "metadata": {},
   "outputs": [],
   "source": [
    "#dot product\n",
    "a=b=np.arange(5)\n",
    "print(a,\"\\n\")\n",
    "print(b,\"\\n\")\n",
    "print(a.dot(b),\"\\n\") #results in scalar"
   ]
  },
  {
   "cell_type": "markdown",
   "metadata": {},
   "source": [
    "### matrix multiplication"
   ]
  },
  {
   "cell_type": "code",
   "execution_count": null,
   "metadata": {},
   "outputs": [],
   "source": [
    "gArray =np.array(grades)\n",
    "print(gArray, \"\\n\")\n",
    "\n",
    "print(gArray.dot([0.3,0.3,0.4]),\"\\n\") #calculating average exam grade for each student, while also applying weight for each exam, with the final exam weighin more than the two midterms\n",
    "\n",
    "scaling=[1.1,1.05,1.03]\n",
    "print(np.diag(scaling),\"\\n\") #takes a list and creates a diagonal matrix\n",
    "print(gArray.dot(np.diag(scaling)),\"\\n\") #using dot product between the two matrices, we are curving the grades up\n",
    "\n",
    "print(gArray.max(axis=0)) #returns the max value for each column, axis=0 is for column, axis=1 is for row\n",
    "maxInExam=gArray.max(axis=0) #returns the max value for each column\n",
    "print(gArray.dot(np.diag(maxInExam/100)).round(),\"\\n\") #normalizing all the values and put it on a 100's scale\n"
   ]
  },
  {
   "cell_type": "code",
   "execution_count": null,
   "metadata": {},
   "outputs": [],
   "source": [
    "#basic array statistical methods\n",
    "a=np.random.randint(0,5,size=(2,3)) #prints a matrix of 2 x 3 size, with values indexing up to 5 starting at 0, but at random\n",
    "print(a,\"\\n\")\n",
    "\n",
    "print(a.sum(),\"\\n\") #sum of all elements in the array, zero length arrays have sum 0\n",
    "\n",
    "print(a.sum(axis=0),\"\\n\") #sum of all elements in each column\n",
    "\n",
    "print(a.sum(1),\"\\n\") #sum of all elements in each row\n",
    "\n",
    "print((a>3).any(0),\"\\n\") #checks if any values within the row at index 0 are greater than 3"
   ]
  },
  {
   "cell_type": "code",
   "execution_count": null,
   "metadata": {},
   "outputs": [],
   "source": [
    "#numpy.sort() and numpy.argsort()\n",
    "b=a.copy()\n",
    "c=b.sort()\n",
    "print(b,\"\\n\")\n",
    "print(c,\"\\n\")\n",
    "print(a,\"\\n\")\n",
    "\n",
    "b=a.copy()\n",
    "b.sort(axis=0)\n",
    "print(b,\"\\n\")\n",
    "\n",
    "a=np.array([[4,1,2],[3,1,4]])\n",
    "print(a,\"\\n\")\n",
    "ind=a.argsort(axis=-1)\n",
    "print(ind,\"\\n\")\n",
    "\n",
    "print(a[:,ind[0]],\"\\n\")\n",
    "print(a[:,ind[1]])"
   ]
  },
  {
   "cell_type": "code",
   "execution_count": null,
   "metadata": {},
   "outputs": [],
   "source": [
    "#adjacency matrix for a graph\n",
    "import numpy as np\n",
    "import matplotlib.pyplot as plt\n",
    "friends =np.array([[0,2],\n",
    "                   [0,6],\n",
    "                   [1,3],\n",
    "                   [1,6],\n",
    "                   [1,8],\n",
    "                   [2,8],\n",
    "                   [6,1],\n",
    "                   [4,5],\n",
    "                   [5,4],\n",
    "                   [4,7],\n",
    "                   [5,8],\n",
    "                   [6,7],\n",
    "                   [8,1],\n",
    "                   [8,2]])\n",
    "n=friends.max()\n",
    "frdGraph=np.zeros((n+1,n+1))\n",
    "frdGraph[friends[:,0],friends[:,1]]=1\n",
    "frdGraph[friends[:,1],friends[:,0]]=1\n",
    "plt.imshow(frdGraph)\n",
    "plt.xticks(range(9))\n",
    "friends"
   ]
  }
 ],
 "metadata": {
  "kernelspec": {
   "display_name": "Python 3.10.4 64-bit",
   "language": "python",
   "name": "python3"
  },
  "language_info": {
   "codemirror_mode": {
    "name": "ipython",
    "version": 3
   },
   "file_extension": ".py",
   "mimetype": "text/x-python",
   "name": "python",
   "nbconvert_exporter": "python",
   "pygments_lexer": "ipython3",
   "version": "3.10.4"
  },
  "orig_nbformat": 4,
  "vscode": {
   "interpreter": {
    "hash": "51e4f816afd506db7bb7650607a3e2e026e40398beddcc9e11824953f6978b8d"
   }
  }
 },
 "nbformat": 4,
 "nbformat_minor": 2
}
