{
 "cells": [
  {
   "cell_type": "code",
   "execution_count": null,
   "metadata": {},
   "outputs": [],
   "source": [
    "#array indexing and slicing\n",
    "#Somewhat similar to python list, but much more flexible\n",
    "import numpy as np\n",
    "grades=[[79, 95, 60],\n",
    "        [95, 60, 61],\n",
    "        [99, 67, 84],\n",
    "        [76, 76, 97],\n",
    "        [91, 84, 98],\n",
    "        [70, 69, 96],\n",
    "        [88, 65, 76],\n",
    "        [67, 73, 80],\n",
    "        [82, 89, 61],\n",
    "        [94, 67, 88]]\n",
    "gArray =np.array(grades)"
   ]
  }
 ],
 "metadata": {
  "language_info": {
   "name": "python"
  },
  "orig_nbformat": 4
 },
 "nbformat": 4,
 "nbformat_minor": 2
}
