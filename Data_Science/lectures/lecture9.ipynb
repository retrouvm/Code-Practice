{
 "cells": [
  {
   "cell_type": "markdown",
   "metadata": {},
   "source": [
    "## Lecture 9"
   ]
  },
  {
   "cell_type": "markdown",
   "metadata": {},
   "source": [
    "### standard score (z-score)\n",
    "* z = (x – μ) / σ\n",
    "* z-score is unit-less, can be + or -\n",
    "* z-score is a numerical measurement that describes a value's relationship to the mean of a group of values\n",
    "* when distribution is approx. normal, z-score can be conveniently mapped to probabilities\n",
    "* z-score is measured in terms of standard deviations from the mean\n",
    "* if a Z-score is 0, it indicates that the data point's score is identical to the mean score."
   ]
  },
  {
   "cell_type": "markdown",
   "metadata": {},
   "source": [
    "### correlation\n",
    "* measures the (linear) relationship between two variables, X = [x1, x2, …Xn], and Y = [y1, y2, …, yn]\n",
    "    * E.g. between one’s height and weight\n",
    "* Between results of two tests\n",
    "    * Problem: the two variables may be on different unit, different scale, or different distribution\n",
    "* Option 1: convert the measurement to standardized score (z-score)\n",
    "    * Pearson Correlation Coefficient\n",
    "* Option 2: sort the values and convert the measurement to ranks\n",
    "    * Spearman Rank Correlation Coefficient"
   ]
  },
  {
   "cell_type": "markdown",
   "metadata": {},
   "source": [
    "### pearson correlation coefficient\n",
    "* a single number that measures both the strength and direction of the linear relationship between two continuous variables\n",
    "* it has a value between -1 to 1, with a value of -1 meaning a total negative linear correlation, 0 being no correlation, and + 1 meaning a total positive correlation\n",
    "\n",
    "![](https://encrypted-tbn0.gstatic.com/images?q=tbn:ANd9GcTmg0dRoJ1DiowlpdYiJy3G3SoMtC1wrFPhMw&usqp=CAU)"
   ]
  },
  {
   "cell_type": "code",
   "execution_count": null,
   "metadata": {},
   "outputs": [],
   "source": [
    "import numpy as np\n",
    "import matplotlib.pyplot as plt"
   ]
  },
  {
   "cell_type": "code",
   "execution_count": null,
   "metadata": {},
   "outputs": [],
   "source": [
    "friends = np.array([ 70, 65, 72, 63, 71, 64, 60, 64, 67])\n",
    "minutes = np.array([175, 170, 205, 120, 220, 130, 105, 145, 190])\n",
    "\n",
    "#to calculate z-score\n",
    "def zscore(numArray):\n",
    "    return(numArray-np.mean(numArray))/np.std(numArray)\n",
    "zfriends=zscore(friends)\n",
    "zminutes=zscore(minutes)\n",
    "\n",
    "plt.scatter(zfriends,zminutes)#using the range/scale of z-score, normalized\n",
    "plt.xlabel('z_friends')\n",
    "plt.ylabel('z_minutes')\n",
    "plt.show()"
   ]
  },
  {
   "cell_type": "code",
   "execution_count": null,
   "metadata": {},
   "outputs": [],
   "source": [
    "#to calculate pearson correlation coefficient\n",
    "\n",
    "#z-score of Xi multiplied by the z-score of Yi\n",
    "zfriends.dot(zminutes)/len(friends)\n",
    "#using np.corrcoef gives the same result as the dot product\n",
    "np.corrcoef(friends,minutes)"
   ]
  },
  {
   "cell_type": "code",
   "execution_count": null,
   "metadata": {},
   "outputs": [],
   "source": [
    "#Pearson correlation coefficient is sensitive to outliers\n",
    "friends2=np.append(friends,1) #adding point to friends array\n",
    "minutes2=np.append(minutes,1000) #adding point to minutes array\n",
    "np.corrcoef(friends2, minutes2)[0,1] #[0,1] only returns the value in the 0,1 spot within the matrix\n",
    "\n",
    "#what happens to original plot when you add new points\n",
    "plt.scatter(friends2,minutes2)\n",
    "plt.show() #the same distribution of points will show on a z-score plot, but with different scale"
   ]
  },
  {
   "cell_type": "markdown",
   "metadata": {},
   "source": [
    "### Spearman Rank Correlation Coefficient \n",
    "* a technique which can be used to summarise the strength and direction (negative or positive) of a relationship between two variables\n",
    "* result will always be between 1 and -1\n",
    "    * a value of +1 means a perfect association of rank\n",
    "    * a value of 0 means that there is no association between ranks\n",
    "    * a value of -1 means a perfect negative association of rank\n",
    "* di = difference between the two ranks of each observation\n",
    "* n = number of observations\n",
    "\n",
    "![](https://www.simplilearn.com/ice9/free_resources_article_thumb/Spearman%E2%80%99s_Rank_Correlation_2.png)\n"
   ]
  }
 ],
 "metadata": {
  "kernelspec": {
   "display_name": "Python 3.10.4 64-bit",
   "language": "python",
   "name": "python3"
  },
  "language_info": {
   "codemirror_mode": {
    "name": "ipython",
    "version": 3
   },
   "file_extension": ".py",
   "mimetype": "text/x-python",
   "name": "python",
   "nbconvert_exporter": "python",
   "pygments_lexer": "ipython3",
   "version": "3.10.4"
  },
  "orig_nbformat": 4,
  "vscode": {
   "interpreter": {
    "hash": "51e4f816afd506db7bb7650607a3e2e026e40398beddcc9e11824953f6978b8d"
   }
  }
 },
 "nbformat": 4,
 "nbformat_minor": 2
}
