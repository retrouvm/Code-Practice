{
 "cells": [
  {
   "cell_type": "markdown",
   "metadata": {},
   "source": [
    "## Lecture 9"
   ]
  },
  {
   "cell_type": "markdown",
   "metadata": {},
   "source": [
    "### standard score (z-score)\n",
    "* z = (x – μ) / σ\n",
    "* z-score is unit-less, can be + or -\n",
    "* z-score is a numerical measurement that describes a value's relationship to the mean of a group of values\n",
    "* when distribution is approx. normal, z-score can be conveniently mapped to probabilities\n",
    "* z-score is measured in terms of standard deviations from the mean\n",
    "* if a Z-score is 0, it indicates that the data point's score is identical to the mean score."
   ]
  },
  {
   "cell_type": "markdown",
   "metadata": {},
   "source": [
    "### correlation\n",
    "* measures the (linear) relationship between two variables, X = [x1, x2, …Xn], and Y = [y1, y2, …, yn]\n",
    "    * E.g. between one’s height and weight\n",
    "* Between results of two tests\n",
    "    * Problem: the two variables may be on different unit, different scale, or different distribution\n",
    "* Option 1: convert the measurement to standardized score (z-score)\n",
    "    * Pearson Correlation Coefficient\n",
    "* Option 2: sort the values and convert the measurement to ranks\n",
    "    * Spearman Rank Correlation Coefficient"
   ]
  },
  {
   "cell_type": "markdown",
   "metadata": {},
   "source": [
    "### pearson correlation coefficient\n",
    "* a single number that measures both the strength and direction of the linear relationship between two continuous variables\n",
    "* it has a value between -1 to 1, with a value of -1 meaning a total negative linear correlation, 0 being no correlation, and + 1 meaning a total positive correlation\n",
    "\n",
    "![](https://encrypted-tbn0.gstatic.com/images?q=tbn:ANd9GcTmg0dRoJ1DiowlpdYiJy3G3SoMtC1wrFPhMw&usqp=CAU)"
   ]
  },
  {
   "cell_type": "code",
   "execution_count": 64,
   "metadata": {},
   "outputs": [],
   "source": [
    "import numpy as np\n",
    "import matplotlib.pyplot as plt"
   ]
  },
  {
   "cell_type": "code",
   "execution_count": null,
   "metadata": {},
   "outputs": [],
   "source": [
    "friends = np.array([ 70, 65, 72, 63, 71, 64, 60, 64, 67])\n",
    "minutes = np.array([175, 170, 205, 120, 220, 130, 105, 145, 190])\n",
    "\n",
    "#to calculate z-score\n",
    "def zscore(numArray):\n",
    "    return(numArray-np.mean(numArray))/np.std(numArray)\n",
    "zfriends=zscore(friends)\n",
    "zminutes=zscore(minutes)\n",
    "\n",
    "plt.scatter(zfriends,zminutes)#using the range/scale of z-score, normalized\n",
    "plt.xlabel('z_friends')\n",
    "plt.ylabel('z_minutes')\n",
    "plt.show()"
   ]
  },
  {
   "cell_type": "code",
   "execution_count": null,
   "metadata": {},
   "outputs": [],
   "source": [
    "#to calculate pearson correlation coefficient\n",
    "\n",
    "#z-score of Xi multiplied by the z-score of Yi\n",
    "zfriends.dot(zminutes)/len(friends)\n",
    "#using np.corrcoef gives the same result as the dot product\n",
    "np.corrcoef(friends,minutes)"
   ]
  },
  {
   "cell_type": "code",
   "execution_count": null,
   "metadata": {},
   "outputs": [],
   "source": [
    "#Pearson correlation coefficient is sensitive to outliers\n",
    "friends2=np.append(friends,1) #adding point to friends array\n",
    "minutes2=np.append(minutes,1000) #adding point to minutes array\n",
    "np.corrcoef(friends2, minutes2)[0,1] #[0,1] only returns the value in the 0,1 spot within the matrix\n",
    "\n",
    "#what happens to original plot when you add outliers\n",
    "plt.scatter(friends2,minutes2)\n",
    "plt.show() #the same distribution of points will show on a z-score plot, but with different scale"
   ]
  },
  {
   "cell_type": "markdown",
   "metadata": {},
   "source": [
    "### Spearman Rank Correlation Coefficient \n",
    "* a technique which can be used to summarise the strength and direction (negative or positive) of a relationship between two variables\n",
    "* result will always be between 1 and -1\n",
    "    * a value of +1 means a perfect association of rank\n",
    "    * a value of 0 means that there is no association between ranks\n",
    "    * a value of -1 means a perfect negative association of rank\n",
    "* di = difference between the two ranks of each observation\n",
    "* n = number of observations\n",
    "\n",
    "![](https://www.simplilearn.com/ice9/free_resources_article_thumb/Spearman%E2%80%99s_Rank_Correlation_2.png)\n"
   ]
  },
  {
   "cell_type": "code",
   "execution_count": null,
   "metadata": {},
   "outputs": [],
   "source": [
    "#to compute Spearman’s correlation, we have to compute the rank of each value, which is its index in the sorted sample\n",
    "#then we compute Pearson’s correlation for the ranks\n",
    "\n",
    "#argsort->perform an indirect sort along the given axis using the algorithm specified by the \"kind\" keyword\n",
    "#returns an array of indices of the same shape as the given array to sort that index data in sorted order.\n",
    "friends_rank = np.argsort(np.argsort(friends))\n",
    "#np.argsort(friends) returns an array of the indexes of the elements in friends in sorted order from least to greatest\n",
    "#np.argsort(np.argsort(friends)) returns an array of of the elements in np.argsort(friends) in sorted order from least to greatest\n",
    "minutes_rank = np.argsort(np.argsort(minutes))\n",
    "\n",
    "print(np.corrcoef(friends_rank, minutes_rank)[0,1]) #Return Pearson product-moment correlation coefficients\n",
    "plt.scatter(friends_rank,minutes_rank)\n",
    "\n",
    "#testing dataset with outliers, dataset points marked with diamonds\n",
    "friends_rank2 = np.argsort(np.argsort(friends2))\n",
    "minutes_rank2 = np.argsort(np.argsort(minutes2))\n",
    "print(np.corrcoef(friends_rank2, minutes_rank2)[0,1]) #Return Pearson product-moment correlation coefficients\n",
    "plt.scatter(friends_rank2,minutes_rank2,marker=\"d\")\n",
    "plt.show()"
   ]
  },
  {
   "cell_type": "markdown",
   "metadata": {},
   "source": [
    "### correlation\n",
    "* correlation only measures linear relationship\n",
    "* correlation does not imply causation\n",
    "* In general, correlation between two variables does not tell you\n",
    "whether one causes the other, or the other way around or whether\n",
    "they might both be caused by something else altogether. \n",
    "* Ways to help figure out: time, randomized controlled trial, etc. \n",
    "\n",
    "![](https://greenteapress.com/thinkstats/html/thinkstats018.png)\n",
    "![](https://greenteapress.com/thinkstats/html/thinkstats023.png)"
   ]
  },
  {
   "cell_type": "markdown",
   "metadata": {},
   "source": [
    "### probability mass function\n",
    "* a function over the sample space of a discrete random variable X which gives the probability that X is equal to a certain value\n",
    "* f(x)=P[X=x]"
   ]
  },
  {
   "cell_type": "code",
   "execution_count": 65,
   "metadata": {},
   "outputs": [
    {
     "ename": "TypeError",
     "evalue": "'str' object is not callable",
     "output_type": "error",
     "traceback": [
      "\u001b[1;31m---------------------------------------------------------------------------\u001b[0m",
      "\u001b[1;31mTypeError\u001b[0m                                 Traceback (most recent call last)",
      "\u001b[1;32mc:\\Users\\rmani\\.vscode\\jupyterf\\Data_Science\\lectures\\lecture9.ipynb Cell 13'\u001b[0m in \u001b[0;36m<cell line: 34>\u001b[1;34m()\u001b[0m\n\u001b[0;32m     <a href='vscode-notebook-cell:/c%3A/Users/rmani/.vscode/jupyterf/Data_Science/lectures/lecture9.ipynb#ch0000016?line=31'>32</a>\u001b[0m hist \u001b[39m=\u001b[39m thinkstats2\u001b[39m.\u001b[39mHist(live\u001b[39m.\u001b[39mbirthwgt_lb, label\u001b[39m=\u001b[39m\u001b[39m\"\u001b[39m\u001b[39mbirthwgt_lb\u001b[39m\u001b[39m\"\u001b[39m)\n\u001b[0;32m     <a href='vscode-notebook-cell:/c%3A/Users/rmani/.vscode/jupyterf/Data_Science/lectures/lecture9.ipynb#ch0000016?line=32'>33</a>\u001b[0m thinkplot\u001b[39m.\u001b[39mHist(hist)\n\u001b[1;32m---> <a href='vscode-notebook-cell:/c%3A/Users/rmani/.vscode/jupyterf/Data_Science/lectures/lecture9.ipynb#ch0000016?line=33'>34</a>\u001b[0m thinkplot\u001b[39m.\u001b[39;49mConfig(xlabel\u001b[39m=\u001b[39;49m\u001b[39m\"\u001b[39;49m\u001b[39mBirth weight (pounds)\u001b[39;49m\u001b[39m\"\u001b[39;49m, ylabel\u001b[39m=\u001b[39;49m\u001b[39m\"\u001b[39;49m\u001b[39mFrequency\u001b[39;49m\u001b[39m\"\u001b[39;49m)\n",
      "File \u001b[1;32mc:\\Users\\rmani\\.vscode\\jupyterf\\Data_Science\\lectures\\thinkplot.py:683\u001b[0m, in \u001b[0;36mConfig\u001b[1;34m(**options)\u001b[0m\n\u001b[0;32m    681\u001b[0m \u001b[39mfor\u001b[39;00m name \u001b[39min\u001b[39;00m names:\n\u001b[0;32m    682\u001b[0m     \u001b[39mif\u001b[39;00m name \u001b[39min\u001b[39;00m options:\n\u001b[1;32m--> 683\u001b[0m         \u001b[39mgetattr\u001b[39;49m(plt, name)(options[name])\n\u001b[0;32m    685\u001b[0m \u001b[39mglobal\u001b[39;00m LEGEND\n\u001b[0;32m    686\u001b[0m LEGEND \u001b[39m=\u001b[39m options\u001b[39m.\u001b[39mget(\u001b[39m'\u001b[39m\u001b[39mlegend\u001b[39m\u001b[39m'\u001b[39m, LEGEND)\n",
      "\u001b[1;31mTypeError\u001b[0m: 'str' object is not callable"
     ]
    },
    {
     "data": {
      "image/png": "[encoded data removed]",
      "text/plain": [
       "<Figure size 432x288 with 1 Axes>"
      ]
     },
     "metadata": {
      "needs_background": "light"
     },
     "output_type": "display_data"
    }
   ],
   "source": [
    "from os.path import basename, exists\n",
    "\n",
    "\n",
    "def download(url):\n",
    "    filename = basename(url)\n",
    "    if not exists(filename):\n",
    "        from urllib.request import urlretrieve\n",
    "\n",
    "        local, _ = urlretrieve(url, filename)\n",
    "        print(\"Downloaded \" + local)\n",
    "\n",
    "\n",
    "download(\"https://github.com/AllenDowney/ThinkStats2/raw/master/code/thinkstats2.py\")\n",
    "download(\"https://github.com/AllenDowney/ThinkStats2/raw/master/code/thinkplot.py\")\n",
    "download(\"https://github.com/AllenDowney/ThinkStats2/raw/master/code/nsfg.py\")\n",
    "download(\"https://github.com/AllenDowney/ThinkStats2/raw/master/code/first.py\")\n",
    "\n",
    "\n",
    "download(\"https://github.com/AllenDowney/ThinkStats2/raw/master/code/2002FemPreg.dct\")\n",
    "download(\n",
    "    \"https://github.com/AllenDowney/ThinkStats2/raw/master/code/2002FemPreg.dat.gz\"\n",
    ")\n",
    "\n",
    "import nsfg\n",
    "import first\n",
    "import thinkstats2\n",
    "import thinkplot\n",
    "\n",
    "preg = nsfg.ReadFemPreg()\n",
    "live = preg[preg.outcome == 1]\n",
    "\n",
    "hist = thinkstats2.Hist(live.birthwgt_lb, label=\"birthwgt_lb\")\n",
    "thinkplot.Hist(hist)\n",
    "thinkplot.Config(xlabel=\"Birth weight (pounds)\", ylabel=\"Frequency\")"
   ]
  },
  {
   "cell_type": "code",
   "execution_count": 63,
   "metadata": {},
   "outputs": [
    {
     "ename": "TypeError",
     "evalue": "'str' object is not callable",
     "output_type": "error",
     "traceback": [
      "\u001b[1;31m---------------------------------------------------------------------------\u001b[0m",
      "\u001b[1;31mTypeError\u001b[0m                                 Traceback (most recent call last)",
      "\u001b[1;32mc:\\Users\\rmani\\.vscode\\jupyterf\\Data_Science\\lectures\\lecture9.ipynb Cell 14'\u001b[0m in \u001b[0;36m<cell line: 8>\u001b[1;34m()\u001b[0m\n\u001b[0;32m      <a href='vscode-notebook-cell:/c%3A/Users/rmani/.vscode/jupyterf/Data_Science/lectures/lecture9.ipynb#ch0000019?line=3'>4</a>\u001b[0m     pmf[x] \u001b[39m=\u001b[39m freq \u001b[39m/\u001b[39m n\n\u001b[0;32m      <a href='vscode-notebook-cell:/c%3A/Users/rmani/.vscode/jupyterf/Data_Science/lectures/lecture9.ipynb#ch0000019?line=6'>7</a>\u001b[0m thinkplot\u001b[39m.\u001b[39mHist(pmf)\n\u001b[1;32m----> <a href='vscode-notebook-cell:/c%3A/Users/rmani/.vscode/jupyterf/Data_Science/lectures/lecture9.ipynb#ch0000019?line=7'>8</a>\u001b[0m thinkplot\u001b[39m.\u001b[39;49mConfig(xlabel\u001b[39m=\u001b[39;49m\u001b[39m\"\u001b[39;49m\u001b[39mBirth weight (pounds)\u001b[39;49m\u001b[39m\"\u001b[39;49m, ylabel\u001b[39m=\u001b[39;49m\u001b[39m\"\u001b[39;49m\u001b[39mProbability\u001b[39;49m\u001b[39m\"\u001b[39;49m)\n",
      "File \u001b[1;32mc:\\Users\\rmani\\.vscode\\jupyterf\\Data_Science\\lectures\\thinkplot.py:683\u001b[0m, in \u001b[0;36mConfig\u001b[1;34m(**options)\u001b[0m\n\u001b[0;32m    681\u001b[0m \u001b[39mfor\u001b[39;00m name \u001b[39min\u001b[39;00m names:\n\u001b[0;32m    682\u001b[0m     \u001b[39mif\u001b[39;00m name \u001b[39min\u001b[39;00m options:\n\u001b[1;32m--> 683\u001b[0m         \u001b[39mgetattr\u001b[39;49m(plt, name)(options[name])\n\u001b[0;32m    685\u001b[0m \u001b[39mglobal\u001b[39;00m LEGEND\n\u001b[0;32m    686\u001b[0m LEGEND \u001b[39m=\u001b[39m options\u001b[39m.\u001b[39mget(\u001b[39m'\u001b[39m\u001b[39mlegend\u001b[39m\u001b[39m'\u001b[39m, LEGEND)\n",
      "\u001b[1;31mTypeError\u001b[0m: 'str' object is not callable"
     ]
    },
    {
     "data": {
      "image/png": "[encoded data removed]",
      "text/plain": [
       "<Figure size 432x288 with 1 Axes>"
      ]
     },
     "metadata": {
      "needs_background": "light"
     },
     "output_type": "display_data"
    }
   ],
   "source": [
    "\n",
    "n = hist.Total()\n",
    "pmf = hist.Copy()\n",
    "for x, freq in hist.Items():\n",
    "    pmf[x] = freq / n\n",
    "    \n",
    "\n",
    "thinkplot.Hist(pmf)\n",
    "thinkplot.Config(xlabel=\"Birth weight (pounds)\", ylabel=\"Probability\")"
   ]
  },
  {
   "cell_type": "code",
   "execution_count": null,
   "metadata": {},
   "outputs": [],
   "source": [
    "hist = thinkstats2.Hist(live.prglngth, label=\"prglngth\")\n",
    "pmf = thinkstats2.Pmf(live.prglngth, label=\"prglngth\")\n",
    "thinkplot.Hist(hist)\n",
    "thinkplot.Config(xlabel=\"Pregnancy length (weeks)\", ylabel=\"Frequency\")\n",
    "plt.show()\n",
    "thinkplot.Pmf(pmf)\n",
    "thinkplot.Config(xlabel=\"Pregnancy length (weeks)\", ylabel=\"Pmf\")\n",
    "plt.show()"
   ]
  },
  {
   "cell_type": "code",
   "execution_count": 67,
   "metadata": {},
   "outputs": [
    {
     "ename": "TypeError",
     "evalue": "'str' object is not callable",
     "output_type": "error",
     "traceback": [
      "\u001b[1;31m---------------------------------------------------------------------------\u001b[0m",
      "\u001b[1;31mTypeError\u001b[0m                                 Traceback (most recent call last)",
      "\u001b[1;32mc:\\Users\\rmani\\.vscode\\jupyterf\\Data_Science\\lectures\\lecture9.ipynb Cell 16'\u001b[0m in \u001b[0;36m<cell line: 11>\u001b[1;34m()\u001b[0m\n\u001b[0;32m      <a href='vscode-notebook-cell:/c%3A/Users/rmani/.vscode/jupyterf/Data_Science/lectures/lecture9.ipynb#ch0000028?line=8'>9</a>\u001b[0m thinkplot\u001b[39m.\u001b[39mHist(first_pmf, align\u001b[39m=\u001b[39m\u001b[39m\"\u001b[39m\u001b[39mright\u001b[39m\u001b[39m\"\u001b[39m, width\u001b[39m=\u001b[39mwidth)\n\u001b[0;32m     <a href='vscode-notebook-cell:/c%3A/Users/rmani/.vscode/jupyterf/Data_Science/lectures/lecture9.ipynb#ch0000028?line=9'>10</a>\u001b[0m thinkplot\u001b[39m.\u001b[39mHist(other_pmf, align\u001b[39m=\u001b[39m\u001b[39m\"\u001b[39m\u001b[39mleft\u001b[39m\u001b[39m\"\u001b[39m, width\u001b[39m=\u001b[39mwidth)\n\u001b[1;32m---> <a href='vscode-notebook-cell:/c%3A/Users/rmani/.vscode/jupyterf/Data_Science/lectures/lecture9.ipynb#ch0000028?line=10'>11</a>\u001b[0m thinkplot\u001b[39m.\u001b[39;49mConfig(xlabel\u001b[39m=\u001b[39;49m\u001b[39m\"\u001b[39;49m\u001b[39mPregnancy length(weeks)\u001b[39;49m\u001b[39m\"\u001b[39;49m, ylabel\u001b[39m=\u001b[39;49m\u001b[39m\"\u001b[39;49m\u001b[39mPMF\u001b[39;49m\u001b[39m\"\u001b[39;49m, axis\u001b[39m=\u001b[39;49maxis)\n\u001b[0;32m     <a href='vscode-notebook-cell:/c%3A/Users/rmani/.vscode/jupyterf/Data_Science/lectures/lecture9.ipynb#ch0000028?line=12'>13</a>\u001b[0m thinkplot\u001b[39m.\u001b[39mPrePlot(\u001b[39m2\u001b[39m)\n\u001b[0;32m     <a href='vscode-notebook-cell:/c%3A/Users/rmani/.vscode/jupyterf/Data_Science/lectures/lecture9.ipynb#ch0000028?line=13'>14</a>\u001b[0m thinkplot\u001b[39m.\u001b[39mSubPlot(\u001b[39m2\u001b[39m)\n",
      "File \u001b[1;32mc:\\Users\\rmani\\.vscode\\jupyterf\\Data_Science\\lectures\\thinkplot.py:683\u001b[0m, in \u001b[0;36mConfig\u001b[1;34m(**options)\u001b[0m\n\u001b[0;32m    681\u001b[0m \u001b[39mfor\u001b[39;00m name \u001b[39min\u001b[39;00m names:\n\u001b[0;32m    682\u001b[0m     \u001b[39mif\u001b[39;00m name \u001b[39min\u001b[39;00m options:\n\u001b[1;32m--> 683\u001b[0m         \u001b[39mgetattr\u001b[39;49m(plt, name)(options[name])\n\u001b[0;32m    685\u001b[0m \u001b[39mglobal\u001b[39;00m LEGEND\n\u001b[0;32m    686\u001b[0m LEGEND \u001b[39m=\u001b[39m options\u001b[39m.\u001b[39mget(\u001b[39m'\u001b[39m\u001b[39mlegend\u001b[39m\u001b[39m'\u001b[39m, LEGEND)\n",
      "\u001b[1;31mTypeError\u001b[0m: 'str' object is not callable"
     ]
    },
    {
     "data": {
      "image/png": "[encoded data removed]",
      "text/plain": [
       "<Figure size 864x432 with 1 Axes>"
      ]
     },
     "metadata": {
      "needs_background": "light"
     },
     "output_type": "display_data"
    }
   ],
   "source": [
    "live, firsts, others = first.MakeFrames()\n",
    "\n",
    "first_pmf = thinkstats2.Pmf(firsts.prglngth, label=\"firsts\")\n",
    "other_pmf = thinkstats2.Pmf(others.prglngth, label=\"others\")\n",
    "\n",
    "width = 0.45\n",
    "axis = [27, 46, 0, 0.6]\n",
    "thinkplot.PrePlot(2, cols=2)\n",
    "thinkplot.Hist(first_pmf, align=\"right\", width=width)\n",
    "thinkplot.Hist(other_pmf, align=\"left\", width=width)\n",
    "thinkplot.Config(xlabel=\"Pregnancy length(weeks)\", ylabel=\"PMF\", axis=axis)\n",
    "\n",
    "thinkplot.PrePlot(2)\n",
    "thinkplot.SubPlot(2)\n",
    "thinkplot.Pmfs([first_pmf, other_pmf])\n",
    "thinkplot.Config(xlabel=\"Pregnancy length(weeks)\", axis=axis)\n",
    "plt.show()\n",
    "weeks = range(35, 46)\n",
    "diffs = []\n",
    "for week in weeks:\n",
    "    p1 = first_pmf.Prob(week)\n",
    "    p2 = other_pmf.Prob(week)\n",
    "    diff = 100 * (p1 - p2)\n",
    "    diffs.append(diff)\n",
    "\n",
    "thinkplot.Bar(weeks, diffs)\n",
    "thinkplot.Config(xlabel='Pregnancy length(weeks)', ylabel='Difference (percentage points)')\n",
    "plt.show()"
   ]
  }
 ],
 "metadata": {
  "kernelspec": {
   "display_name": "Python 3.10.4 64-bit",
   "language": "python",
   "name": "python3"
  },
  "language_info": {
   "codemirror_mode": {
    "name": "ipython",
    "version": 3
   },
   "file_extension": ".py",
   "mimetype": "text/x-python",
   "name": "python",
   "nbconvert_exporter": "python",
   "pygments_lexer": "ipython3",
   "version": "3.10.4"
  },
  "orig_nbformat": 4,
  "vscode": {
   "interpreter": {
    "hash": "51e4f816afd506db7bb7650607a3e2e026e40398beddcc9e11824953f6978b8d"
   }
  }
 },
 "nbformat": 4,
 "nbformat_minor": 2
}
