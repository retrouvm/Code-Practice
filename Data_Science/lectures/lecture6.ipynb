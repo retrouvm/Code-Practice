{
 "cells": [
  {
   "cell_type": "markdown",
   "metadata": {},
   "source": [
    "## Lecture 6"
   ]
  },
  {
   "cell_type": "markdown",
   "metadata": {},
   "source": [
    "### line graph\n",
    "* good for showing trend"
   ]
  },
  {
   "cell_type": "code",
   "execution_count": null,
   "metadata": {},
   "outputs": [],
   "source": [
    "import matplotlib.pyplot as plt\n",
    "years = list(range(1950, 2011, 10))\n",
    "gdp1 = [300.2, 543.3, 1075.9, 2862.5, 5979.6, 10289.7, 14958.3]\n",
    "gdp2 = [226.0, 362.0, 928.0, 1992.0, 4931.0, 7488.0, 12147.0]\n",
    "gdp3 = [1206.0, 1057.0, 1081.0, 2940.0, 8813.0, 13502.0, 19218.0]\n",
    "# create a line chart, years on x-axis, gdp on y-axis\n",
    "# use format string to specify color, marker, and line style\n",
    "# for gdp1 -> ‘bo-’: b for color=‘blue’, o for marker=‘o’, - for linestyle=‘solid’\n",
    "# for gdp2 -> ‘r*:’: r for color=‘red’, * for marker=‘*’, : for linestyle=‘dotted’\n",
    "# for gdp1 -> ‘gd-.’: g for color=‘green’, d for marker=‘d’, -. for linestyle=‘dashdot’\n",
    "plt.plot(years, gdp1,'bo-', years, gdp2, 'r*:', years, gdp3, 'gd-.')\n",
    "# add a title\n",
    "plt.title(\"Nominal GDP\")\n",
    "# add a label to the y-axis\n",
    "plt.ylabel(\"Billions of $\")\n",
    "# add a label to the x-axis\n",
    "plt.xlabel(\"Year\")\n",
    "# add legend\n",
    "plt.legend(['countryA','countryB','countryC'])"
   ]
  },
  {
   "cell_type": "markdown",
   "metadata": {},
   "source": [
    "### plotting in logarithm scale\n",
    "* a semi log plot is a graph where the data in one axis is on logarithmic scale (either X Axis or Y axis) and the data in the other axis is on normal scale – that is linear scale.\n",
    "* the function __semilogy()__ from matplotlib.pyplot module plots the y axis in\n",
    "logarithmic scale and the X axis in linear scale.\n",
    "* on a linear scale as the distance in the axis increases the corresponding value also increases linearly.\n",
    "* on a logarithmic scale as the distance in the axis increases the\n",
    "corresponding value increases exponentially.\n",
    "* examples of logarithmic scales include growth of microbes, mortality rate due to epidemics and so on\n",
    "* advantages: plotting in logarithm scale\n",
    "    * when the values of data vary between very small values and very large values – the linear scale will miss out the smaller values thus conveying a wrong picture of the underlying phenomenon.\n",
    "    * while using logarithmic scale both smaller valued data as well as bigger valued data can be captured in the plot more accurately to provide a holistic view of the data.\n",
    "    * logarithm scale plotting is often preferred to visualize changes over time"
   ]
  },
  {
   "cell_type": "code",
   "execution_count": null,
   "metadata": {},
   "outputs": [],
   "source": [
    "#Logarithm scale plotting is often preferred to visualize changes over time.\n",
    "import matplotlib.pyplot as plt\n",
    "years = list(range(1950, 2011, 10))\n",
    "gdp1 = [300.2, 543.3, 1075.9, 2862.5, 5979.6, 10289.7, 14958.3]\n",
    "gdp2 = [226.0, 362.0, 928.0, 1992.0, 4931.0, 7488.0, 12147.0]\n",
    "gdp3 = [1206.0, 1057.0, 1081.0, 2940.0, 8813.0, 13502.0, 19218.0]\n",
    "gdp4 = [500, 502, 503, 504, 508, 514, 524]\n",
    "# create a line chart, years on x-axis, gdp on y-axis\n",
    "# use format string to specify color, marker, and line style\n",
    "# for gdp1 -> ‘bo-’: b for color=‘blue’, o for marker=‘o’, - for linestyle=‘solid’\n",
    "# for gdp2 -> ‘r*:’: r for color=‘red’, * for marker=‘*’, : for linestyle=‘dotted’\n",
    "# for gdp1 -> ‘gd-.’: g for color=‘green’, d for marker=‘d’, -. for linestyle=‘dashdot’\n",
    "# for gdp1 -> ‘c--<’: c for color=‘cyan’, < for marker=‘<’, -- for linestyle=‘dashed’\n",
    "plt.semilogy(years, gdp1,'bo-', \n",
    "             years, gdp2, 'r*:', \n",
    "             years, gdp3, 'gd-.',\n",
    "             years, gdp4, 'c--<')\n",
    "# add a title\n",
    "plt.title(\"Nominal GDP\")\n",
    "# add a label to the y-axis\n",
    "plt.ylabel(\"Billions of $\")\n",
    "# add a label to the x-axis\n",
    "plt.xlabel(\"Year\")\n",
    "# add legend\n",
    "plt.legend(['countryA','countryB','countryC','countryD'])\n"
   ]
  },
  {
   "cell_type": "markdown",
   "metadata": {},
   "source": [
    "### bar charts\n",
    "* good for presenting/comparing numbers in discrete set of items\n",
    "* By default, the y-axis in a bar chart (or x-axis in barh) starts from 0, in contrast to a line chart."
   ]
  },
  {
   "cell_type": "code",
   "execution_count": null,
   "metadata": {},
   "outputs": [],
   "source": [
    "import matplotlib.pyplot as plt\n",
    "movies = [\"Annie Hall\", \"Ben-Hur\", \"Casablanca\", \"Gandhi\", \"West Side Story\"]\n",
    "num_oscars = [5, 11, 3, 8, 10]\n",
    "xs = range(len(movies)) # xs is range(5)\n",
    "# plot bars with left x-coordinates [xs],\n",
    "# heights [num_oscars]\n",
    "plt.bar(xs, num_oscars)\n",
    "# label x-axis with movie names at bar centers\n",
    "plt.xticks(xs, movies)\n",
    "# alternatively, use the following to replace\n",
    "# the two lines above\n",
    "#plt.bar(xs, num_oscars, tick_label=movies)\n",
    "plt.ylabel(\"# of Academy Awards\")\n",
    "plt.title(\"My Favorite Movies\")\n"
   ]
  },
  {
   "cell_type": "code",
   "execution_count": null,
   "metadata": {},
   "outputs": [],
   "source": [
    "\n",
    "#barh vs bar\n",
    "plt.barh(xs, num_oscars, tick_label=movies)\n",
    "plt.xlabel(\"# of Academy Awards\")\n",
    "plt.title(\"My Favorite Movies\")"
   ]
  },
  {
   "cell_type": "markdown",
   "metadata": {},
   "source": [
    "### scatterplots\n",
    "* good for visualizing the relationship between two paired sets of data\n",
    "* similar to line plot, the axes of scatter plot can auto scale.\n",
    "* can be set with xlim([xlow, xhigh]) or ylim([ylow, yhigh]) or axis([xlow,\n",
    "xhigh, ylow, yhigh])\n",
    "* or force equal range with axis(‘equal’)\n"
   ]
  },
  {
   "cell_type": "code",
   "execution_count": null,
   "metadata": {},
   "outputs": [],
   "source": [
    "import matplotlib.pyplot as plt\n",
    "friends = [ 70, 65, 72, 63, 71, 64, 60, 64, 67]\n",
    "minutes = [175, 170, 205, 120, 220, 130, 105, 145, 190]\n",
    "labels = ['a', 'b', 'c', 'd', 'e', 'f', 'g', 'h',\n",
    "'i']\n",
    "plt.scatter(friends, minutes)\n",
    "# label each point\n",
    "for i in range(len(friends)):\n",
    "    plt.annotate(labels[i],\n",
    "                 xy=(friends[i], minutes[i]),\n",
    "                 xytext=(5, 0),\n",
    "                 textcoords='offset points')\n",
    "plt.title(\"Daily Minutes vs. Number of Friends\")\n",
    "plt.xlabel(\"# of friends\")\n",
    "plt.ylabel(\"daily minutes spent on the site\")"
   ]
  },
  {
   "cell_type": "markdown",
   "metadata": {},
   "source": [
    "### numpy\n",
    "* stands for numerical python\n",
    "* is the fundamental package required for high performance computing and data analysis\n",
    "* it provides\n",
    "    * ndarray for creating multiple dimensional arrays\n",
    "    * standard math functions for fast operations on entire arrays of data without having to write loops\n",
    "    * tools for reading/writing array data\n",
    "    * linear algebra tools\n",
    "    * etc."
   ]
  },
  {
   "cell_type": "markdown",
   "metadata": {},
   "source": [
    "#### ndarray vs list of lists\n",
    "* ndarray is used for storage of homogeneous data\n",
    "    * i.e., all elements must be the same type\n",
    "* every array must have a shape\n",
    "* and a dtype\n",
    "* supports convenient slicing, indexing and efficient vectorized computation\n",
    "    * avoid for loops, and much more efficient"
   ]
  },
  {
   "cell_type": "code",
   "execution_count": null,
   "metadata": {},
   "outputs": [],
   "source": [
    "#arrays\n",
    "grades=[[79, 95, 60],\n",
    "        [95, 60, 61],\n",
    "        [99, 67, 84],\n",
    "        [76, 76, 97],\n",
    "        [91, 84, 98],\n",
    "        [70, 69, 96],\n",
    "        [88, 65, 76],\n",
    "        [67, 73, 80],\n",
    "        [82, 89, 61],\n",
    "        [94, 67, 88]]\n",
    "\n",
    "#How to get final exam grade of student 0? \n",
    "print(grades[0][2])\n",
    "#How to get grades of student 2?\n",
    "print(grades[2])\n",
    "\n",
    "#arrays cannot be used toa nswer the following questions, at least not in a very simple and uncomplicated way\n",
    "#>>>\n",
    "#How to get grades of all students in midterm 1?\n",
    "#How to get midterm grades of the first three students (or all female students, or those who failed final)?\n",
    "#How to get mean grade of each exam?\n",
    "#How to get (weighted) average exam grade for each student?"
   ]
  },
  {
   "cell_type": "code",
   "execution_count": null,
   "metadata": {},
   "outputs": [],
   "source": [
    "#ndarrays\n",
    "import numpy as np\n",
    "grades=[[79, 95, 60],\n",
    "        [95, 60, 61],\n",
    "        [99, 67, 84],\n",
    "        [76, 76, 97],\n",
    "        [91, 84, 98],\n",
    "        [70, 69, 96],\n",
    "        [88, 65, 76],\n",
    "        [67, 73, 80],\n",
    "        [82, 89, 61],\n",
    "        [94, 67, 88]]\n",
    "gArray =np.array(grades)\n",
    "#print(gArray)\n",
    "print(gArray[0,2]) #student one's final grade\n",
    "print(gArray[2,:]) #student at index 2's exam grades\n",
    "print(gArray[:,0]) #column one of the first exam grades for all students\n",
    "print(gArray[:3,:2]) # both midterm grades of the first three students\n",
    "\n",
    "#ndarray is used for storage of homogeneous data\n",
    "print(type(gArray))\n",
    "#every array must have a shape\n",
    "print(gArray.shape)\n",
    "print(gArray.ndim)\n",
    "#every array must also have a dtype\n",
    "print(gArray.dtype)"
   ]
  },
  {
   "cell_type": "code",
   "execution_count": null,
   "metadata": {},
   "outputs": [],
   "source": [
    "#creating ndarrays\n",
    "\n",
    "#np.array\n",
    "print(np.array([[0,1,2],[2,3,4]]))\n",
    "print()\n",
    "\n",
    "#np.zeros\n",
    "print(np.zeros((2,3)))\n",
    "print()\n",
    "\n",
    "#np.ones\n",
    "print(np.ones((2,3)))\n",
    "print()\n",
    "\n",
    "#np.eye\n",
    "print(np.eye(3))\n",
    "print()\n",
    "\n",
    "#np.arrange\n",
    "print(np.arange(0,10,2))\n",
    "print()\n",
    "\n",
    "#np.random\n",
    "print(np.random.randint(0,10,(3,3)))"
   ]
  },
  {
   "cell_type": "code",
   "execution_count": null,
   "metadata": {},
   "outputs": [],
   "source": [
    "#numpy data types\n",
    "import numpy as np\n",
    "grades=[[79, 95, 60],\n",
    "        [95, 60, 61],\n",
    "        [99, 67, 84],\n",
    "        [76, 76, 97],\n",
    "        [91, 84, 98],\n",
    "        [70, 69, 96],\n",
    "        [88, 65, 76],\n",
    "        [67, 73, 80],\n",
    "        [82, 89, 61],\n",
    "        [94, 67, 88]]\n",
    "gArray =np.array(grades)\n",
    "print(gArray.astype(float))\n",
    "print()\n",
    "\n",
    "num_string=np.array(['1.0','2.05','3'])\n",
    "print(num_string)\n",
    "print()\n",
    "print(num_string.astype(float))\n"
   ]
  },
  {
   "cell_type": "code",
   "execution_count": null,
   "metadata": {},
   "outputs": [],
   "source": [
    "#array operations\n",
    "import numpy as np\n",
    "arr=np.array([[0,1,2],[3,4,5]])\n",
    "print(arr)\n",
    "print()\n",
    "\n",
    "print(arr*2) #each element multiplied by 2\n",
    "print()\n",
    "\n",
    "print(arr**2) #each element to the power of 2\n",
    "print()\n",
    "\n",
    "print(2**arr) #2 to the power of the array elements\n",
    "print()\n",
    "\n",
    "print(arr*arr) #each element multiplied by the element in the corresponding element in the other array\n",
    "print()\n",
    "\n",
    "print(arr/(arr+1))"
   ]
  }
 ],
 "metadata": {
  "interpreter": {
   "hash": "51e4f816afd506db7bb7650607a3e2e026e40398beddcc9e11824953f6978b8d"
  },
  "kernelspec": {
   "display_name": "Python 3.10.4 64-bit",
   "language": "python",
   "name": "python3"
  },
  "language_info": {
   "codemirror_mode": {
    "name": "ipython",
    "version": 3
   },
   "file_extension": ".py",
   "mimetype": "text/x-python",
   "name": "python",
   "nbconvert_exporter": "python",
   "pygments_lexer": "ipython3",
   "version": "3.10.4"
  },
  "orig_nbformat": 4
 },
 "nbformat": 4,
 "nbformat_minor": 2
}
