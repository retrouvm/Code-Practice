{
 "cells": [
  {
   "cell_type": "markdown",
   "metadata": {},
   "source": [
    "## Lecture 8"
   ]
  },
  {
   "cell_type": "markdown",
   "metadata": {},
   "source": [
    "### central limit theorem\n",
    "![](https://miro.medium.com/max/1400/1*OcIhlsEvi6IXdwb5W3LXkg.png)\n",
    "* the mean of a large number of independently and identically distributed (iid) random variables (with mean µ and standard deviation σ) is approximately normally distributed, with mean µ and standard deviation σ/sqrt(n),where n is the sample size"
   ]
  },
  {
   "cell_type": "code",
   "execution_count": 1,
   "metadata": {},
   "outputs": [],
   "source": [
    "import numpy as np\n",
    "import matplotlib.pyplot as plt"
   ]
  },
  {
   "cell_type": "code",
   "execution_count": 15,
   "metadata": {},
   "outputs": [
    {
     "name": "stdout",
     "output_type": "stream",
     "text": [
      "population mean: 0.5004558639011377\n",
      "standard deviation: 0.2883521898058386\n",
      "mean of sampleMean: 0.5011157402833141\n",
      "std of sampleMean: 0.02959299346245386\n"
     ]
    },
    {
     "data": {
      "image/png": "[encoded data removed]",
      "text/plain": [
       "<Figure size 432x288 with 1 Axes>"
      ]
     },
     "metadata": {
      "needs_background": "light"
     },
     "output_type": "display_data"
    }
   ],
   "source": [
    "#simulation using uniform distribution\n",
    "a=np.random.rand(10**6) #creates an array of 10^6 random points/digits\n",
    "#len(a) #number of points we have\n",
    "print('population mean:',np.mean(a)) #returns mean of points\n",
    "#mean indicates the average of the data set\n",
    "print('standard deviation:',np.std(a)) #returns standard deviation of points\n",
    "#standard deviation indicates the dispersion of a dataset relative to its mean\n",
    "\n",
    "#now draw 100 samples, repeat 1000 times\n",
    "#save in a 100x1000 matrix\n",
    "b=np.random.choice(a,(100,1000),replace=False) #replace controls whether the sample is returned to the sample pool\n",
    "#if replace=False then the elements will not repeat in the random selected array\n",
    "\n",
    "#mean of each column\n",
    "sampleMean=np.mean(b,axis=0) #axis=0 -> points to columns\n",
    "#plot histogram\n",
    "#plt.hist(a,50) -> original data set (a), shows that all the values are extremeley close in frequency\n",
    "plt.hist(sampleMean,20) #20 means number of bars/beamns\n",
    "print('mean of sampleMean:',np.mean(sampleMean))\n",
    "print('std of sampleMean:',np.std(sampleMean))"
   ]
  },
  {
   "cell_type": "markdown",
   "metadata": {},
   "source": [
    "* A histogram represents the frequency distribution of continuous variables. Conversely, a bar graph is a diagrammatic comparison of discrete variables. Histogram presents numerical data whereas bar graph shows categorical data."
   ]
  },
  {
   "cell_type": "markdown",
   "metadata": {},
   "source": [
    "### error bar and confidence interval"
   ]
  },
  {
   "cell_type": "code",
   "execution_count": 16,
   "metadata": {},
   "outputs": [
    {
     "name": "stdout",
     "output_type": "stream",
     "text": [
      "[[ 7 47 96]\n",
      " [96 53 46]\n",
      " [90 65 54]\n",
      " [19 13  8]\n",
      " [82 18 49]\n",
      " [41  3 32]\n",
      " [43 92 26]\n",
      " [72 93 66]\n",
      " [50 12 31]\n",
      " [66 71 30]]\n"
     ]
    }
   ],
   "source": [
    "measures=np.random.randint(0,100,size=(10,3)) #generates a set of integers between 1-100 in the size of 10x3\n",
    "print(measures)"
   ]
  }
 ],
 "metadata": {
  "kernelspec": {
   "display_name": "Python 3.10.4 64-bit",
   "language": "python",
   "name": "python3"
  },
  "language_info": {
   "codemirror_mode": {
    "name": "ipython",
    "version": 3
   },
   "file_extension": ".py",
   "mimetype": "text/x-python",
   "name": "python",
   "nbconvert_exporter": "python",
   "pygments_lexer": "ipython3",
   "version": "3.10.4"
  },
  "orig_nbformat": 4,
  "vscode": {
   "interpreter": {
    "hash": "51e4f816afd506db7bb7650607a3e2e026e40398beddcc9e11824953f6978b8d"
   }
  }
 },
 "nbformat": 4,
 "nbformat_minor": 2
}
