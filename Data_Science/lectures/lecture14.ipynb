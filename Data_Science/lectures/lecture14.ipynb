{
 "cells": [
  {
   "cell_type": "markdown",
   "metadata": {},
   "source": [
    "# lecture 14"
   ]
  },
  {
   "cell_type": "markdown",
   "metadata": {},
   "source": [
    "### why pandas\n",
    "* One of the most popular library that data scientists use\n",
    "* Labeled axes to avoid misalignment of data\n",
    "    * Data[:, 2] represents weight or weight2?\n",
    "    * When merge two tables, some rows may be different\n",
    "* Missing values or special values may need to be removed or replaced\n",
    "* Powerful and productive Python data analysis and Management Library\n",
    "* Panel Data System"
   ]
  },
  {
   "cell_type": "markdown",
   "metadata": {},
   "source": [
    "### overview\n",
    "* Python Library to provide data analysis features similar to: R, MATLAB, SAS\n",
    "* Rich data structures and functions to make working with data structure fast, easy and expressive\n",
    "* It is built on top of NumPy\n",
    "* Key components provided by Pandas\n",
    "    * Series \n",
    "    * DataFrame"
   ]
  },
  {
   "cell_type": "code",
   "execution_count": null,
   "metadata": {},
   "outputs": [],
   "source": [
    "from pandas import Series, DataFrame\n",
    "import pandas as pd"
   ]
  },
  {
   "cell_type": "markdown",
   "metadata": {},
   "source": [
    "### series\n",
    "* One dimensional array-like object\n",
    "* It contains array of data (of any NumPy data type) with associated indexes. (Indexes can be strings or integers or other data types.) \n",
    "* By default , the series will get indexing from 0 to N where N = size -1"
   ]
  },
  {
   "cell_type": "code",
   "execution_count": null,
   "metadata": {},
   "outputs": [],
   "source": [
    "obj=Series([4,7,-5,3])\n",
    "print(obj,\"\\n\")\n",
    "print(obj.values,\"\\n\")\n",
    "print(obj.index)"
   ]
  },
  {
   "cell_type": "markdown",
   "metadata": {},
   "source": [
    "#### series-referencing elements"
   ]
  },
  {
   "cell_type": "code",
   "execution_count": null,
   "metadata": {},
   "outputs": [],
   "source": [
    "obj2=Series([4,7,-5,3],index=['d','b','a','c'])\n",
    "print(obj2,\"\\n\")\n",
    "print(obj2.index,\"\\n\")\n",
    "print(obj2.values,\"\\n\")\n",
    "\n",
    "#both statements return the same thing\n",
    "print(obj2['a'],\"\\n\")\n",
    "print(obj2.a,\"\\n\")\n",
    "\n",
    "obj2['d']=10\n",
    "print(obj2['d'],\"\\n\")\n",
    "print(obj2[['d','c','a']],\"\\n\")\n",
    "print(obj2[:2],\"\\n\")"
   ]
  },
  {
   "cell_type": "code",
   "execution_count": null,
   "metadata": {},
   "outputs": [],
   "source": [
    "print(obj2[obj2>0],\"\\n\") #returns filtered indexes based on values greates than zero\n",
    "print(obj2**2,\"\\n\") #returns indexes with their values raised to the power of two\n",
    "print('b' in obj2,\"\\n\")"
   ]
  },
  {
   "cell_type": "markdown",
   "metadata": {},
   "source": [
    "#### series-array/dict operations\n",
    "* numpy array operations can also be applied, which will preserve the index-value link\n",
    "* can be thought of as a dict\n",
    "* can be constructed from a dict directly"
   ]
  },
  {
   "cell_type": "code",
   "execution_count": 18,
   "metadata": {},
   "outputs": [
    {
     "name": "stdout",
     "output_type": "stream",
     "text": [
      "a    10\n",
      "b     5\n",
      "c    10\n",
      "dtype: int64\n"
     ]
    }
   ],
   "source": [
    "obj3=Series({'a':10,'b':5,'c':10})\n",
    "print(obj3)\n"
   ]
  },
  {
   "cell_type": "markdown",
   "metadata": {},
   "source": [
    "#### series-null values"
   ]
  },
  {
   "cell_type": "code",
   "execution_count": 20,
   "metadata": {},
   "outputs": [
    {
     "name": "stdout",
     "output_type": "stream",
     "text": [
      "Texas     10.0\n",
      "Ohio      20.0\n",
      "Oregon    15.0\n",
      "Iowa       NaN\n",
      "dtype: float64 \n",
      "\n",
      "Texas     False\n",
      "Ohio      False\n",
      "Oregon    False\n",
      "Iowa       True\n",
      "dtype: bool\n"
     ]
    }
   ],
   "source": [
    "sdata={'Texas':10,'Ohio':20,'Oregon':15,'Utah':18} #dictionary\n",
    "states=['Texas','Ohio','Oregon','Iowa'] #list\n",
    "#NaN values are generated when arithmetic operations result in undefined or unrepresentable values\n",
    "obj4=Series(sdata,index=states) #series of dict of data with an associated index of strings\n",
    "print(obj4,\"\\n\")\n",
    "print(pd.isnull(obj4)) #check if index values are null\n"
   ]
  }
 ],
 "metadata": {
  "kernelspec": {
   "display_name": "Python 3.10.4 64-bit",
   "language": "python",
   "name": "python3"
  },
  "language_info": {
   "codemirror_mode": {
    "name": "ipython",
    "version": 3
   },
   "file_extension": ".py",
   "mimetype": "text/x-python",
   "name": "python",
   "nbconvert_exporter": "python",
   "pygments_lexer": "ipython3",
   "version": "3.10.4"
  },
  "orig_nbformat": 4,
  "vscode": {
   "interpreter": {
    "hash": "51e4f816afd506db7bb7650607a3e2e026e40398beddcc9e11824953f6978b8d"
   }
  }
 },
 "nbformat": 4,
 "nbformat_minor": 2
}
