{
 "cells": [
  {
   "cell_type": "markdown",
   "metadata": {},
   "source": [
    "# lecture 14"
   ]
  },
  {
   "cell_type": "markdown",
   "metadata": {},
   "source": [
    "### why pandas\n",
    "* One of the most popular library that data scientists use\n",
    "* Labeled axes to avoid misalignment of data\n",
    "    * Data[:, 2] represents weight or weight2?\n",
    "    * When merge two tables, some rows may be different\n",
    "* Missing values or special values may need to be removed or replaced\n",
    "* Powerful and productive Python data analysis and Management Library\n",
    "* Panel Data System"
   ]
  },
  {
   "cell_type": "markdown",
   "metadata": {},
   "source": [
    "### overview\n",
    "* Python Library to provide data analysis features similar to: R, MATLAB, SAS\n",
    "* Rich data structures and functions to make working with data structure fast, easy and expressive\n",
    "* It is built on top of NumPy\n",
    "* Key components provided by Pandas\n",
    "    * Series \n",
    "    * DataFrame"
   ]
  },
  {
   "cell_type": "code",
   "execution_count": null,
   "metadata": {},
   "outputs": [],
   "source": [
    "from pandas import Series, DataFrame\n",
    "import pandas as pd"
   ]
  },
  {
   "cell_type": "markdown",
   "metadata": {},
   "source": [
    "### series\n",
    "* One dimensional array-like object\n",
    "* It contains array of data (of any NumPy data type) with associated indexes. (Indexes can be strings or integers or other data types.) \n",
    "* By default , the series will get indexing from 0 to N where N = size -1"
   ]
  },
  {
   "cell_type": "code",
   "execution_count": null,
   "metadata": {},
   "outputs": [],
   "source": [
    "obj=Series([4,7,-5,3])\n",
    "print(obj,\"\\n\")\n",
    "print(obj.values,\"\\n\")\n",
    "print(obj.index)"
   ]
  },
  {
   "cell_type": "markdown",
   "metadata": {},
   "source": [
    "#### series-referencing elements"
   ]
  },
  {
   "cell_type": "code",
   "execution_count": null,
   "metadata": {},
   "outputs": [],
   "source": [
    "obj2=Series([4,7,-5,3],index=['d','b','a','c'])\n",
    "print(obj2,\"\\n\")\n",
    "print(obj2.index,\"\\n\")\n",
    "print(obj2.values,\"\\n\")\n",
    "\n",
    "#both statements return the same thing\n",
    "print(obj2['a'],\"\\n\")\n",
    "print(obj2.a,\"\\n\")\n",
    "\n",
    "obj2['d']=10\n",
    "print(obj2['d'],\"\\n\")\n",
    "print(obj2[['d','c','a']],\"\\n\")\n",
    "print(obj2[:2],\"\\n\")"
   ]
  },
  {
   "cell_type": "code",
   "execution_count": null,
   "metadata": {},
   "outputs": [],
   "source": [
    "print(obj2[obj2>0],\"\\n\") #returns filtered indexes based on values greates than zero\n",
    "print(obj2**2,\"\\n\") #returns indexes with their values raised to the power of two\n",
    "print('b' in obj2,\"\\n\")"
   ]
  },
  {
   "cell_type": "markdown",
   "metadata": {},
   "source": [
    "#### series-array/dict operations\n",
    "* numpy array operations can also be applied, which will preserve the index-value link\n",
    "* can be thought of as a dict\n",
    "* can be constructed from a dict directly"
   ]
  },
  {
   "cell_type": "code",
   "execution_count": null,
   "metadata": {},
   "outputs": [],
   "source": [
    "obj3=Series({'a':10,'b':5,'c':10})\n",
    "print(obj3)\n"
   ]
  },
  {
   "cell_type": "markdown",
   "metadata": {},
   "source": [
    "#### series-null values"
   ]
  },
  {
   "cell_type": "code",
   "execution_count": null,
   "metadata": {},
   "outputs": [],
   "source": [
    "sdata={'Texas':10,'Ohio':20,'Oregon':15,'Utah':18} #dictionary\n",
    "states=['Texas','Ohio','Oregon','Iowa'] #list\n",
    "#NaN values are generated when arithmetic operations result in undefined or unrepresentable values\n",
    "obj4=Series(sdata,index=states) #series of dict of data with an associated index of strings\n",
    "print(obj4,\"\\n\")\n",
    "print(pd.isnull(obj4),\"\\n\") #check if index values are null, returns booleans\n",
    "print(pd.notnull(obj4),\"\\n\") #check if index values are not null, returns booleans\n",
    "print(obj4[obj4.notnull()]) #returns list of indexes of obj4 who's values are not null"
   ]
  },
  {
   "cell_type": "markdown",
   "metadata": {},
   "source": [
    "#### series-auto alignment"
   ]
  },
  {
   "cell_type": "code",
   "execution_count": null,
   "metadata": {},
   "outputs": [],
   "source": [
    "sdata={'Ohio': 20, 'Oregon': 15, 'Texas': 10,  'Utah': 18}\n",
    "obj5=Series(sdata)\n",
    "print(obj4,\"\\n\")\n",
    "print(obj5,\"\\n\")\n",
    "print(obj5+obj4,\"\\n\") #adds values of indexes that align"
   ]
  },
  {
   "cell_type": "markdown",
   "metadata": {},
   "source": [
    "#### series name and index name\n",
    "* Index of a series can be changed to a different index\n",
    "* Index object itself is immutable\n"
   ]
  },
  {
   "cell_type": "code",
   "execution_count": null,
   "metadata": {},
   "outputs": [],
   "source": [
    "obj4.name='population' #assign name of data series\n",
    "print(obj4,\"\\n\")\n",
    "\n",
    "obj4.index.name='state' #assign row label to 'state'\n",
    "print(obj4,\"\\n\")\n",
    "\n",
    "obj4.index= ['Florida', 'New York', 'Kentucky', 'Georgia']\n",
    "print(obj4,\"\\n\")\n",
    "\n",
    "#obj4.index[2]='California' -> TypeError: Index does not support mutable operations\n"
   ]
  },
  {
   "cell_type": "markdown",
   "metadata": {},
   "source": [
    "### dataframe\n",
    "* A DataFrame is a tabular data structure comprised of rows and columns, akin to a spreadsheet or database table\n",
    "* It can be treated as an order collection of  columns\n",
    "    * Each column can be a different data type\n",
    "    * Have both row and column indices"
   ]
  },
  {
   "cell_type": "code",
   "execution_count": null,
   "metadata": {},
   "outputs": [],
   "source": [
    "data= {'state': ['Ohio', 'Ohio', 'Ohio', 'Nevada', 'Nevada'],\n",
    "       'year': [2000, 2001, 2002, 2001, 2002],\n",
    "       'pop': [1.5, 1.7, 3.6, 2.4, 2.9]}\n",
    "frame = DataFrame(data)\n",
    "print(frame,\"\\n\")\n",
    "print(frame.sort_index(axis=1),\"\\n\") #ordered by columns, alpha-order"
   ]
  },
  {
   "cell_type": "markdown",
   "metadata": {},
   "source": [
    "#### dataframe– specifying columns and indices\n",
    "* Order of columns/rows can be specified\n",
    "* Columns not in data will have NaN"
   ]
  },
  {
   "cell_type": "code",
   "execution_count": 33,
   "metadata": {},
   "outputs": [
    {
     "name": "stdout",
     "output_type": "stream",
     "text": [
      "   year   state  pop debt\n",
      "A  2000    Ohio  1.5  NaN\n",
      "B  2001    Ohio  1.7  NaN\n",
      "C  2002    Ohio  3.6  NaN\n",
      "D  2001  Nevada  2.4  NaN\n",
      "E  2002  Nevada  2.9  NaN \n",
      "\n"
     ]
    }
   ],
   "source": [
    "data = {'state': ['Ohio', 'Ohio', 'Ohio', 'Nevada', 'Nevada'],\n",
    "        'year': [2000, 2001, 2002, 2001, 2002],\n",
    "        'pop': [1.5, 1.7, 3.6, 2.4, 2.9]}\n",
    "frame2 = DataFrame(data,\n",
    "                   columns=['year', 'state', 'pop', 'debt'], #columns can be renamed, in same order written\n",
    "                   index=['A', 'B', 'C', 'D', 'E']) #assigning labels of each row\n",
    "print(frame2,\"\\n\") #debt has no values, it is just an empty column, thus it is initialized with NaN\n"
   ]
  },
  {
   "cell_type": "markdown",
   "metadata": {},
   "source": [
    "#### dataframe– from nested dict of dicts\n",
    "* Outer dict keys as columns and inner dict keys as row indices\n",
    "* Union of inner keys (in sorted order)"
   ]
  },
  {
   "cell_type": "code",
   "execution_count": 35,
   "metadata": {},
   "outputs": [
    {
     "name": "stdout",
     "output_type": "stream",
     "text": [
      "      Nevada  Ohio\n",
      "2001     2.9   1.7\n",
      "2002     2.9   3.6\n",
      "2000     NaN   1.5 \n",
      "\n",
      "        2001  2002  2000\n",
      "Nevada   2.9   2.9   NaN\n",
      "Ohio     1.7   3.6   1.5 \n",
      "\n"
     ]
    }
   ],
   "source": [
    "pop = {'Nevada': {2001: 2.9, 2002: 2.9},\n",
    "       'Ohio': {2002: 3.6, 2001: 1.7, 2000: 1.5}}\n",
    "#state names set as columns, years set as rows, years are auto in sorted order despite not in the same order within the dictionary\n",
    "frame3 = DataFrame(pop)\n",
    "print(frame3,\"\\n\")\n",
    "#transpose\n",
    "print(frame3.T,\"\\n\") #switches row/column places"
   ]
  },
  {
   "cell_type": "markdown",
   "metadata": {},
   "source": [
    "#### dataframe– index, columns, values"
   ]
  },
  {
   "cell_type": "code",
   "execution_count": 38,
   "metadata": {},
   "outputs": [
    {
     "name": "stdout",
     "output_type": "stream",
     "text": [
      "Int64Index([2001, 2002, 2000], dtype='int64') \n",
      "\n",
      "Index(['Nevada', 'Ohio'], dtype='object') \n",
      "\n",
      "[[2.9 1.7]\n",
      " [2.9 3.6]\n",
      " [nan 1.5]] \n",
      "\n",
      "state  Nevada  Ohio\n",
      "year               \n",
      "2001      2.9   1.7\n",
      "2002      2.9   3.6\n",
      "2000      NaN   1.5 \n",
      "\n"
     ]
    }
   ],
   "source": [
    "print(frame3.index,\"\\n\")\n",
    "print(frame3.columns,\"\\n\")\n",
    "print(frame3.values,\"\\n\")\n",
    "\n",
    "#assigning column/row labels\n",
    "frame3.index.name = 'year'\n",
    "frame3.columns.name='state'\n",
    "print(frame3,\"\\n\") #bad design"
   ]
  }
 ],
 "metadata": {
  "kernelspec": {
   "display_name": "Python 3.10.4 64-bit",
   "language": "python",
   "name": "python3"
  },
  "language_info": {
   "codemirror_mode": {
    "name": "ipython",
    "version": 3
   },
   "file_extension": ".py",
   "mimetype": "text/x-python",
   "name": "python",
   "nbconvert_exporter": "python",
   "pygments_lexer": "ipython3",
   "version": "3.10.4"
  },
  "orig_nbformat": 4,
  "vscode": {
   "interpreter": {
    "hash": "51e4f816afd506db7bb7650607a3e2e026e40398beddcc9e11824953f6978b8d"
   }
  }
 },
 "nbformat": 4,
 "nbformat_minor": 2
}
