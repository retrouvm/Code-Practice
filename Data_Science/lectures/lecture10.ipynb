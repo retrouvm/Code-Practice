{
 "cells": [
  {
   "cell_type": "markdown",
   "metadata": {},
   "source": [
    "### standard normal distribution\n",
    "* ![](https://s3.studylib.net/store/data/009424308_1-ca24100c56a2ceddad5f64dc65fde1ce.png)"
   ]
  },
  {
   "cell_type": "code",
   "execution_count": null,
   "metadata": {},
   "outputs": [],
   "source": [
    "import numpy as np\n",
    "import matplotlib.pyplot as plt\n",
    "from scipy.stats import norm\n",
    "\n",
    "x=np.linspace(-5,5,10**3)\n",
    "plt.plot(x, norm.cdf(x))\n",
    "plt.xlabel('x')\n",
    "plt.ylabel('cumulative probability')\n",
    "plt.title('Standard Normal Distribution CDF')\n",
    "plt.show()\n"
   ]
  },
  {
   "cell_type": "code",
   "execution_count": null,
   "metadata": {},
   "outputs": [],
   "source": [
    "print(norm.cdf(0.5)-norm.cdf(-0.5))\n",
    "print(2*(0.5-norm.cdf(-0.5)))\n",
    "print(2*(norm.cdf(0)-norm.cdf(-0.5)))"
   ]
  },
  {
   "cell_type": "code",
   "execution_count": 9,
   "metadata": {},
   "outputs": [
    {
     "name": "stdout",
     "output_type": "stream",
     "text": [
      "0.950004209703559\n",
      "0.9500042097035591\n"
     ]
    }
   ],
   "source": [
    "#95% confidence interval\n",
    "print(norm.cdf(1.96) - norm.cdf(-1.96))\n",
    "print(1-2*norm.cdf(-1.96))"
   ]
  },
  {
   "cell_type": "markdown",
   "metadata": {},
   "source": [
    "### Properties of normal distribution\n",
    "* If the distribution of a random variable X is normal with mean µ and\n",
    "standard deviation σ, we usually write:\n",
    "    * X ∼ N(µ, σ^2)\n",
    "* A linear transformation of X results in X’ = aX + b, then\n",
    "    * X’ ~ N(aµ+b,a^2σ^2)"
   ]
  }
 ],
 "metadata": {
  "kernelspec": {
   "display_name": "Python 3.10.4 64-bit",
   "language": "python",
   "name": "python3"
  },
  "language_info": {
   "codemirror_mode": {
    "name": "ipython",
    "version": 3
   },
   "file_extension": ".py",
   "mimetype": "text/x-python",
   "name": "python",
   "nbconvert_exporter": "python",
   "pygments_lexer": "ipython3",
   "version": "3.10.4"
  },
  "orig_nbformat": 4,
  "vscode": {
   "interpreter": {
    "hash": "51e4f816afd506db7bb7650607a3e2e026e40398beddcc9e11824953f6978b8d"
   }
  }
 },
 "nbformat": 4,
 "nbformat_minor": 2
}
