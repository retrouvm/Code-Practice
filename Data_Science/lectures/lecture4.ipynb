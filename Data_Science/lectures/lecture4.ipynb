{
 "cells": [
  {
   "cell_type": "markdown",
   "metadata": {},
   "source": [
    "## Lecture 4"
   ]
  },
  {
   "cell_type": "markdown",
   "metadata": {},
   "source": [
    "### range()"
   ]
  },
  {
   "cell_type": "code",
   "execution_count": null,
   "metadata": {},
   "outputs": [],
   "source": [
    "for i in range(5):\n",
    "    print(i)\n",
    "for i in range(2,5):\n",
    "    print(1)\n",
    "for i in range(0,10,2):\n",
    "    print(i)\n",
    "for i in range(10,2,-2):\n",
    "    print(i)\n",
    "\n",
    "#prints each element value next to their index (i on separate lines)\n",
    "a=['Mary', 'had', 'a', 'little', 'lamb']\n",
    "for i in range(len(a)):\n",
    "    print(i, a[i])"
   ]
  },
  {
   "cell_type": "code",
   "execution_count": null,
   "metadata": {},
   "outputs": [],
   "source": [
    "#in python2, calling rang(5) returns [0,1,2,3,4]\n",
    "#in python3, calling range(5) returns an object which can be iterated but is not identical to [0,1,2,3,4]\n",
    "print(range(5))\n",
    "\n",
    "x=range(5)\n",
    "#in python2, calling x[2] will print \"2\"\n",
    "#in python3, calling x[2] will print \"2\" too\n",
    "print(x[2])\n",
    "#in python2, assigning x[2]=5 will change element of 2 within [0,1,2,3,4] to [0,1,5,3,4]\n",
    "#in python3, trying to assign x[2]=5 will result in a TypeError since the range object doesn't support item assignment "
   ]
  },
  {
   "cell_type": "code",
   "execution_count": null,
   "metadata": {},
   "outputs": [],
   "source": [
    "#reference to lists\n",
    "a=list(range(10))\n",
    "b=a #assignment creates a reference, meaning a and b point to the same memory/object\n",
    "b[0]=100 #update index of 0 in the range object to 100\n",
    "print(a) ##memory was updated after assignment, thus index of 0 in a is now 100\n",
    "\n",
    "a=list(range(10))\n",
    "b=a[:] #creates a different exact copy with a different address assigned to b that can be updated without disrupting the original version\n",
    "b[0]=100 #update index of 0\n",
    "print(a) #original version memory was never updated"
   ]
  },
  {
   "cell_type": "markdown",
   "metadata": {},
   "source": [
    "### tuples"
   ]
  },
  {
   "cell_type": "code",
   "execution_count": null,
   "metadata": {},
   "outputs": [],
   "source": [
    "#similar to lists, but are immutable\n",
    "a_tuple=(0,1,2,3,4)\n",
    "print(a_tuple)\n",
    "other_tuple=3,4\n",
    "print(other_tuple)\n",
    "another_tuple=tuple([0,1,2,3,4])\n",
    "print(another_tuple)\n",
    "heterogeneous_tuple=('john', 1.1,[1,2])\n",
    "print(heterogeneous_tuple)\n",
    "#can be sliced, concatenated, or repeated\n",
    "print(a_tuple[2:4])\n",
    "#cannot be modified\n",
    "#a_tuple[2]=5 would raise a TypeError wince tuple object does not support item assignment"
   ]
  },
  {
   "cell_type": "code",
   "execution_count": null,
   "metadata": {},
   "outputs": [],
   "source": [
    "#useful for returning multiple values from functions\n",
    "def sum_and_product(x,y):\n",
    "    return(x+y),(x*y)\n",
    "sp=sum_and_product(2,3)\n",
    "sp #equals (5,6)\n",
    "s,p=sum_and_product(5,10)\n",
    "s,p #s=15 and p=50\n",
    "#tuples and lists can also be used for multiple assignments\n",
    "x,y=1,2\n",
    "[x,y]=1,2\n",
    "(x,y)=(1,2)\n",
    "x,y=y,x"
   ]
  },
  {
   "cell_type": "markdown",
   "metadata": {},
   "source": [
    "### dictionary"
   ]
  },
  {
   "cell_type": "code",
   "execution_count": null,
   "metadata": {},
   "outputs": [],
   "source": [
    "#a dictionary associates values with unique keys\n",
    "empty_dict={}\n",
    "empty_dict2=dict()\n",
    "grades={\"Joel\":80, \"Tim\":95}\n",
    "print(grades)\n",
    "\n",
    "#access/modify value with key\n",
    "joels_grade=grades[\"Joel\"]\n",
    "print(joels_grade)\n",
    "grades[\"Tim\"]=99\n",
    "grades[\"Kate\"]=100\n",
    "print(grades)\n",
    "num_students=len(grades)\n",
    "print(num_students)\n",
    "\n",
    "try:\n",
    "    kates_grade=grades[\"Kate\"]\n",
    "except KeyError:\n",
    "    print(\"no grade for Kate!<<\")"
   ]
  }
 ],
 "metadata": {
  "interpreter": {
   "hash": "51e4f816afd506db7bb7650607a3e2e026e40398beddcc9e11824953f6978b8d"
  },
  "kernelspec": {
   "display_name": "Python 3.10.4 64-bit",
   "language": "python",
   "name": "python3"
  },
  "language_info": {
   "codemirror_mode": {
    "name": "ipython",
    "version": 3
   },
   "file_extension": ".py",
   "mimetype": "text/x-python",
   "name": "python",
   "nbconvert_exporter": "python",
   "pygments_lexer": "ipython3",
   "version": "3.10.4"
  },
  "orig_nbformat": 4
 },
 "nbformat": 4,
 "nbformat_minor": 2
}
