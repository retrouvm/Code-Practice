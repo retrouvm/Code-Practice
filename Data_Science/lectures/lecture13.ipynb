{
 "cells": [
  {
   "cell_type": "markdown",
   "metadata": {},
   "source": [
    "# Lecture 13"
   ]
  },
  {
   "cell_type": "markdown",
   "metadata": {},
   "source": [
    "### binomial distribution\n",
    "* roll a die, the chance of getting 6 is 1/6\n",
    "* roll 100 dice, the chance of getting all sixes in $\\frac{1}{6}^{100}$\n",
    "    * the chance of getting no sixes at all is $\\frac{5}{6}^{100}$\n",
    "\n",
    "* roll 4 dice, what are the chances of getting exactly 2 sixes?\n",
    "    * 66xx, 6x6x, 6xx6, x6x6, xx66, (where x stands for 1-5)\n",
    "        * each of the above events has the probability $\\frac{1}{6}^{2}\\frac{5}{6}^{2}$\n",
    "        * number of events above: choose 2 combinations from 4: $\\frac{4!}{2!2!}$\n",
    "        * $P=\\frac{4!}{2!2!}*\\frac{1}{6}^{2}\\frac{5}{6}^{2}$\n",
    "* probability of exactly 20 sixes out of 20 rolls?\n",
    "    * possible positions for 20 sixes: choose 20 combination from 100:$\\frac{100!}{20!80!}$\n",
    "    * each of the events has the probability $\\frac{1}{6}^{20}\\frac{5}{6}^{80}$ \n",
    "    * $P=\\frac{100!}{20!80!}*\\frac{1}{6}^{20}\\frac{5}{6}^{80}$"
   ]
  },
  {
   "cell_type": "markdown",
   "metadata": {},
   "source": [
    "### binomial distribution pmf\n",
    "* mean: np\n",
    "* variance: np(1-p)"
   ]
  },
  {
   "cell_type": "code",
   "execution_count": 20,
   "metadata": {},
   "outputs": [],
   "source": [
    "from math import factorial\n",
    "from scipy import stats\n",
    "import matplotlib.pyplot as plt\n",
    "import numpy as np"
   ]
  },
  {
   "cell_type": "code",
   "execution_count": 26,
   "metadata": {},
   "outputs": [
    {
     "name": "stdout",
     "output_type": "stream",
     "text": [
      "0.24609375\n",
      "0.24609375000000003\n"
     ]
    },
    {
     "data": {
      "image/png": "[encoded data removed]",
      "text/plain": [
       "<Figure size 432x288 with 1 Axes>"
      ]
     },
     "metadata": {
      "needs_background": "light"
     },
     "output_type": "display_data"
    }
   ],
   "source": [
    "#flip a coin 10 times, what is the probability of seeing exactly 5 heads\n",
    "def nchoosek(n,k):\n",
    "    return factorial(n)/factorial(k)/factorial(n-k)\n",
    "def binomPMF(k,n,p):\n",
    "    return nchoosek(n,k)*p**k*(1-p)**(n-k)\n",
    "print(binomPMF(5,10,0.5))\n",
    "\n",
    "#possible to get same result without writing out your own function\n",
    "print(stats.binom.pmf(5,10,0.5))\n",
    "plt.bar(range(11),stats.binom.pmf(range(11),10,0.5))\n",
    "plt.xlabel('k')\n",
    "plt.ylabel('P(k)')\n",
    "plt.show()"
   ]
  },
  {
   "cell_type": "code",
   "execution_count": 27,
   "metadata": {},
   "outputs": [
    {
     "name": "stdout",
     "output_type": "stream",
     "text": [
      "0.623046875\n",
      "0.6230468749999999\n"
     ]
    },
    {
     "data": {
      "image/png": "[encoded data removed]",
      "text/plain": [
       "<Figure size 432x288 with 1 Axes>"
      ]
     },
     "metadata": {
      "needs_background": "light"
     },
     "output_type": "display_data"
    }
   ],
   "source": [
    "#flip a coin 10 time, what is the probability of seeing at least 5 heads\n",
    "#use sum() function for \"at least\"\n",
    "print(sum((binomPMF(i,10,0.5) for i in range(5,11))))\n",
    "print(sum(stats.binom.pmf(range(5,11),10,0.5)))\n",
    "\n",
    "plt.plot(range(11),np.cumsum(stats.binom.pmf(range(11),10,0.5)),'*')\n",
    "plt.xlabel('k')\n",
    "plt.ylabel('P(x<=k)')\n",
    "plt.show()"
   ]
  },
  {
   "cell_type": "markdown",
   "metadata": {},
   "source": [
    "### statistical hypothesis testing\n",
    "* I give you a coin, which could be a “fair” coin or could be “loaded”\n",
    "    * If you flip it, a fair coin gives head and tail with equal probability\n",
    "    * In contrast, a loaded coin tends to give one side more frequently (either head or tail) than the other\n",
    "    * Give you a coin, how do you know the coin is likely fair or loaded?\n",
    "* Classical setup\n",
    "    * H0 (null hypothesis): the coin is fair\n",
    "    * H1 (alternative hypothesis): the coin is loaded (i.e., biased towards head or tail)\n",
    "        * Usually, it is hard to argue how loaded it could be\n",
    "    * Based on experimental results, can we determine that H0 is unlikely true and therefore reject it?"
   ]
  }
 ],
 "metadata": {
  "kernelspec": {
   "display_name": "Python 3.10.4 64-bit",
   "language": "python",
   "name": "python3"
  },
  "language_info": {
   "codemirror_mode": {
    "name": "ipython",
    "version": 3
   },
   "file_extension": ".py",
   "mimetype": "text/x-python",
   "name": "python",
   "nbconvert_exporter": "python",
   "pygments_lexer": "ipython3",
   "version": "3.10.4"
  },
  "orig_nbformat": 4,
  "vscode": {
   "interpreter": {
    "hash": "51e4f816afd506db7bb7650607a3e2e026e40398beddcc9e11824953f6978b8d"
   }
  }
 },
 "nbformat": 4,
 "nbformat_minor": 2
}
