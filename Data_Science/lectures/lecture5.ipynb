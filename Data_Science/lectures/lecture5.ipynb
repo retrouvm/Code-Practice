{
 "cells": [
  {
   "cell_type": "markdown",
   "metadata": {},
   "source": [
    "## Lecture 5"
   ]
  },
  {
   "cell_type": "markdown",
   "metadata": {},
   "source": [
    "### functions"
   ]
  },
  {
   "cell_type": "code",
   "execution_count": null,
   "metadata": {},
   "outputs": [],
   "source": [
    "#functions are defined using def\n",
    "def double(x):\n",
    "    return x*2\n",
    "\n",
    "#you can call a function after it is defined\n",
    "z=double(10)\n",
    "print(z)\n",
    "\n",
    "#you can give default values to parameters\n",
    "def my_print(message=\"my default message\"):\n",
    "    print(message)\n",
    "my_print(\"hello\")\n",
    "my_print"
   ]
  },
  {
   "cell_type": "code",
   "execution_count": null,
   "metadata": {},
   "outputs": [],
   "source": [
    "#sometimes it is usefult to specify arguments by name\n",
    "def subtract(a=0, b=0):\n",
    "    return a-b\n",
    "print(subtract(10,5))\n",
    "print(subtract(0,5))\n",
    "print(subtract(b=5))\n",
    "print(subtract(b=5, a=0))"
   ]
  },
  {
   "cell_type": "code",
   "execution_count": null,
   "metadata": {},
   "outputs": [],
   "source": [
    "#functions are objects too\n",
    "def double(x):\n",
    "    return x*2\n",
    "DD=double\n",
    "print(DD(2))\n",
    "\n",
    "def apply_to_one(f):\n",
    "    return f(1)\n",
    "x=apply_to_one(DD)\n",
    "print(x)"
   ]
  },
  {
   "cell_type": "markdown",
   "metadata": {},
   "source": [
    "### list"
   ]
  },
  {
   "cell_type": "code",
   "execution_count": null,
   "metadata": {},
   "outputs": [],
   "source": [
    "x=[4,1,2,3]\n",
    "print(x)\n",
    "#sorted(list): keeps the original list intact and returns a new sorted list\n",
    "y=sorted(x)\n",
    "print(y)\n",
    "#list.sort: sort the original list\n",
    "x.sort()\n",
    "print(x)\n",
    "\n",
    "#change the default behavior of sorted\n",
    "#sort the list by absolute value from largest to smallest\n",
    "x=[-4,1,-2,3]\n",
    "y=sorted(x, key=abs, reverse=True)\n",
    "print(y)"
   ]
  },
  {
   "cell_type": "code",
   "execution_count": null,
   "metadata": {},
   "outputs": [],
   "source": [
    "#list comprehension\n",
    "#very convenient way to create a new list\n",
    "squares=[x*x for x in range(5)]\n",
    "print(squares)\n",
    "\n",
    "for x in range(5): squares[x]=x*x\n",
    "print(squares)"
   ]
  },
  {
   "cell_type": "code",
   "execution_count": null,
   "metadata": {},
   "outputs": [],
   "source": [
    "#can also be used to flter list\n",
    "even_numbers=[x for x in range(5) if x%2 ==0]\n",
    "print(even_numbers)\n",
    "\n",
    "even_numbers=[]\n",
    "for x in range(5):\n",
    "    if x%2==0:\n",
    "        even_numbers.append(x)\n",
    "print(even_numbers)"
   ]
  },
  {
   "cell_type": "code",
   "execution_count": null,
   "metadata": {},
   "outputs": [],
   "source": [
    "#create 100 pairs\n",
    "pairs=[(x,y)\n",
    "       for x in range(10)\n",
    "        for y in range(10)]\n",
    "print(pairs)\n",
    "#only pairs with x<y\n",
    "#range (lo,hi) equals\n",
    "#[lo,lo+1,......,hi-1]\n",
    "increasing_pairs=[(x,y)\n",
    "                  for x in range(10)\n",
    "                    for y in range(x+1, 10)]\n",
    "print(increasing_pairs)"
   ]
  },
  {
   "cell_type": "markdown",
   "metadata": {},
   "source": [
    "### zip"
   ]
  },
  {
   "cell_type": "code",
   "execution_count": null,
   "metadata": {},
   "outputs": [],
   "source": [
    "#useful to combine multiple lists into a list of tuples\n",
    "print(list(zip(['a','b','c'],[1,2,3],['A','B','C'])))\n",
    "\n",
    "names=['James','Tom','Mary']\n",
    "grades=[100,90,95]\n",
    "print(list(zip(names,grades)))"
   ]
  },
  {
   "cell_type": "code",
   "execution_count": null,
   "metadata": {},
   "outputs": [],
   "source": [
    "#argument unpacking\n",
    "#zip(*[a,b,c]) same as zip(a,b,c)\n",
    "gradeBook=[['James', 100],['Tom',10],['Mary',95]]\n",
    "[names,grades]=zip(*gradeBook) \n",
    "print(names)\n",
    "print(grades)\n",
    "print(list(zip(['James', 100],['Tom',10],['Mary',95])))"
   ]
  },
  {
   "cell_type": "markdown",
   "metadata": {},
   "source": [
    "### random"
   ]
  },
  {
   "cell_type": "code",
   "execution_count": null,
   "metadata": {},
   "outputs": [],
   "source": [
    "#generating random numbers are important in statistics\n",
    "import random\n",
    "four_uniform_randoms=[random.random() for _ in range(4)]\n",
    "four_uniform_randoms\n",
    "\n",
    "#other useful functions:seed(), randint, randrange, shuffle, etc.\n",
    "#type in \"random\" and then use tab completion to see available functions and use \"?\" to see doctstring of function"
   ]
  },
  {
   "cell_type": "markdown",
   "metadata": {},
   "source": [
    "### important python modules for data science\n",
    "* numpy\n",
    "    * key module for scientific computing\n",
    "    * convinient and efficient ways to handle multi dimensional arrays\n",
    "* pandas\n",
    "    * dataframe\n",
    "    * flexible data structure of labeled tabular data\n",
    "* matplotlib\n",
    "    * for plotting\n",
    "* scipy\n",
    "    * solutions to common scientific computing problems such as linear algebra, optimization, statistics, sparse matrix"
   ]
  },
  {
   "cell_type": "markdown",
   "metadata": {},
   "source": [
    "### module paths\n",
    "* in order to find a module called myscripts.py, the interprester scans the lists sys.path of directory names\n",
    "* the module must be in one of those directories"
   ]
  }
 ],
 "metadata": {
  "interpreter": {
   "hash": "51e4f816afd506db7bb7650607a3e2e026e40398beddcc9e11824953f6978b8d"
  },
  "kernelspec": {
   "display_name": "Python 3.10.4 64-bit",
   "language": "python",
   "name": "python3"
  },
  "language_info": {
   "codemirror_mode": {
    "name": "ipython",
    "version": 3
   },
   "file_extension": ".py",
   "mimetype": "text/x-python",
   "name": "python",
   "nbconvert_exporter": "python",
   "pygments_lexer": "ipython3",
   "version": "3.10.4"
  },
  "orig_nbformat": 4
 },
 "nbformat": 4,
 "nbformat_minor": 2
}
