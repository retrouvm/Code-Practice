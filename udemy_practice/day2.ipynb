{
 "cells": [
  {
   "cell_type": "markdown",
   "metadata": {},
   "source": [
    "## Day Two"
   ]
  },
  {
   "cell_type": "code",
   "execution_count": null,
   "metadata": {},
   "outputs": [],
   "source": [
    "#add digits in a string with a two digit number\n",
    "\n",
    "two_digit_number = input(\"Type a two digit number: \")\n",
    "print(int(two_digit_number[0])+int(two_digit_number[1]))"
   ]
  },
  {
   "cell_type": "code",
   "execution_count": null,
   "metadata": {},
   "outputs": [],
   "source": [
    "#BMI calculater, weight/(height)^2\n",
    "\n",
    "height = input(\"enter your height in m: \")\n",
    "weight = input(\"enter your weight in kg: \")\n",
    "bmi=float(weight)/float(height)**2\n",
    "print(int(bmi))"
   ]
  },
  {
   "cell_type": "code",
   "execution_count": null,
   "metadata": {},
   "outputs": [],
   "source": [
    "#Create a program using maths and f-Strings that tells us how many days, weeks, months we have left if we live until 90 years old\n",
    "\n",
    "age = input(\"What is your current age?\")\n",
    "int_age=90-int(age)\n",
    "print(f\"You have {int_age*365} days, {int_age*52} weeks, and {int_age*12} months left.\")"
   ]
  },
  {
   "cell_type": "markdown",
   "metadata": {},
   "source": [
    "## Project"
   ]
  },
  {
   "cell_type": "code",
   "execution_count": null,
   "metadata": {},
   "outputs": [],
   "source": [
    "#Create a tip calculator\n",
    "\n",
    "print(\"Welcome to the tip calculator\")\n",
    "print(\"What was the total bill?\")\n",
    "bill=float(input())\n",
    "print(f\"${bill}\")\n",
    "print(\"What percentage tip would you like to give? 10, 12, or 15?\")\n",
    "percent=int(input())\n",
    "print(f\"%{percent}\")\n",
    "percent_con=percent/100\n",
    "tip=bill*percent_con\n",
    "print(\"How many people to split the bill?\")\n",
    "people=int(input())\n",
    "bill=bill+tip\n",
    "final_bill=bill/people\n",
    "#final_bill = \"{:.2f}\".format(final_bill)\n",
    "print(f\"Each person should pay: ${round(final_bill, 2)}\")"
   ]
  }
 ],
 "metadata": {
  "interpreter": {
   "hash": "51e4f816afd506db7bb7650607a3e2e026e40398beddcc9e11824953f6978b8d"
  },
  "kernelspec": {
   "display_name": "Python 3.10.4 64-bit",
   "language": "python",
   "name": "python3"
  },
  "language_info": {
   "codemirror_mode": {
    "name": "ipython",
    "version": 3
   },
   "file_extension": ".py",
   "mimetype": "text/x-python",
   "name": "python",
   "nbconvert_exporter": "python",
   "pygments_lexer": "ipython3",
   "version": "3.10.4"
  },
  "orig_nbformat": 4
 },
 "nbformat": 4,
 "nbformat_minor": 2
}
