{
 "cells": [
  {
   "cell_type": "markdown",
   "metadata": {},
   "source": [
    "## Day Three"
   ]
  },
  {
   "cell_type": "code",
   "execution_count": 1,
   "metadata": {},
   "outputs": [
    {
     "ename": "ValueError",
     "evalue": "invalid literal for int() with base 10: ''",
     "output_type": "error",
     "traceback": [
      "\u001b[1;31m---------------------------------------------------------------------------\u001b[0m",
      "\u001b[1;31mValueError\u001b[0m                                Traceback (most recent call last)",
      "\u001b[1;32mc:\\Users\\rmani\\.vscode\\jupyterf\\udemy_practice\\day3.ipynb Cell 2'\u001b[0m in \u001b[0;36m<cell line: 3>\u001b[1;34m()\u001b[0m\n\u001b[0;32m      <a href='vscode-notebook-cell:/c%3A/Users/rmani/.vscode/jupyterf/udemy_practice/day3.ipynb#ch0000001?line=0'>1</a>\u001b[0m \u001b[39m#Write a program that works out whether if a given number is an odd or even number\u001b[39;00m\n\u001b[1;32m----> <a href='vscode-notebook-cell:/c%3A/Users/rmani/.vscode/jupyterf/udemy_practice/day3.ipynb#ch0000001?line=2'>3</a>\u001b[0m number \u001b[39m=\u001b[39m \u001b[39mint\u001b[39;49m(\u001b[39minput\u001b[39;49m(\u001b[39m\"\u001b[39;49m\u001b[39mWhich number do you want to check? \u001b[39;49m\u001b[39m\"\u001b[39;49m))\n\u001b[0;32m      <a href='vscode-notebook-cell:/c%3A/Users/rmani/.vscode/jupyterf/udemy_practice/day3.ipynb#ch0000001?line=3'>4</a>\u001b[0m \u001b[39mif\u001b[39;00m number \u001b[39m%\u001b[39m \u001b[39m2\u001b[39m\u001b[39m==\u001b[39m\u001b[39m0\u001b[39m:\n\u001b[0;32m      <a href='vscode-notebook-cell:/c%3A/Users/rmani/.vscode/jupyterf/udemy_practice/day3.ipynb#ch0000001?line=4'>5</a>\u001b[0m     \u001b[39mprint\u001b[39m(\u001b[39m\"\u001b[39m\u001b[39mThis is an even number.\u001b[39m\u001b[39m\"\u001b[39m)\n",
      "\u001b[1;31mValueError\u001b[0m: invalid literal for int() with base 10: ''"
     ]
    }
   ],
   "source": [
    "#Write a program that works out whether if a given number is an odd or even number\n",
    "\n",
    "number = int(input(\"Which number do you want to check? \"))\n",
    "if number % 2==0:\n",
    "    print(\"This is an even number.\")\n",
    "else:\n",
    "    print(\"This is an odd number.\")"
   ]
  },
  {
   "cell_type": "code",
   "execution_count": null,
   "metadata": {},
   "outputs": [],
   "source": [
    "#Write a program that interprets the Body Mass Index (BMI) based on a user's weight and height.\n",
    "\n",
    "height = float(input(\"enter your height in m: \"))\n",
    "weight = float(input(\"enter your weight in kg: \"))\n",
    "\n",
    "bmi=round(weight/height**2)\n",
    "if bmi < 18.5:\n",
    "    print(\"Your BMI is %d, you are underweight.\"%bmi)\n",
    "elif 18.5 < bmi < 25:\n",
    "    print(\"Your BMI is %d, you have a normal weight.\"%bmi)\n",
    "elif 25 < bmi < 30:\n",
    "    print(\"Your BMI is %d, you are slightly overweight.\"%bmi)\n",
    "elif 30 < bmi < 35:\n",
    "    print(\"Your BMI is %d, you are obese.\"%bmi)\n",
    "elif bmi > 35:\n",
    "    print(\"Your BMI is %d, you are clinically obese.\"%bmi)"
   ]
  }
 ],
 "metadata": {
  "kernelspec": {
   "display_name": "Python 3.10.4 64-bit",
   "language": "python",
   "name": "python3"
  },
  "language_info": {
   "codemirror_mode": {
    "name": "ipython",
    "version": 3
   },
   "file_extension": ".py",
   "mimetype": "text/x-python",
   "name": "python",
   "nbconvert_exporter": "python",
   "pygments_lexer": "ipython3",
   "version": "3.10.4"
  },
  "orig_nbformat": 4,
  "vscode": {
   "interpreter": {
    "hash": "51e4f816afd506db7bb7650607a3e2e026e40398beddcc9e11824953f6978b8d"
   }
  }
 },
 "nbformat": 4,
 "nbformat_minor": 2
}
