{
 "cells": [
  {
   "cell_type": "markdown",
   "metadata": {},
   "source": [
    "# Just notes and primitive introductory objectives I need to brush up on"
   ]
  },
  {
   "cell_type": "markdown",
   "metadata": {},
   "source": [
    "## variables\n",
    "* global variable\n",
    "    * a variable declared outside of the function or in global scope is known as a global variable\n",
    "    * this means that a global variable can be accessed inside or outside of the function.\n",
    "* local variable\n",
    "    * variable declared inside the function's body or in the local scope is known as a local variable.\n",
    "* nonlocal variables\n",
    "    * used in nested functions whose local scope is not defined\n",
    "    * this means that the variable can be neither in the local nor the global scope\n",
    "    * We use _nonlocal_ keywords to create nonlocal variables\n",
    "    * If we change the value of a nonlocal variable, the changes appear in the local variable."
   ]
  },
  {
   "cell_type": "code",
   "execution_count": null,
   "metadata": {},
   "outputs": [],
   "source": [
    "#Example 1: Create a Global Variable\n",
    "\n",
    "x=\"global\"\n",
    "def foo():\n",
    "    print(f\"inside function foo(), x={x}\")\n",
    "foo()\n",
    "print(f\"outside function/in global space, x={x}\")\n",
    "#we created x as a global variable and defined a foo() to print the global variable x\n",
    "#we call the foo() which will print the value of x"
   ]
  },
  {
   "cell_type": "code",
   "execution_count": null,
   "metadata": {},
   "outputs": [],
   "source": [
    "#Example 2: Create a Local Variable\n",
    "\n",
    "def foo():\n",
    "    y = \"local\"\n",
    "    print(y)\n",
    "\n",
    "foo()"
   ]
  },
  {
   "cell_type": "code",
   "execution_count": null,
   "metadata": {},
   "outputs": [],
   "source": [
    "#Example 3: Global variable and Local variable with same name\n",
    "\n",
    "x=5 #global variable\n",
    "def foo():\n",
    "    x=10 #local variable\n",
    "    print(f\"local x={x}\")\n",
    "foo()\n",
    "print(f\"global x={x}\")"
   ]
  },
  {
   "cell_type": "code",
   "execution_count": null,
   "metadata": {},
   "outputs": [],
   "source": [
    "#Example 4: Create a nonlocal variable\n",
    "\n",
    "x=\"global\" #global variable\n",
    "def outer():\n",
    "    x=\"local\" #local variable\n",
    "    def inner():\n",
    "        nonlocal x\n",
    "        x=\"nonlocal\" #nonlocal variable\n",
    "        print(f\"inner function x={x}\")\n",
    "    inner()\n",
    "    print(f\"outer function x={x}\")\n",
    "outer()\n",
    "print(f\"outside in global space, x={x}\")\n",
    "\n",
    "#there is a nested inner() function.\n",
    "# We use nonlocal keywords to create a nonlocal variable\n",
    "#The inner() function is defined in the scope of another function outer()\n"
   ]
  },
  {
   "cell_type": "markdown",
   "metadata": {},
   "source": [
    "## global keyword\n",
    "* _global_ keyword allows you to modify the variable outside of the current scope\n",
    "    * It is used to create a global variable and make changes to the variable in a local context.\n",
    "* Rules of _global_ Keyword\n",
    "    * When we create a variable inside a function, it is local by default\n",
    "        * meaning it is only accessible within that specific function\n",
    "    * When we define a variable outside of a function, it is global by default. You don't have to use _global_ keyword\n",
    "    * We use _global_ keyword to read and write a global variable inside a function\n",
    "    * Use of _global_ keyword outside a function has no effect."
   ]
  },
  {
   "cell_type": "code",
   "execution_count": null,
   "metadata": {},
   "outputs": [],
   "source": [
    "#Example 1: Accessing global Variable From Inside a Function\n",
    "c=1 #global variable\n",
    "def add():\n",
    "    print(c)\n",
    "add()"
   ]
  },
  {
   "cell_type": "code",
   "execution_count": null,
   "metadata": {},
   "outputs": [],
   "source": [
    "#Example 2: Modifying Global Variable From Inside the Function\n",
    "\n",
    "c=1 #gloabl variable\n",
    "def add():\n",
    "    c=c+2 #increment c by 2\n",
    "    print(c)\n",
    "add()\n",
    "\n",
    "#When we run the above program, the output shows an error\n",
    "#This is because we can only access the global variable but cannot modify it from inside the function.\n",
    "#The solution for this is to use the global keyword."
   ]
  },
  {
   "cell_type": "code",
   "execution_count": null,
   "metadata": {},
   "outputs": [],
   "source": [
    "#Example 3: Changing Global Variable From Inside a Function using global\n",
    "\n",
    "c=0 #global variable\n",
    "def add():\n",
    "    global c\n",
    "    c=c+2\n",
    "    print(f\"Inside function add(), c={c}\")\n",
    "add()\n",
    "print(f\"In main/outside add(), c={c}\")\n",
    "\n",
    "#In the above program, we define c as a global keyword inside the add() function.\n",
    "#As we can see, change also occurred on the global variable outside the function, c = 2"
   ]
  },
  {
   "cell_type": "code",
   "execution_count": null,
   "metadata": {},
   "outputs": [],
   "source": [
    "#Example 4: Share a global Variable Across Python Modules\n",
    "#go-to globvar folder"
   ]
  },
  {
   "cell_type": "code",
   "execution_count": null,
   "metadata": {},
   "outputs": [],
   "source": [
    "#Example 5: Using a Global Variable in Nested Function\n",
    "\n",
    "def foo():\n",
    "    x=20\n",
    "    def bar():\n",
    "        global x\n",
    "        x=25\n",
    "    print(f\"before calling bar() function, x={x}\")\n",
    "    print(\"calling bar() function now\")\n",
    "    bar()\n",
    "    print(f\"after calling bar() function, x={x}\")\n",
    "foo()\n",
    "print(f\"in main/outside foo() function, x={x}\")\n",
    "\n",
    "#we declared a global variable inside the nested function bar()\n",
    "#Before and after calling bar(), the variable x takes the value of local variable i.e x = 20\n",
    "#Outside of the foo() function, the variable x will take value defined in the bar() function i.e x = 25\n",
    "#This is because we have used global keyword in x to create global variable inside the bar() function (local scope)\n",
    "#If we make any changes inside the bar() function, the changes appear outside the local scope, i.e. foo()\n"
   ]
  },
  {
   "cell_type": "markdown",
   "metadata": {},
   "source": [
    "## modules\n",
    "* Modules refer to a file containing Python statements and definitions.\n",
    "* A file containing Python code, for example: example.py, is called a module, and its module name would be example\n"
   ]
  },
  {
   "cell_type": "code",
   "execution_count": null,
   "metadata": {},
   "outputs": [],
   "source": [
    "#To import our previously defined module example\n",
    "import example\n",
    "#Using the module name we can access the function using the dot . operator\n",
    "print(example.add(4,5.5))"
   ]
  },
  {
   "cell_type": "code",
   "execution_count": null,
   "metadata": {},
   "outputs": [],
   "source": [
    "#The Python interpreter imports a module only once during a session\n",
    "#We can use the reload() function inside the importlib module to reload a module\n",
    "import importlib\n",
    "import my_module\n",
    "import my_module\n",
    "importlib.reload(my_module)"
   ]
  },
  {
   "cell_type": "code",
   "execution_count": null,
   "metadata": {},
   "outputs": [],
   "source": [
    "#We can use the dir() function to find out names that are defined inside a module\n",
    "#For example, we have defined a function add() in the module example\n",
    "dir(example)\n",
    "#we can see a sorted list of names (along with add)\n",
    "#All other names that begin with an underscore are default Python attributes associated with the module (not user-defined)\n",
    "\n"
   ]
  },
  {
   "cell_type": "code",
   "execution_count": null,
   "metadata": {},
   "outputs": [],
   "source": [
    "#the __name__ attribute contains the name of the module\n",
    "import example\n",
    "example.__name__"
   ]
  },
  {
   "cell_type": "code",
   "execution_count": null,
   "metadata": {},
   "outputs": [],
   "source": [
    "#All the names defined in our current namespace can be found out using the dir() function without any arguments\n",
    "a=1\n",
    "b=\"hello\"\n",
    "import math\n",
    "dir()"
   ]
  },
  {
   "cell_type": "markdown",
   "metadata": {},
   "source": [
    "## packages\n",
    "* Python has packages for directories and modules for files\n",
    "* As our application program grows larger in size with a lot of modules, we place similar modules in one package and different modules in different packages\n",
    "* as a directory can contain subdirectories and files, a Python package can have sub-packages and modules\n",
    "* A directory must contain a file named \\_\\_init\\_\\_.py in order for Python to consider it as a package\n",
    "    * This file can be left empty but we generally place the initialization code for that package in this file.\n",
    "* We can import modules from packages using the dot (.) operator."
   ]
  },
  {
   "cell_type": "code",
   "execution_count": null,
   "metadata": {},
   "outputs": [],
   "source": [
    "from pckex.swapnum import Solution\n",
    "Solution=Solution()\n",
    "Solution.utility(3,5)\n",
    "\n",
    "#from otherfile import TheClass\n",
    "#theclass = TheClass()\n",
    "#theclass.thefunction(parameters) "
   ]
  },
  {
   "cell_type": "markdown",
   "metadata": {},
   "source": [
    "## numbers\n",
    "* Python supports integers, floating-point numbers and complex numbers\n",
    "* They are defined as _int_, _float_, and _complex_ classes in Python\n",
    "    * Complex numbers are written in the form, _x + yj_, where _x_ is the real part and _y_ is the imaginary part\n",
    "* We can use the _type()_ function to know which class a variable or a value belongs to and _isinstance()_ function to check if it belongs to a particular class\n",
    "\n",
    "* While integers can be of any length, a floating-point number is accurate only up to 15 decimal places (the 16th place is inaccurate)\n",
    "* When to use Decimal instead of float?\n",
    "    * When we are making financial applications that need exact decimal representation.\n",
    "    * When we want to control the level of precision required.\n",
    "    * When we want to implement the notion of significant decimal places.\n",
    "\n"
   ]
  },
  {
   "cell_type": "code",
   "execution_count": null,
   "metadata": {},
   "outputs": [],
   "source": [
    "a=5\n",
    "print(type(a))\n",
    "print(type(5.0))\n",
    "c=5+3j\n",
    "print(c+3)\n",
    "print(isinstance(c,complex))\n",
    "\n",
    "#Operations like addition, subtraction coerce integer to float implicitly (automatically), if one of the operands is float\n",
    "print(1+2.0)\n",
    "\n",
    "#We can also use built-in functions like int(), float() and complex() to convert between types explicitly\n",
    "print(int(2.3))\n",
    "print(int(-2.8))\n",
    "print(float(5))\n",
    "print(complex('3+5j'))\n",
    "\n",
    "#Operations like addition, subtraction coerce integer to float implicitly (automatically), if one of the operands is float\n",
    "print(1+2.0)"
   ]
  },
  {
   "cell_type": "code",
   "execution_count": null,
   "metadata": {},
   "outputs": [],
   "source": [
    "#The numbers we deal with every day are of the decimal (base 10) number system\n",
    "#But computer programmers need to work with binary (base 2), hexadecimal (base 16) and octal (base 8) number systems\n",
    "#Binary->'0b' or '0B', Octal->'0o' or '0O', Hexadecimal->'0x' or '0X'\n",
    "print(0b1101011)\n",
    "print(0xFB + 0b10)\n",
    "print(0o15)"
   ]
  },
  {
   "cell_type": "code",
   "execution_count": null,
   "metadata": {},
   "outputs": [],
   "source": [
    "#decimals\n",
    "#floating-point numbers are implemented in computer hardware as binary fractions as the computer only understands binary (0 and 1)\n",
    "#Due to this reason, most of the decimal fractions we know, cannot be accurately stored in our computer\n",
    "print((1.1 + 2.2) == 3.3) #will return false\n",
    "print(1.1 + 2.2)\n",
    "\n",
    "#To overcome this issue, we can use (import) the decimal module that comes with Python\n",
    "#the decimal module has user-settable precision\n",
    "from decimal import Decimal as D\n",
    "print(0.1)\n",
    "print(D(0.1))\n",
    "print(D('1.1')+D('2.2')) #istantiate decimal as string to avoid binary representation for floats\n",
    "print(D('1.2')*D('2.50'))\n"
   ]
  },
  {
   "cell_type": "code",
   "execution_count": null,
   "metadata": {},
   "outputs": [],
   "source": [
    "#Python provides operations involving fractional numbers through its fractions module.\n",
    "from fractions import Fraction as F\n",
    "print(F(1.5))\n",
    "print(F(5))\n",
    "print(F(1,3)) #numerator,denominator\n",
    "\n",
    "#While creating Fraction from float, we might get some unusual results\n",
    "#This is due to the imperfect binary floating point number representation\n",
    "#Fortunately, Fraction allows us to instantiate with string as well\n",
    "#This is the preferred option when using decimal numbers\n",
    "print(F(1.1)) #as float\n",
    "print(F('1.1')) #as string\n",
    "\n",
    "#supports all basic operations\n",
    "print(F(1, 3) + F(1, 3)) #1/3+1/3\n",
    "print(1 / F(5, 6)) #flips fraction\n",
    "print(F(-3, 10) > 0) \n",
    "print(F(-3, 10) < 0)"
   ]
  },
  {
   "cell_type": "code",
   "execution_count": null,
   "metadata": {},
   "outputs": [],
   "source": [
    "#mathematics\n",
    "#Python offers modules like math and random to carry out different mathematics like trigonometry, logarithms, probability and statistics\n",
    "import math\n",
    "#returns the ratio of circumference of a circle to it's diameter \n",
    "print(math.pi)\n",
    "#Returns the cosine of x\n",
    "print(math.cos(math.pi))\n",
    "#Returns e**x\n",
    "print(math.exp(10))\n",
    "#Returns the base-10 logarithm of x\n",
    "print(math.log10(1000))\n",
    "#Returns the hyperbolic cosine of x\n",
    "print(math.sinh(1))\n",
    "#Returns the factorial of x\n",
    "print(math.factorial(6))"
   ]
  },
  {
   "cell_type": "code",
   "execution_count": null,
   "metadata": {},
   "outputs": [],
   "source": [
    "import random\n",
    "print(random.randrange(10,20))\n",
    "x=['a','b','c','d','e']\n",
    "#generate random choice\n",
    "print(random.choice(x))\n",
    "#shuffle x\n",
    "print(random.shuffle(x))\n",
    "#generate random element\n",
    "print(random.random())"
   ]
  },
  {
   "cell_type": "markdown",
   "metadata": {},
   "source": [
    "## sum()\n",
    "* sum() function adds the items of an iterable and returns the sum\n",
    "* the syntax of the sum() function is:\n",
    "    * sum(iterable, start)\n",
    "* The sum() function adds _start_ and items of the given _iterable_ from left to right\n",
    "* sum() parameters\n",
    "    * **iterable**-iterable(list, tuple, dict, etc.). The items of the iterable should be numbers\n",
    "    * **start**(optional)-this value is added to the sum of items of the iterable. The default value of _start_ is 0 (if omitted)\n",
    "* sum() return value\n",
    "    * sum() returns the sum of _start_ and items of the given _iterable_"
   ]
  },
  {
   "cell_type": "code",
   "execution_count": null,
   "metadata": {},
   "outputs": [],
   "source": [
    "n=[2.5,3,4,-5]\n",
    "#start parameter is not provided\n",
    "print(sum(n))\n",
    "#start parameter->10\n",
    "print(sum(n,10))"
   ]
  },
  {
   "cell_type": "markdown",
   "metadata": {},
   "source": [
    "## tuple()\n",
    "* a tuple is an immutable sequence type\n",
    "* the syntax of tuple() is:\n",
    "    * tuple(iterable)\n",
    "* tuple() parameters\n",
    "    * **iterable** (optional)-an iterable (list, range, etc.) or an iterator object\n",
    "*if the _iterable_ is not passed to the tuple(), the function returns an empty tuple\n",
    "\n",
    "## tuples\n",
    "* Tuples are surrounded by parenthesis\n",
    "* tuple can’t be changed or modified after its creation, they are a fixed size\n",
    "* tuples are different to lists in that they are faster, this is convenient in softwares that requires sollections that do not change, if tuples are used, the software can run faster\n",
    "* Tuple can also be used as key in dictionary due to their hashable and immutable nature\n",
    "* "
   ]
  },
  {
   "cell_type": "code",
   "execution_count": 4,
   "metadata": {},
   "outputs": [
    {
     "name": "stdout",
     "output_type": "stream",
     "text": [
      "tuple=()\n",
      "tuple=(1, 4, 6)\n",
      "tuple=('P', 'y', 't', 'h', 'o', 'n')\n",
      "tuple=(1, 2)\n"
     ]
    }
   ],
   "source": [
    "#empty tuple\n",
    "t=tuple()\n",
    "print(f'tuple={t}')\n",
    "\n",
    "#creating a tuple from a list\n",
    "t=tuple([1,4,6])\n",
    "print(f'tuple={t}')\n",
    "\n",
    "#creating a tuple from a string\n",
    "t=tuple('Python')\n",
    "print(f'tuple={t}')\n",
    "\n",
    "#creating a tuple from a dictionary\n",
    "t=tuple({1:'one',2:'two'})\n",
    "print(f'tuple={t}')"
   ]
  },
  {
   "cell_type": "code",
   "execution_count": null,
   "metadata": {},
   "outputs": [],
   "source": [
    "#empty tuple\n",
    "t=()\n",
    "print(t)\n",
    "\n",
    "#tuples with mixed datatypes\n",
    "t= (1,\"Hello\", 3.4)\n",
    "print(t)\n",
    "\n",
    "#nested tuple\n",
    "t=(\"mouse\",[8,4,6],(1,2,3))\n",
    "print(t)\n",
    "\n",
    "#A tuple can also be created without using parentheses\n",
    "#This is known as tuple packing\n",
    "t=3,4.6,\"dog\"\n",
    "print(t)\n",
    "#tuple unpacking is also possible\n",
    "a,b,c=t\n",
    "print(f\"{a}\\n{b}\\n{c}\")\n",
    "\n",
    "#Creating a tuple with one element is a bit tricky\n",
    "#Having one element within parentheses is not enough\n",
    "#We will need a trailing comma to indicate that it is, in fact, a tuple\n",
    "\n",
    "t=(\"hello\") #this is a string not a tuple\n",
    "print(type(t))\n",
    "\n",
    "t=(10) #this is an integer, not a tuple\n",
    "print(type(t))\n",
    "\n",
    "#creating a tuple with one element, parenthesis is optional, comma is necessary\n",
    "t=(\"Hello\",)\n",
    "print(type(t))\n",
    "\n",
    "#ACCESS-TUPLE-ELEMENTS\n",
    "#There are various ways in which we can access the elements of a tuple.\n",
    "\n",
    "#INDEXING\n",
    "t=('p','e','r','m','i','t')\n",
    "print(t[0])\n",
    "print(t[5])\n",
    "#for nested tuple, use nested indexing\n",
    "t=(\"mouse\",[8,4,6],(1,2,3))\n",
    "print(t[0][3])\n",
    "print(t[1][1])\n",
    "\n",
    "#NEGATIVE INDEXING\n",
    "#The index of -1 refers to the last item, -2 to the second last item and so on.\n",
    "t=('p','e','r','m','i','t')\n",
    "print(t[-1])\n",
    "print(t[-6])\n",
    "\n",
    "#SLICING\n",
    "#We can access a range of items in a tuple by using the slicing operator colon :\n",
    "#syntax-> [element:element-1]\n",
    "t=('p','a','r','k','i','n','g','p','e','r','m','i','t')\n",
    "print(t[1:6])\n",
    "print(t[-9:-5])\n",
    "print(t[10:])\n",
    "print(t[:])\n",
    "\n",
    "#CHANGING A TUPLE\n",
    "#if the element is itself a mutable data type like a list, its nested items can be changed\n",
    "t=(4,2,3,[6,5])\n",
    "t[3][0]=9 #accessing the value at the 3rd index which is a list, then accessing the value at index 0 in the list\n",
    "print(t)\n",
    "\n",
    "#We can use + operator to combine two tuples\n",
    "#We can also repeat the elements in a tuple for a given number of times using the * operator\n",
    "#both operatos result in new tuples\n",
    "print((1,2,3)+(4,5,6))\n",
    "print((\"Repeat\",)*3)\n",
    "\n",
    "#DELETING A TUPLE\n",
    "t=('p','i','n','e','a','p','p','l','e')\n",
    "del t #completely removes object, meaning it cannot be referenced anymore, you cannot add to it\n",
    "\n",
    "#TUPLE METHODS/OPERATIONS\n",
    "t=('p','i','n','e','a','p','p','l','e')\n",
    "print(t.count('p')) #returns number of occurences of value\n",
    "print(t.index('e')) #returns index of first occurence of value\n",
    "print('a' in t) #returns True/False if value exists in tuple\n",
    "print('z' not in t) # returns True/False if value does not exist in tuple\n",
    "#using for loop to iterate through a tuple\n",
    "for name in('David', 'Aishat', 'Diana'):\n",
    "    print(f\"Hello {name}!\")"
   ]
  },
  {
   "cell_type": "markdown",
   "metadata": {},
   "source": [
    "## lists\n",
    "* lists are containers for holding values.\n",
    "* we generaly use lists for homogeneous (similar) data types\n",
    "* list items are ordered, changeable, and allow duplicate values"
   ]
  },
  {
   "cell_type": "code",
   "execution_count": 2,
   "metadata": {},
   "outputs": [
    {
     "name": "stdout",
     "output_type": "stream",
     "text": [
      "p\n",
      "e\n",
      "a\n",
      "5\n",
      "e\n",
      "p\n",
      "['o', 'g', 'r']\n",
      "['a', 'm', 'i', 'z']\n",
      "['p', 'r', 'o', 'g', 'r', 'a', 'm', 'i', 'z']\n"
     ]
    }
   ],
   "source": [
    "#Access List Elements\n",
    "#There are various ways in which we can access the elements of a list.\n",
    "\n",
    "#INDEX\n",
    "l=['p', 'r', 'o', 'b', 'e']\n",
    "print(l[0])\n",
    "print(l[4])\n",
    "#nested indexing for nested list\n",
    "l=[\"Happy\", [2, 0, 1, 5]]\n",
    "print(l[0][1])\n",
    "print(l[1][3])\n",
    "\n",
    "#NEGATIVE INDEX\n",
    "l=['p', 'r', 'o', 'b', 'e']\n",
    "print(l[-1])\n",
    "print(l[-5])\n",
    "\n",
    "#SLICING\n",
    "#syntax-> [element:element-1]\n",
    "l=['p','r','o','g','r','a','m','i','z']\n",
    "print(l[2:5])\n",
    "print(l[5:])\n",
    "print(l[:])"
   ]
  },
  {
   "cell_type": "code",
   "execution_count": 3,
   "metadata": {},
   "outputs": [
    {
     "name": "stdout",
     "output_type": "stream",
     "text": [
      "[1, 4, 6, 8]\n",
      "[1, 3, 5, 7]\n",
      "[1, 3, 5, 7, 9, 11]\n",
      "[1, 3, 5, 7, 9, 11, 13, 15, 17]\n",
      "[1, 3, 5, 9, 7, 5]\n",
      "['re', 're', 're']\n",
      "[1, 3, 9]\n",
      "[1, 3, 5, 7, 9]\n"
     ]
    }
   ],
   "source": [
    "#add/change list elements\n",
    "#Lists are mutable, meaning their elements can be changed unlike string or tuple\n",
    "\n",
    "#using = to change a single item or a range of items\n",
    "l=[2,4,6,8]\n",
    "l[0]=1 #changes value at index 0\n",
    "print(l)\n",
    "l[1:4]=[3,5,7] #changes values from index 2 through 4\n",
    "print(l)\n",
    "\n",
    "#We can add one item to a list using the append() method or add several items using the extend() method\n",
    "l=[1,3,5,7,9]\n",
    "l.append(11)\n",
    "print(l)\n",
    "l.extend([13,15,17])\n",
    "print(l)\n",
    "\n",
    "#We can also use + operator to combine two lists\n",
    "#The * operator repeats a list for the given number of times\n",
    "l=[1,3,5]\n",
    "print(l+[9,7,5])\n",
    "print([\"re\"]*3)\n",
    "\n",
    "#we can insert one item at a desired location by using the method insert()\n",
    "#or insert multiple items by squeezing it into an empty slice of a list\n",
    "l=[1,9]\n",
    "l.insert(1,3) #(index,value)\n",
    "print(l)\n",
    "l[2:2]=[5,7] #squeezes multiple values into \"one\" index expanding the list\n",
    "print(l)"
   ]
  },
  {
   "cell_type": "code",
   "execution_count": null,
   "metadata": {},
   "outputs": [],
   "source": [
    "#deleting list elements/list itself\n",
    "l=['p', 'r', 'o', 'b', 'l', 'e', 'm']\n",
    "del l[2] #deleting one value\n",
    "print(l)\n",
    "del l[1:5] #deleting multiple values\n",
    "print(l)\n",
    "del l ##completely removes object, meaning it cannot be referenced anymore, you cannot add to it\n",
    "\n",
    "#We can use remove() to remove the given item \n",
    "# or pop() to remove an item at the given index\n",
    "#The pop() method removes and returns the last item if the index is not provided\n",
    "l=['p', 'r', 'o', 'b', 'l', 'e', 'm']\n",
    "l.remove('p')\n",
    "print(l)\n",
    "print(l.pop(1))\n",
    "print(l)\n",
    "print(l.pop())\n",
    "print(l)\n",
    "#if we have to empty the whole list, we can use the clear() method\n",
    "l.clear()\n",
    "print(l)"
   ]
  },
  {
   "cell_type": "code",
   "execution_count": null,
   "metadata": {},
   "outputs": [],
   "source": [
    "#methods/operations\n",
    "\n",
    "#append->add to the end\n",
    "l=[3, 8, 1, 6, 8, 8, 4]\n",
    "l.append('a')\n",
    "print(l)\n",
    "\n",
    "#index->index of first occurence of value\n",
    "print(l.index(8))\n",
    "\n",
    "#count of number of occurrences of value within list\n",
    "print(l.count(8))\n",
    "\n",
    "l=['p', 'r', 'o', 'b', 'l', 'e', 'm']\n",
    "print('p' in l)# returns True/False if value exists in list\n",
    "print('c' not in l)# returns True/False if value does not exist in list\n",
    "\n",
    "#Using a for loop we can iterate through each item in a list\n",
    "for fruit in ['apple', 'banana', 'mango']:\n",
    "    print(f\"I like {fruit}\")"
   ]
  },
  {
   "cell_type": "code",
   "execution_count": null,
   "metadata": {},
   "outputs": [],
   "source": [
    "#list comprehension\n",
    "#List comprehension is an elegant and concise way to create a new list from an existing list\n",
    "PowerofTwo=[2**x for x in range(10)]\n",
    "print(PowerofTwo)\n",
    "\n",
    "#this code is equivalent to:\n",
    "PowerofTwo=[]\n",
    "for x in range(10):\n",
    "    PowerofTwo.append(2**x)\n",
    "print(PowerofTwo)\n",
    "\n",
    "#optional if statement can filter out items for the new list\n",
    "PowerofTwo=[2**x for x in range(10) if x>5]\n",
    "print(PowerofTwo)\n",
    "\n",
    "OddNums=[x for x in range(20) if x%2==1]\n",
    "print(OddNums)\n",
    "\n",
    "[x+y for x in ['Python ','C '] for y in ['Language', 'Programming']]"
   ]
  },
  {
   "cell_type": "markdown",
   "metadata": {},
   "source": [
    "## set()\n",
    "* the set() function creates a set in Python\n",
    "* set() takes a single optional parameter:\n",
    "    * iterable (optional) - a sequence (string, tuple, etc.) or collection (set, dictionary, etc.) or an iterator object to be converted into a set\n",
    "* set() returns:\n",
    "    * an empty set if no parameters are passed\n",
    "    * a set constructed from the given iterable parameter\n",
    "## frozenset()\n",
    "* A frozenset is an unordered and unindexed collection of unique elements. It is immutable and it is hashable. It is also called an immutable set. Since the elements are fixed, unlike sets you can't add or remove elements from the set.\n",
    "* Frozensets are hashable, you can use the elements as a dictionary key or as an element from another set. Frozensets are represented by the built-in function which is frozenset(). It returns an empty set if there are no elements present in it. You can use frozenset() if you want to create an empty set."
   ]
  },
  {
   "cell_type": "code",
   "execution_count": 7,
   "metadata": {},
   "outputs": [
    {
     "name": "stdout",
     "output_type": "stream",
     "text": [
      "set()\n",
      "{'h', 'n', 't', 'P', 'o', 'y'}\n",
      "{'u', 'e', 'i', 'a', 'o'}\n",
      "{'u', 'e', 'i', 'a', 'o'}\n",
      "{0, 1, 2, 3, 4}\n"
     ]
    }
   ],
   "source": [
    "# empty set\n",
    "print(set())\n",
    "\n",
    "# from string\n",
    "print(set('Python'))\n",
    "\n",
    "# from tuple\n",
    "print(set(('a', 'e', 'i', 'o', 'u')))\n",
    "\n",
    "# from list\n",
    "print(set(['a', 'e', 'i', 'o', 'u']))\n",
    "\n",
    "# from range\n",
    "print(set(range(5)))"
   ]
  },
  {
   "cell_type": "code",
   "execution_count": 8,
   "metadata": {},
   "outputs": [
    {
     "name": "stdout",
     "output_type": "stream",
     "text": [
      "{'u', 'e', 'i', 'o', 'a'}\n",
      "{'i', 'u', 'e', 'a', 'o'}\n",
      "{'i', 'u', 'e', 'o', 'a'}\n"
     ]
    }
   ],
   "source": [
    "# from set\n",
    "print(set({'a', 'e', 'i', 'o', 'u'}))\n",
    "\n",
    "# from dictionary\n",
    "print(set({'a':1, 'e': 2, 'i':3, 'o':4, 'u':5}))\n",
    "\n",
    "# from frozen set\n",
    "#Since the elements are fixed, unlike sets you can't add or remove elements from the set.\n",
    "frozen_set = frozenset(('a', 'e', 'i', 'o', 'u'))\n",
    "print(set(frozen_set))"
   ]
  },
  {
   "cell_type": "code",
   "execution_count": 11,
   "metadata": {},
   "outputs": [
    {
     "name": "stdout",
     "output_type": "stream",
     "text": [
      "Unique elements: {'Banana', 'Cherry', 'Kiwi', 'Apple'}\n",
      "After adding new element: {'Banana', 'Kiwi', 'Apple', 'Cherry', 'Orange'}\n",
      "Size of the set: 5\n",
      "Apple is present in the set: True\n",
      "Mango is present in the set: False\n",
      "After removing element: {'Banana', 'Apple', 'Cherry', 'Orange'}\n",
      "After discarding element: {'Banana', 'Apple', 'Cherry', 'Orange'}\n"
     ]
    }
   ],
   "source": [
    "fruits = {\"Apple\", \"Banana\", \"Cherry\", \"Apple\", \"Kiwi\"}\n",
    "\n",
    "print('Unique elements:', fruits)\n",
    "\n",
    "# Add new fruit\n",
    "fruits.add(\"Orange\")\n",
    "print('After adding new element:', fruits)\n",
    "\n",
    "# Size of the set\n",
    "print('Size of the set:', len(fruits))\n",
    "\n",
    "# check if the element is present in the set\n",
    "print('Apple is present in the set:', \"Apple\" in fruits)\n",
    "print('Mango is present in the set:', \"Mango\" in fruits)\n",
    "\n",
    "# Remove the element from the set\n",
    "#If the element is not in the set which you want to remove then discard() returns none while remove() will raise an error\n",
    "fruits.remove(\"Kiwi\")\n",
    "print('After removing element:', fruits)\n",
    "\n",
    "# Discard the element from the set\n",
    "fruits.discard(\"Mango\")\n",
    "print('After discarding element:', fruits)"
   ]
  },
  {
   "cell_type": "markdown",
   "metadata": {},
   "source": [
    "## type()\n",
    "* the type() function has two different forms\n",
    "* type with a single parameter\n",
    "    * _type(object)_\n",
    "* type with 3 parameters\n",
    "    * _type(name, bases, dict)_\n",
    "        * **name**-a class name; becomes the __name__attribute\n",
    "        * **bases**-a tuble that itemizes the base class; __bases__attribute\n",
    "        * **dict**-a dictionary which is the namespace containing definitions for the class body; becomes the __dict__attribute\n",
    "* the type() returns:\n",
    "    * the type of the object, if only one object parameter is passed\n",
    "    * a new type, if 3 parameters passed"
   ]
  },
  {
   "cell_type": "code",
   "execution_count": 6,
   "metadata": {},
   "outputs": [
    {
     "name": "stdout",
     "output_type": "stream",
     "text": [
      "<class 'list'>\n",
      "<class 'dict'>\n",
      "<class '__main__.Foo'>\n"
     ]
    }
   ],
   "source": [
    "#using type method to return the type of the object passed within the parameter\n",
    "l=[1,3,5,7]\n",
    "print(type(l))\n",
    "\n",
    "d={1:'one',2:'two',3:'three',4:'four'}\n",
    "print(type(d))\n",
    "\n",
    "class Foo:\n",
    "    a=0\n",
    "foo=Foo()\n",
    "print(type(foo))"
   ]
  },
  {
   "cell_type": "code",
   "execution_count": 5,
   "metadata": {},
   "outputs": [
    {
     "name": "stdout",
     "output_type": "stream",
     "text": [
      "<class 'type'>\n",
      "{'a': 'Foo', 'b': 12, '__module__': '__main__', '__dict__': <attribute '__dict__' of 'X' objects>, '__weakref__': <attribute '__weakref__' of 'X' objects>, '__doc__': None}\n",
      "<class 'type'>\n",
      "{'a': 'Foo', 'b': 12, '__module__': '__main__', '__doc__': None}\n"
     ]
    }
   ],
   "source": [
    "#using type() method with 3 parameters to return a new type\n",
    "#format->type(name, bases, dict)\n",
    "# name->class name, bases->tuple that itemizes the base class, dict->dictionary containing definitions for the class body\n",
    "object1=type('X', (object,), dict(a='Foo', b=12))\n",
    "print(type(object1))\n",
    "print(vars(object1)) #vars() function returns the __dict__ attribute of the given object\n",
    "#__dict__ is used to store object's writable attributes.\n",
    "class test:\n",
    "    a='Foo'\n",
    "    b=12\n",
    "\n",
    "object2=type('Y', (test,), dict(a='Foo', b=12))\n",
    "print(type(object2))\n",
    "print(vars(object2))\n"
   ]
  },
  {
   "cell_type": "markdown",
   "metadata": {},
   "source": [
    "## str()\n",
    "* _str()_ function returns the string version of the given object\n",
    "* syntax of _str()_ is\n",
    "    * str(object, encoding='utf-8', errors='strict')\n",
    "* _str()_ method takes three parameters\n",
    "    * **object**\n",
    "        * the _object_ whose string representation is to be returned. If not provided, returns the empty string\n",
    "    * **encoding**\n",
    "        * encoding of the given object. Defaults of _UTF-8_ when not provided\n",
    "    * **errors**\n",
    "        * response when decoding fails. Defaults to _'strict'_\n",
    "        * there are six types of errors\n",
    "            * **strict**\n",
    "                * default response which raises a _UnicodeDecodeError_ exception on failure\n",
    "            * **ignore**\n",
    "                * ignores the unencodable Unicode from the result\n",
    "            * **replace**\n",
    "                * replaces the unencodable Unicode to a question mark\n",
    "            * **xmlcharrefreplace**\n",
    "                * inserts XML character reference instead of unencodable Unicode\n",
    "            * **backslashreplace**\n",
    "                * inserts a _\\uNNNN_ espace sequence instead of unencodable Unicode\n",
    "            * **namereplace**\n",
    "                * inserts a _\\N{...}_ escape sequence instead of unencodable Unicode\n",
    "* return value from str()\n",
    "    * the _str()_ method returns a string, which is considered an informal or nicely printable representation of the given object"
   ]
  },
  {
   "cell_type": "code",
   "execution_count": null,
   "metadata": {},
   "outputs": [],
   "source": [
    "#Example 1: Convert to String\n",
    "#The result variable will contain a string.\n",
    "\n",
    "result=str(10)\n",
    "print(result)\n",
    "\n",
    "#If encoding and errors parameter isn't provided, str() internally calls the __str__() method of an object.\n",
    "#If it cannot find the __str__() method, it instead calls repr(obj).\n",
    "#The repr() function returns a printable representation of the given object."
   ]
  },
  {
   "cell_type": "code",
   "execution_count": null,
   "metadata": {},
   "outputs": [],
   "source": [
    "#Example 2: How str() works for bytes?\n",
    "#If encoding and errors parameter is provided\n",
    "#the first parameter, object, should be a bytes-like-object (bytes or bytearray).\n",
    "#If the object is bytes or bytearray, str() internally calls bytes.decode(encoding, errors).\n",
    "#Otherwise, it gets the bytes object in the buffer before calling the decode() method.\n",
    "\n",
    "b=bytes('pythön', encoding='utf-8')\n",
    "print(str(b, encoding='ascii', errors='ignore'))\n",
    "\n",
    "#the character 'ö' cannot be decoded by ASCII, it should give an error\n",
    "#however, we have set the errors ='ignore'\n",
    "#Python ignores the character which cannot be decoded by str()"
   ]
  },
  {
   "cell_type": "markdown",
   "metadata": {},
   "source": [
    "## repr()\n",
    "* _repr()_ function returns a printable representation of the given object\n",
    "* the syntax of repr() is\n",
    "    * repr(obj)\n",
    "* the _repr()_ function takes a single parameter:\n",
    "    * **obj**\n",
    "        * the object whose printable representation has to be returned\n",
    "* repr() Return Value\n",
    "    * the _repr()_ function returns a printable representational string of the given object."
   ]
  },
  {
   "cell_type": "code",
   "execution_count": null,
   "metadata": {},
   "outputs": [],
   "source": [
    "#Example 1: How repr() works in Python?\n",
    "\n",
    "var='foo'\n",
    "print(repr(var))\n",
    "\n",
    "#Here, we assign a value 'foo' to var\n",
    "#Then, the repr() function returns \"'foo'\", 'foo' inside double-quotes\n",
    "#When the result from repr() is passed to eval(), we will get the original object (for many types)\n",
    "\n",
    "eval(repr(var))"
   ]
  },
  {
   "cell_type": "code",
   "execution_count": null,
   "metadata": {},
   "outputs": [],
   "source": [
    "#Example 2: Implement __repr__() for custom objects\n",
    "#Internally, repr()function calls __repr__() of the given object.\n",
    "#You can easily implement/override __repr__() so that repr() works differently.\n",
    "\n",
    "class Person:\n",
    "    name='Retro'\n",
    "\n",
    "    def __repr__(self):\n",
    "        return repr('Hello ' + self.name)\n",
    "print(repr(Person()))"
   ]
  },
  {
   "cell_type": "code",
   "execution_count": null,
   "metadata": {},
   "outputs": [],
   "source": [
    "# create a printable representation of a list\n",
    "\n",
    "numbers=[1,2,3,4,5]\n",
    "printable_numbers=repr(numbers)\n",
    "print(printable_numbers)"
   ]
  },
  {
   "cell_type": "markdown",
   "metadata": {},
   "source": [
    "## eval()\n",
    "* the _eval()_ method parses the expression passed to this method and runs python expression (code) within the program.\n",
    "* The syntax of eval() is:\n",
    "    * eval(expression, globals=None, locals=None)\n",
    "* The eval() function takes three parameters:\n",
    "    * **expression**\n",
    "        * the string parsed and evaluated as a Python expression\n",
    "    * **globals**\n",
    "        * (optional) - a dictionary\n",
    "    * **locals**\n",
    "        * (optional)- a mapping object. Dictionary is the standard and commonly used mapping type in Python\n",
    "* eval() Return Value\n",
    "    * The _eval()_ method returns the result evaluated from the expression"
   ]
  },
  {
   "cell_type": "code",
   "execution_count": null,
   "metadata": {},
   "outputs": [],
   "source": [
    "#Example 1: How eval() works in Python\n",
    "\n",
    "x=1\n",
    "print(eval('x+1'))\n",
    "\n",
    "#Here, the eval() function evaluates the expression x + 1 and print is used to display this value."
   ]
  },
  {
   "cell_type": "code",
   "execution_count": null,
   "metadata": {},
   "outputs": [],
   "source": [
    "#Example 2: Practical Example to Demonstrate Use of eval()\n",
    "\n",
    "#perimeter of square\n",
    "def calculatePerimeter(l):\n",
    "    return 4*l\n",
    "#area of square\n",
    "def calculateArea(l):\n",
    "    return l*l\n",
    "expression=input(\"what would you like to calculate: \")\n",
    "for l in range(1,5):\n",
    "    if (expression == 'calculatePerimeter(l)'):\n",
    "        print(f\"If length is {l}, Perimeter = {eval(expression)}\")\n",
    "    elif (expression=='calculateArea(l)'):\n",
    "        print(f\"If length is {l}, Area = {eval(expression)}\")\n",
    "    else:\n",
    "        print('Calculation does not exist')\n",
    "        break"
   ]
  },
  {
   "cell_type": "code",
   "execution_count": null,
   "metadata": {},
   "outputs": [],
   "source": [
    "#If you are using eval(input()) in your code, it is a good idea to check which variables and methods the user can use\n",
    "\n",
    "from math import *\n",
    "print(eval('dir()'))"
   ]
  },
  {
   "cell_type": "code",
   "execution_count": null,
   "metadata": {},
   "outputs": [],
   "source": [
    "#Example 3: Passing empty dictionary as globals parameter\n",
    "\n",
    "from math import *\n",
    "print(eval('dir()', {}))\n",
    "#this code will raise an exception\n",
    "print(eval('sqrt(25)', {}))\n",
    "\n",
    "#If you pass an empty dictionary as globals, only the __builtins__ are available to expression (first parameter to the eval()).\n",
    "#Even though we have imported the math module in the above program, expression can't access any functions provided by the math module."
   ]
  },
  {
   "cell_type": "code",
   "execution_count": null,
   "metadata": {},
   "outputs": [],
   "source": [
    "#Example 4: Making Certain Methods available\n",
    "\n",
    "from math import *\n",
    "print(eval('dir()', {'sqrt': sqrt, 'pow': pow}))\n",
    "\n",
    "#Here, the expression can only use the sqrt() and the pow() methods along with __builtins__\n"
   ]
  },
  {
   "cell_type": "code",
   "execution_count": null,
   "metadata": {},
   "outputs": [],
   "source": [
    "#It is also possible to change the name of the method available for the expression as to your wish:\n",
    "\n",
    "from math import *\n",
    "names={'square_root':sqrt, 'power':pow}\n",
    "print(eval('dir()', names))\n",
    "\n",
    "#using square_root in expression\n",
    "print(eval('square_root(9)', names))\n",
    "\n",
    "#square_root() calculates the square root using sqrt()\n",
    "#trying to use sqrt() directly will raise an error"
   ]
  },
  {
   "cell_type": "code",
   "execution_count": null,
   "metadata": {},
   "outputs": [],
   "source": [
    "#Passing both globals and locals dictionary\n",
    "#You can restrict the use of __builtins__ in the expression:\n",
    "    #eval(expression, {'__builtins__': None})\n",
    "#You can make needed functions and variables available for use by passing the locals dictionary\n",
    "\n",
    "from math import *\n",
    "a=169\n",
    "print(eval('sqrt(a)', {'__builtins__': None}, {'a': a, 'sqrt': sqrt}))\n",
    "\n",
    "#expression can have sqrt() method and variable a only\n",
    "#All other methods and variables are unavailable.\n",
    "\n",
    "#Restricting the use of eval() by passing globals and locals dictionaries will make your code secure\n",
    "#particularly when you are using input provided by the user to the eval() method"
   ]
  },
  {
   "cell_type": "markdown",
   "metadata": {},
   "source": [
    "## Anonymous/Lambda Function\n",
    "* an anonymous function is a function that is defined without a name\n",
    "* while normal functions are defined using the def keyword in Python, anonymous functions are defined using the lambda keyword\n",
    "* hence, anonymous functions are also called lambda functions.\n",
    "* A lambda function in python has the following syntax.\n",
    "    * lambda arguments: expression\n",
    "        * Lambda functions can have any number of arguments but only one expression\n",
    "        * The expression is evaluated and returned.\n",
    "        * Lambda functions can be used wherever function objects are required."
   ]
  },
  {
   "cell_type": "code",
   "execution_count": null,
   "metadata": {},
   "outputs": [],
   "source": [
    "#example of lambda function that doubles the input value\n",
    "\n",
    "double=lambda x: x*2\n",
    "print(f'using lambda={double(5)}')\n",
    "\n",
    "#lambda x: x * 2 is the lambda function\n",
    "# x is the argument and x * 2 is the expression that gets evaluated and returned\n",
    "#It returns a function object which is assigned to the identifier double\n",
    "\n",
    "#double = lambda x: x * 2 is nearly the same as:\n",
    "\n",
    "def triple(x):\n",
    "    return x * 3\n",
    "triple(5)"
   ]
  }
 ],
 "metadata": {
  "interpreter": {
   "hash": "51e4f816afd506db7bb7650607a3e2e026e40398beddcc9e11824953f6978b8d"
  },
  "kernelspec": {
   "display_name": "Python 3.10.4 64-bit",
   "language": "python",
   "name": "python3"
  },
  "language_info": {
   "codemirror_mode": {
    "name": "ipython",
    "version": 3
   },
   "file_extension": ".py",
   "mimetype": "text/x-python",
   "name": "python",
   "nbconvert_exporter": "python",
   "pygments_lexer": "ipython3",
   "version": "3.10.4"
  },
  "orig_nbformat": 4
 },
 "nbformat": 4,
 "nbformat_minor": 2
}
