{
 "cells": [
  {
   "cell_type": "code",
   "execution_count": null,
   "metadata": {},
   "outputs": [],
   "source": [
    "from selenium import webdriver\n",
    "from webdriver_manager.chrome import ChromeDriverManager\n",
    "driver = webdriver.Chrome(ChromeDriverManager().install())\n",
    "driver.get('https://web.archive.org/web/20180926132852/http://www.seleniumeasy.com:80/test/basic-first-form-demo.html')\n",
    "messageField=driver.find_element(\"xpath\",'//*[@id=\"user-message\"]')\n",
    "messageField.send_keys('Hello World')\n",
    "showMessageButton=driver.find_element(\"xpath\",'//*[@id=\"get-input\"]/button')\n",
    "showMessageButton.click()"
   ]
  },
  {
   "cell_type": "code",
   "execution_count": null,
   "metadata": {},
   "outputs": [],
   "source": [
    "from selenium import webdriver\n",
    "from webdriver_manager.chrome import ChromeDriverManager\n",
    "driver = webdriver.Chrome(ChromeDriverManager().install())\n",
    "driver.get('https://web.archive.org/web/20180926132852/http://www.seleniumeasy.com:80/test/basic-first-form-demo.html')\n",
    "additionField=driver.find_element(\"xpath\",'//*[@id=\"sum1\"]')\n",
    "additionField.send_keys('10')\n",
    "additionField2=driver.find_element(\"xpath\",'//*[@id=\"sum2\"]')\n",
    "additionField2.send_keys('11')\n",
    "getTotalButton=driver.find_element(\"xpath\",'//*[@id=\"gettotal\"]/button')\n",
    "getTotalButton.click()"
   ]
  }
 ],
 "metadata": {
  "kernelspec": {
   "display_name": "Python 3.10.4 64-bit",
   "language": "python",
   "name": "python3"
  },
  "language_info": {
   "name": "python",
   "version": "3.10.4"
  },
  "orig_nbformat": 4,
  "vscode": {
   "interpreter": {
    "hash": "51e4f816afd506db7bb7650607a3e2e026e40398beddcc9e11824953f6978b8d"
   }
  }
 },
 "nbformat": 4,
 "nbformat_minor": 2
}
