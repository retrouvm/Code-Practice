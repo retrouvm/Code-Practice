{
  "nbformat": 4,
  "nbformat_minor": 0,
  "metadata": {
    "colab": {
      "name": "python_lecture.ipynb",
      "provenance": [],
      "collapsed_sections": [],
      "toc_visible": true
    },
    "kernelspec": {
      "name": "python3",
      "display_name": "Python 3"
    },
    "language_info": {
      "name": "python"
    }
  },
  "cells": [
    {
      "cell_type": "markdown",
      "source": [
        "# List\n",
        "\n",
        "* https://docs.python.org/3/tutorial/datastructures.html\n",
        "* https://www.programiz.com/python-programming/list\n",
        "* https://developers.google.com/edu/python/lists"
      ],
      "metadata": {
        "id": "J9mUiZ9uUq4h"
      }
    },
    {
      "cell_type": "code",
      "source": [
        "fruits = ['orange', 'apple', 'pear', 'banana', 'kiwi', 'apple', 'banana']\n",
        "print(fruits)"
      ],
      "metadata": {
        "colab": {
          "base_uri": "https://localhost:8080/"
        },
        "id": "Zr5ZBMBePcRx",
        "outputId": "c2125f22-9232-4eac-bc81-0f505d2a56c6"
      },
      "execution_count": 57,
      "outputs": [
        {
          "output_type": "stream",
          "name": "stdout",
          "text": [
            "['orange', 'apple', 'pear', 'banana', 'kiwi', 'apple', 'banana']\n"
          ]
        }
      ]
    },
    {
      "cell_type": "code",
      "source": [
        "print(fruits[2])"
      ],
      "metadata": {
        "colab": {
          "base_uri": "https://localhost:8080/"
        },
        "id": "cjYU869APvKE",
        "outputId": "b16ae11f-c756-4e4a-f2e5-e4af925d17cd"
      },
      "execution_count": 58,
      "outputs": [
        {
          "output_type": "stream",
          "name": "stdout",
          "text": [
            "pear\n"
          ]
        }
      ]
    },
    {
      "cell_type": "code",
      "source": [
        "print(fruits[-1])"
      ],
      "metadata": {
        "colab": {
          "base_uri": "https://localhost:8080/"
        },
        "id": "mgYBTpM1SAuw",
        "outputId": "4569dad2-3c23-4c25-df2b-6b9550ddbe56"
      },
      "execution_count": 59,
      "outputs": [
        {
          "output_type": "stream",
          "name": "stdout",
          "text": [
            "banana\n"
          ]
        }
      ]
    },
    {
      "cell_type": "code",
      "source": [
        "print(fruits[::2])"
      ],
      "metadata": {
        "colab": {
          "base_uri": "https://localhost:8080/"
        },
        "id": "udPnLmalQIn0",
        "outputId": "1ac9c66d-a61c-434c-b58e-2d460c94beda"
      },
      "execution_count": 60,
      "outputs": [
        {
          "output_type": "stream",
          "name": "stdout",
          "text": [
            "['orange', 'pear', 'kiwi', 'banana']\n"
          ]
        }
      ]
    },
    {
      "cell_type": "code",
      "source": [
        "fruits.count('apple')"
      ],
      "metadata": {
        "colab": {
          "base_uri": "https://localhost:8080/"
        },
        "id": "ncAFisQrQWvA",
        "outputId": "62b0f4ad-4ec5-49cf-9620-ca2de3da3c64"
      },
      "execution_count": 61,
      "outputs": [
        {
          "output_type": "execute_result",
          "data": {
            "text/plain": [
              "2"
            ]
          },
          "metadata": {},
          "execution_count": 61
        }
      ]
    },
    {
      "cell_type": "code",
      "source": [
        "fruits.count('xyz')"
      ],
      "metadata": {
        "colab": {
          "base_uri": "https://localhost:8080/"
        },
        "id": "6vnzTeiWRG7p",
        "outputId": "c71c8da1-02b6-4675-83e0-fd8eef28a8b8"
      },
      "execution_count": 62,
      "outputs": [
        {
          "output_type": "execute_result",
          "data": {
            "text/plain": [
              "0"
            ]
          },
          "metadata": {},
          "execution_count": 62
        }
      ]
    },
    {
      "cell_type": "code",
      "source": [
        "fruits.index('banana')"
      ],
      "metadata": {
        "colab": {
          "base_uri": "https://localhost:8080/"
        },
        "id": "IgMZWokfRLEp",
        "outputId": "937795cf-8d1b-4ce7-d4ca-8c1d79b15807"
      },
      "execution_count": 63,
      "outputs": [
        {
          "output_type": "execute_result",
          "data": {
            "text/plain": [
              "3"
            ]
          },
          "metadata": {},
          "execution_count": 63
        }
      ]
    },
    {
      "cell_type": "code",
      "source": [
        "fruits.index('banana',4)"
      ],
      "metadata": {
        "colab": {
          "base_uri": "https://localhost:8080/"
        },
        "id": "_R6rll_VRWq0",
        "outputId": "6132c904-6fab-40b8-ad9a-1ecc703b20fb"
      },
      "execution_count": 64,
      "outputs": [
        {
          "output_type": "execute_result",
          "data": {
            "text/plain": [
              "6"
            ]
          },
          "metadata": {},
          "execution_count": 64
        }
      ]
    },
    {
      "cell_type": "code",
      "source": [
        "if 'xyz' in fruits:\n",
        "  fruits.index('xyz')"
      ],
      "metadata": {
        "id": "pWA1GotjRgMh"
      },
      "execution_count": 65,
      "outputs": []
    },
    {
      "cell_type": "code",
      "source": [
        "fruits.reverse()\n",
        "fruits"
      ],
      "metadata": {
        "colab": {
          "base_uri": "https://localhost:8080/"
        },
        "id": "erjdaZXdRjwS",
        "outputId": "9d1a554d-f1d4-471e-c67c-c188a9a91c6e"
      },
      "execution_count": 66,
      "outputs": [
        {
          "output_type": "execute_result",
          "data": {
            "text/plain": [
              "['banana', 'apple', 'kiwi', 'banana', 'pear', 'apple', 'orange']"
            ]
          },
          "metadata": {},
          "execution_count": 66
        }
      ]
    },
    {
      "cell_type": "code",
      "source": [
        "fruits.remove('banana')\n",
        "fruits"
      ],
      "metadata": {
        "colab": {
          "base_uri": "https://localhost:8080/"
        },
        "id": "uhkpl1ACSYTm",
        "outputId": "a277d283-1f55-4bac-eb76-a783d9a566a2"
      },
      "execution_count": 67,
      "outputs": [
        {
          "output_type": "execute_result",
          "data": {
            "text/plain": [
              "['apple', 'kiwi', 'banana', 'pear', 'apple', 'orange']"
            ]
          },
          "metadata": {},
          "execution_count": 67
        }
      ]
    },
    {
      "cell_type": "code",
      "source": [
        "fruits.append('grape')\n",
        "fruits"
      ],
      "metadata": {
        "colab": {
          "base_uri": "https://localhost:8080/"
        },
        "id": "wCYGXraWSjxi",
        "outputId": "0407c1b2-4009-4d32-970d-5c4bdde2fa59"
      },
      "execution_count": 68,
      "outputs": [
        {
          "output_type": "execute_result",
          "data": {
            "text/plain": [
              "['apple', 'kiwi', 'banana', 'pear', 'apple', 'orange', 'grape']"
            ]
          },
          "metadata": {},
          "execution_count": 68
        }
      ]
    },
    {
      "cell_type": "code",
      "source": [
        "fruits.sort()\n",
        "fruits"
      ],
      "metadata": {
        "colab": {
          "base_uri": "https://localhost:8080/"
        },
        "id": "-VkWqU3nSsZi",
        "outputId": "48d7d0bc-9fd9-4ebb-e53a-f414f317aad8"
      },
      "execution_count": 69,
      "outputs": [
        {
          "output_type": "execute_result",
          "data": {
            "text/plain": [
              "['apple', 'apple', 'banana', 'grape', 'kiwi', 'orange', 'pear']"
            ]
          },
          "metadata": {},
          "execution_count": 69
        }
      ]
    },
    {
      "cell_type": "markdown",
      "source": [
        "## List as Stack"
      ],
      "metadata": {
        "id": "hhHkpmBoU12h"
      }
    },
    {
      "cell_type": "code",
      "source": [
        "stack = [3,4,5]\n",
        "stack"
      ],
      "metadata": {
        "colab": {
          "base_uri": "https://localhost:8080/"
        },
        "id": "QUs7qJmaThog",
        "outputId": "bdee1838-b230-4591-88b1-8375d37b82f7"
      },
      "execution_count": 70,
      "outputs": [
        {
          "output_type": "execute_result",
          "data": {
            "text/plain": [
              "[3, 4, 5]"
            ]
          },
          "metadata": {},
          "execution_count": 70
        }
      ]
    },
    {
      "cell_type": "code",
      "source": [
        "stack.append(6)\n",
        "stack.append(7)\n",
        "stack"
      ],
      "metadata": {
        "colab": {
          "base_uri": "https://localhost:8080/"
        },
        "id": "C8tRHlJWTlUj",
        "outputId": "dbca71d9-4073-4a18-c5d7-11cc89440a59"
      },
      "execution_count": 71,
      "outputs": [
        {
          "output_type": "execute_result",
          "data": {
            "text/plain": [
              "[3, 4, 5, 6, 7]"
            ]
          },
          "metadata": {},
          "execution_count": 71
        }
      ]
    },
    {
      "cell_type": "code",
      "source": [
        "stack.pop()"
      ],
      "metadata": {
        "colab": {
          "base_uri": "https://localhost:8080/"
        },
        "id": "doVArC7uTqmQ",
        "outputId": "ea4ff540-f43a-45c5-f9d2-09be6ca3c86f"
      },
      "execution_count": 72,
      "outputs": [
        {
          "output_type": "execute_result",
          "data": {
            "text/plain": [
              "7"
            ]
          },
          "metadata": {},
          "execution_count": 72
        }
      ]
    },
    {
      "cell_type": "code",
      "source": [
        "stack"
      ],
      "metadata": {
        "colab": {
          "base_uri": "https://localhost:8080/"
        },
        "id": "1pH-ZEhaTwic",
        "outputId": "ee57748c-bef0-4533-f764-8c0fcc1f5446"
      },
      "execution_count": 73,
      "outputs": [
        {
          "output_type": "execute_result",
          "data": {
            "text/plain": [
              "[3, 4, 5, 6]"
            ]
          },
          "metadata": {},
          "execution_count": 73
        }
      ]
    },
    {
      "cell_type": "code",
      "source": [
        "for x in stack:\n",
        "  print(x)"
      ],
      "metadata": {
        "colab": {
          "base_uri": "https://localhost:8080/"
        },
        "id": "La3AIpoBVuYo",
        "outputId": "7983a172-7899-4203-e66c-9ebb1688dff7"
      },
      "execution_count": 74,
      "outputs": [
        {
          "output_type": "stream",
          "name": "stdout",
          "text": [
            "3\n",
            "4\n",
            "5\n",
            "6\n"
          ]
        }
      ]
    },
    {
      "cell_type": "markdown",
      "source": [
        "## Matrix"
      ],
      "metadata": {
        "id": "l_7Hg-gtVOqX"
      }
    },
    {
      "cell_type": "code",
      "source": [
        "matrix = [\n",
        "          [1,2,3,4],\n",
        "          [5,6,7,8],\n",
        "          [9,10,11,12] ]\n",
        "print(matrix)"
      ],
      "metadata": {
        "colab": {
          "base_uri": "https://localhost:8080/"
        },
        "id": "VhU80lQsT3Wa",
        "outputId": "6729c371-ef1f-40bf-f76f-13a034caaeb3"
      },
      "execution_count": 75,
      "outputs": [
        {
          "output_type": "stream",
          "name": "stdout",
          "text": [
            "[[1, 2, 3, 4], [5, 6, 7, 8], [9, 10, 11, 12]]\n"
          ]
        }
      ]
    },
    {
      "cell_type": "code",
      "source": [
        "len(matrix[0])"
      ],
      "metadata": {
        "colab": {
          "base_uri": "https://localhost:8080/"
        },
        "id": "g-Riv00KVDjs",
        "outputId": "608e389b-b080-4276-9114-aeaa055bb6f2"
      },
      "execution_count": 76,
      "outputs": [
        {
          "output_type": "execute_result",
          "data": {
            "text/plain": [
              "4"
            ]
          },
          "metadata": {},
          "execution_count": 76
        }
      ]
    },
    {
      "cell_type": "code",
      "source": [
        "n = []\n",
        "for i in range(len(matrix)):\n",
        "  for j in range(len(matrix[i])):\n",
        "    n.append(matrix[i][j])\n",
        "print(n)"
      ],
      "metadata": {
        "colab": {
          "base_uri": "https://localhost:8080/"
        },
        "id": "Hav9_T7IUgC_",
        "outputId": "d0e281ed-8e49-41cc-d52c-88b78210e0ed"
      },
      "execution_count": 77,
      "outputs": [
        {
          "output_type": "stream",
          "name": "stdout",
          "text": [
            "[1, 2, 3, 4, 5, 6, 7, 8, 9, 10, 11, 12]\n"
          ]
        }
      ]
    },
    {
      "cell_type": "code",
      "source": [
        "n = []\n",
        "for sublist in matrix:\n",
        "  for val in sublist:\n",
        "    n.append(val)\n",
        "print(n)"
      ],
      "metadata": {
        "colab": {
          "base_uri": "https://localhost:8080/"
        },
        "id": "CTgnP7dmVdFw",
        "outputId": "e90940ac-efde-431a-ed7f-d429d36efe2f"
      },
      "execution_count": 78,
      "outputs": [
        {
          "output_type": "stream",
          "name": "stdout",
          "text": [
            "[1, 2, 3, 4, 5, 6, 7, 8, 9, 10, 11, 12]\n"
          ]
        }
      ]
    },
    {
      "cell_type": "code",
      "source": [
        "[ matrix[i][j] for i in range(len(matrix)) for j in range(len(matrix[i])) ]"
      ],
      "metadata": {
        "colab": {
          "base_uri": "https://localhost:8080/"
        },
        "id": "J8tAvU5UV9NA",
        "outputId": "970bf86c-5ee9-435b-f9c8-32f646710d7a"
      },
      "execution_count": 79,
      "outputs": [
        {
          "output_type": "execute_result",
          "data": {
            "text/plain": [
              "[1, 2, 3, 4, 5, 6, 7, 8, 9, 10, 11, 12]"
            ]
          },
          "metadata": {},
          "execution_count": 79
        }
      ]
    },
    {
      "cell_type": "code",
      "source": [
        "[ val for sublist in matrix for val in sublist ]"
      ],
      "metadata": {
        "colab": {
          "base_uri": "https://localhost:8080/"
        },
        "id": "-ANuA4HjWfMF",
        "outputId": "f78bbf67-ab31-4f8a-ce4b-30b8d1099242"
      },
      "execution_count": 80,
      "outputs": [
        {
          "output_type": "execute_result",
          "data": {
            "text/plain": [
              "[1, 2, 3, 4, 5, 6, 7, 8, 9, 10, 11, 12]"
            ]
          },
          "metadata": {},
          "execution_count": 80
        }
      ]
    },
    {
      "cell_type": "markdown",
      "source": [
        "# Dictionary\n",
        "\n",
        "* https://realpython.com/python-dicts/\n",
        "* https://www.programiz.com/python-programming/dictionary"
      ],
      "metadata": {
        "id": "dso-lKVaU4Rd"
      }
    },
    {
      "cell_type": "code",
      "source": [
        "MLB_team = {\n",
        "    'Colorado' : 'Rockies',\n",
        "    'Boston'   : 'Red Sox',\n",
        "    'Minnesota': 'Twins',\n",
        "    'Milwaukee': 'Brewers',\n",
        "    'Seattle'  : 'Mariners'\n",
        "    }\n",
        "MLB_team"
      ],
      "metadata": {
        "colab": {
          "base_uri": "https://localhost:8080/"
        },
        "id": "iwCGrz_9XJpa",
        "outputId": "69f73674-68e9-4fa8-e328-9bcf380d75ef"
      },
      "execution_count": 81,
      "outputs": [
        {
          "output_type": "execute_result",
          "data": {
            "text/plain": [
              "{'Boston': 'Red Sox',\n",
              " 'Colorado': 'Rockies',\n",
              " 'Milwaukee': 'Brewers',\n",
              " 'Minnesota': 'Twins',\n",
              " 'Seattle': 'Mariners'}"
            ]
          },
          "metadata": {},
          "execution_count": 81
        }
      ]
    },
    {
      "cell_type": "code",
      "source": [
        "MLB_team['Boston']"
      ],
      "metadata": {
        "colab": {
          "base_uri": "https://localhost:8080/",
          "height": 36
        },
        "id": "bzehEiY6XpL-",
        "outputId": "4b7d1a75-e4d5-45ba-994d-47849c259a3b"
      },
      "execution_count": 82,
      "outputs": [
        {
          "output_type": "execute_result",
          "data": {
            "text/plain": [
              "'Red Sox'"
            ],
            "application/vnd.google.colaboratory.intrinsic+json": {
              "type": "string"
            }
          },
          "metadata": {},
          "execution_count": 82
        }
      ]
    },
    {
      "cell_type": "code",
      "source": [
        "MLB_team['Texas']"
      ],
      "metadata": {
        "colab": {
          "base_uri": "https://localhost:8080/",
          "height": 165
        },
        "id": "BcZQH11SX3gt",
        "outputId": "b35f31f2-04cd-4858-9972-3410d2826a62"
      },
      "execution_count": 83,
      "outputs": [
        {
          "output_type": "error",
          "ename": "KeyError",
          "evalue": "ignored",
          "traceback": [
            "\u001b[0;31m---------------------------------------------------------------------------\u001b[0m",
            "\u001b[0;31mKeyError\u001b[0m                                  Traceback (most recent call last)",
            "\u001b[0;32m<ipython-input-83-3987666b7a00>\u001b[0m in \u001b[0;36m<module>\u001b[0;34m()\u001b[0m\n\u001b[0;32m----> 1\u001b[0;31m \u001b[0mMLB_team\u001b[0m\u001b[0;34m[\u001b[0m\u001b[0;34m'Texas'\u001b[0m\u001b[0;34m]\u001b[0m\u001b[0;34m\u001b[0m\u001b[0;34m\u001b[0m\u001b[0m\n\u001b[0m",
            "\u001b[0;31mKeyError\u001b[0m: 'Texas'"
          ]
        }
      ]
    },
    {
      "cell_type": "code",
      "source": [
        "print(MLB_team.get('Texas'))"
      ],
      "metadata": {
        "colab": {
          "base_uri": "https://localhost:8080/"
        },
        "id": "Cy1zE3q9YKBd",
        "outputId": "ff88bcb0-4d97-449e-b217-c9bc84bdb420"
      },
      "execution_count": 84,
      "outputs": [
        {
          "output_type": "stream",
          "name": "stdout",
          "text": [
            "None\n"
          ]
        }
      ]
    },
    {
      "cell_type": "code",
      "source": [
        "MLB_team['Texas'] = 'Rangers'\n",
        "MLB_team"
      ],
      "metadata": {
        "colab": {
          "base_uri": "https://localhost:8080/"
        },
        "id": "54kl6TYKYVsn",
        "outputId": "d5817cf9-ae77-4fd1-dcac-0cb50cebe977"
      },
      "execution_count": 85,
      "outputs": [
        {
          "output_type": "execute_result",
          "data": {
            "text/plain": [
              "{'Boston': 'Red Sox',\n",
              " 'Colorado': 'Rockies',\n",
              " 'Milwaukee': 'Brewers',\n",
              " 'Minnesota': 'Twins',\n",
              " 'Seattle': 'Mariners',\n",
              " 'Texas': 'Rangers'}"
            ]
          },
          "metadata": {},
          "execution_count": 85
        }
      ]
    },
    {
      "cell_type": "code",
      "source": [
        "MLB_team['Seattle'] = 'Seahawks'\n",
        "MLB_team"
      ],
      "metadata": {
        "colab": {
          "base_uri": "https://localhost:8080/"
        },
        "id": "rzTiIPXsZBmj",
        "outputId": "261898c0-faf3-4e6f-e28b-cd4ccf2c2080"
      },
      "execution_count": 90,
      "outputs": [
        {
          "output_type": "execute_result",
          "data": {
            "text/plain": [
              "{'Boston': 'Red Sox',\n",
              " 'Colorado': 'Rockies',\n",
              " 'Milwaukee': 'Brewers',\n",
              " 'Minnesota': 'Twins',\n",
              " 'Seattle': 'Seahawks',\n",
              " 'Texas': 'Rangers'}"
            ]
          },
          "metadata": {},
          "execution_count": 90
        }
      ]
    },
    {
      "cell_type": "code",
      "source": [
        "MLB_team.pop('Seattle')\n",
        "# print(MLB_team)"
      ],
      "metadata": {
        "colab": {
          "base_uri": "https://localhost:8080/",
          "height": 36
        },
        "id": "cwmoCjmWZVLz",
        "outputId": "b0c88bbb-a25a-4bc5-c720-5d4d5b291051"
      },
      "execution_count": 89,
      "outputs": [
        {
          "output_type": "execute_result",
          "data": {
            "text/plain": [
              "'Seahawks'"
            ],
            "application/vnd.google.colaboratory.intrinsic+json": {
              "type": "string"
            }
          },
          "metadata": {},
          "execution_count": 89
        }
      ]
    },
    {
      "cell_type": "code",
      "source": [
        "del MLB_team['Seattle']\n",
        "MLB_team"
      ],
      "metadata": {
        "colab": {
          "base_uri": "https://localhost:8080/"
        },
        "id": "LPib7gghZrL5",
        "outputId": "fcc50a99-7991-4d6e-8929-1398cd8053dd"
      },
      "execution_count": 91,
      "outputs": [
        {
          "output_type": "execute_result",
          "data": {
            "text/plain": [
              "{'Boston': 'Red Sox',\n",
              " 'Colorado': 'Rockies',\n",
              " 'Milwaukee': 'Brewers',\n",
              " 'Minnesota': 'Twins',\n",
              " 'Texas': 'Rangers'}"
            ]
          },
          "metadata": {},
          "execution_count": 91
        }
      ]
    },
    {
      "cell_type": "code",
      "source": [
        "list(MLB_team.keys())"
      ],
      "metadata": {
        "colab": {
          "base_uri": "https://localhost:8080/"
        },
        "id": "02LHp9kAZ2Wo",
        "outputId": "2f43ea7b-63d4-4e37-e745-e52000ac54d5"
      },
      "execution_count": 93,
      "outputs": [
        {
          "output_type": "execute_result",
          "data": {
            "text/plain": [
              "['Colorado', 'Boston', 'Minnesota', 'Milwaukee', 'Texas']"
            ]
          },
          "metadata": {},
          "execution_count": 93
        }
      ]
    },
    {
      "cell_type": "code",
      "source": [
        "list(MLB_team.values())"
      ],
      "metadata": {
        "colab": {
          "base_uri": "https://localhost:8080/"
        },
        "id": "tQaJ36sdaBw0",
        "outputId": "e08a378f-dd08-4802-ae06-378ccd0e6f4f"
      },
      "execution_count": 94,
      "outputs": [
        {
          "output_type": "execute_result",
          "data": {
            "text/plain": [
              "['Rockies', 'Red Sox', 'Twins', 'Brewers', 'Rangers']"
            ]
          },
          "metadata": {},
          "execution_count": 94
        }
      ]
    },
    {
      "cell_type": "markdown",
      "source": [
        "# Numpy array / matrix\n",
        "\n",
        "* https://numpy.org/doc/stable/user/quickstart.html\n",
        "* https://www.programiz.com/python-programming/matrix"
      ],
      "metadata": {
        "id": "2R-fng5hVT03"
      }
    },
    {
      "cell_type": "code",
      "source": [
        "import numpy as np"
      ],
      "metadata": {
        "id": "ZnjmXgWlaaBK"
      },
      "execution_count": 96,
      "outputs": []
    },
    {
      "cell_type": "code",
      "source": [
        "print(np.zeros(5))"
      ],
      "metadata": {
        "colab": {
          "base_uri": "https://localhost:8080/"
        },
        "id": "C7S6zOiRauCX",
        "outputId": "bed7d03c-1a1f-4b6e-c14a-83b4d51b57f4"
      },
      "execution_count": 100,
      "outputs": [
        {
          "output_type": "stream",
          "name": "stdout",
          "text": [
            "[0. 0. 0. 0. 0.]\n"
          ]
        }
      ]
    },
    {
      "cell_type": "code",
      "source": [
        "print(np.zeros((3,4)))"
      ],
      "metadata": {
        "colab": {
          "base_uri": "https://localhost:8080/"
        },
        "id": "w3h69Ht4cs_7",
        "outputId": "69451f11-497f-49ad-9fc9-e015efa01bd9"
      },
      "execution_count": 101,
      "outputs": [
        {
          "output_type": "stream",
          "name": "stdout",
          "text": [
            "[[0. 0. 0. 0.]\n",
            " [0. 0. 0. 0.]\n",
            " [0. 0. 0. 0.]]\n"
          ]
        }
      ]
    },
    {
      "cell_type": "code",
      "source": [
        "print(np.ones((3,4), dtype=np.int16))"
      ],
      "metadata": {
        "colab": {
          "base_uri": "https://localhost:8080/"
        },
        "id": "DiPkZYDac8gI",
        "outputId": "21ae17b9-5b7a-4c3c-da9b-8c0d78828aba"
      },
      "execution_count": 102,
      "outputs": [
        {
          "output_type": "stream",
          "name": "stdout",
          "text": [
            "[[1 1 1 1]\n",
            " [1 1 1 1]\n",
            " [1 1 1 1]]\n"
          ]
        }
      ]
    },
    {
      "cell_type": "code",
      "source": [
        "print(np.array([20,30,40,50]))"
      ],
      "metadata": {
        "colab": {
          "base_uri": "https://localhost:8080/"
        },
        "id": "9q3r90VTdJei",
        "outputId": "78c4f9be-f2d7-47bd-d66b-bf040fb13845"
      },
      "execution_count": 103,
      "outputs": [
        {
          "output_type": "stream",
          "name": "stdout",
          "text": [
            "[20 30 40 50]\n"
          ]
        }
      ]
    },
    {
      "cell_type": "code",
      "source": [
        "print(np.arange(4))"
      ],
      "metadata": {
        "colab": {
          "base_uri": "https://localhost:8080/"
        },
        "id": "jEwdxEOZdSH7",
        "outputId": "e88281c5-8ca2-498f-e356-0adfec666d09"
      },
      "execution_count": 104,
      "outputs": [
        {
          "output_type": "stream",
          "name": "stdout",
          "text": [
            "[0 1 2 3]\n"
          ]
        }
      ]
    },
    {
      "cell_type": "code",
      "source": [
        "print(np.arange(0,2,0.3))"
      ],
      "metadata": {
        "colab": {
          "base_uri": "https://localhost:8080/"
        },
        "id": "mqF7anBidY-p",
        "outputId": "bd53758a-caf2-471d-c9c7-81c2da842cdc"
      },
      "execution_count": 105,
      "outputs": [
        {
          "output_type": "stream",
          "name": "stdout",
          "text": [
            "[0.  0.3 0.6 0.9 1.2 1.5 1.8]\n"
          ]
        }
      ]
    },
    {
      "cell_type": "code",
      "source": [
        "print(np.arange(12).reshape(3,4))"
      ],
      "metadata": {
        "colab": {
          "base_uri": "https://localhost:8080/"
        },
        "id": "E9H7CqnfdeIQ",
        "outputId": "0490a271-5ca6-4d11-ef5c-ffe04efab4ff"
      },
      "execution_count": 111,
      "outputs": [
        {
          "output_type": "stream",
          "name": "stdout",
          "text": [
            "[[ 0  1  2  3]\n",
            " [ 4  5  6  7]\n",
            " [ 8  9 10 11]]\n"
          ]
        }
      ]
    },
    {
      "cell_type": "code",
      "source": [
        "a = np.array([20, 30, 40, 50])\n",
        "print(a)"
      ],
      "metadata": {
        "colab": {
          "base_uri": "https://localhost:8080/"
        },
        "id": "FqZI6k42doLH",
        "outputId": "405a918e-1661-40d5-ad46-92f0126fbc0e"
      },
      "execution_count": 113,
      "outputs": [
        {
          "output_type": "stream",
          "name": "stdout",
          "text": [
            "[20 30 40 50]\n"
          ]
        }
      ]
    },
    {
      "cell_type": "code",
      "source": [
        "b = np.arange(4)\n",
        "print(b)"
      ],
      "metadata": {
        "colab": {
          "base_uri": "https://localhost:8080/"
        },
        "id": "wKz6yCbeeWiW",
        "outputId": "74131ec6-3a56-463c-b229-0fde6d26fb4b"
      },
      "execution_count": 114,
      "outputs": [
        {
          "output_type": "stream",
          "name": "stdout",
          "text": [
            "[0 1 2 3]\n"
          ]
        }
      ]
    },
    {
      "cell_type": "code",
      "source": [
        "a-b"
      ],
      "metadata": {
        "colab": {
          "base_uri": "https://localhost:8080/"
        },
        "id": "XxNBKOE5eaOO",
        "outputId": "d4ce6dc7-06b9-454a-dfd1-7b56ccf5d7a6"
      },
      "execution_count": 116,
      "outputs": [
        {
          "output_type": "execute_result",
          "data": {
            "text/plain": [
              "array([20, 29, 38, 47])"
            ]
          },
          "metadata": {},
          "execution_count": 116
        }
      ]
    },
    {
      "cell_type": "code",
      "source": [
        "a+b"
      ],
      "metadata": {
        "colab": {
          "base_uri": "https://localhost:8080/"
        },
        "id": "1_zOSM0Uede7",
        "outputId": "1ecfd115-bd2d-4e18-f014-03650e55d703"
      },
      "execution_count": 117,
      "outputs": [
        {
          "output_type": "execute_result",
          "data": {
            "text/plain": [
              "array([20, 31, 42, 53])"
            ]
          },
          "metadata": {},
          "execution_count": 117
        }
      ]
    },
    {
      "cell_type": "code",
      "source": [
        "b**2"
      ],
      "metadata": {
        "colab": {
          "base_uri": "https://localhost:8080/"
        },
        "id": "yPLyObqneeKK",
        "outputId": "ea9c6815-375a-4ab0-b3c8-771464497f28"
      },
      "execution_count": 118,
      "outputs": [
        {
          "output_type": "execute_result",
          "data": {
            "text/plain": [
              "array([0, 1, 4, 9])"
            ]
          },
          "metadata": {},
          "execution_count": 118
        }
      ]
    },
    {
      "cell_type": "code",
      "source": [
        "a.dot(b)"
      ],
      "metadata": {
        "colab": {
          "base_uri": "https://localhost:8080/"
        },
        "id": "uEtuZRHVekz7",
        "outputId": "a8abb2fb-d0dd-4f96-857a-ba1e58885b72"
      },
      "execution_count": 119,
      "outputs": [
        {
          "output_type": "execute_result",
          "data": {
            "text/plain": [
              "260"
            ]
          },
          "metadata": {},
          "execution_count": 119
        }
      ]
    },
    {
      "cell_type": "code",
      "source": [
        "A = np.array([[1, 1],\n",
        "              [0, 1]])\n",
        "print(A)"
      ],
      "metadata": {
        "colab": {
          "base_uri": "https://localhost:8080/"
        },
        "id": "nJwu4YdXepiM",
        "outputId": "976be7ff-0973-4278-f6bf-3eff6492c3b0"
      },
      "execution_count": 120,
      "outputs": [
        {
          "output_type": "stream",
          "name": "stdout",
          "text": [
            "[[1 1]\n",
            " [0 1]]\n"
          ]
        }
      ]
    },
    {
      "cell_type": "code",
      "source": [
        "B = np.array([[2, 0],\n",
        "              [3, 4]])\n",
        "print(B)"
      ],
      "metadata": {
        "colab": {
          "base_uri": "https://localhost:8080/"
        },
        "id": "0bIkGQXteyso",
        "outputId": "838c183a-1d48-4047-eb75-a9f19dcad4b6"
      },
      "execution_count": 121,
      "outputs": [
        {
          "output_type": "stream",
          "name": "stdout",
          "text": [
            "[[2 0]\n",
            " [3 4]]\n"
          ]
        }
      ]
    },
    {
      "cell_type": "code",
      "source": [
        "A*B"
      ],
      "metadata": {
        "colab": {
          "base_uri": "https://localhost:8080/"
        },
        "id": "ko0DWJmFe0TH",
        "outputId": "5e579883-9310-4434-e249-c89464c4c86c"
      },
      "execution_count": 122,
      "outputs": [
        {
          "output_type": "execute_result",
          "data": {
            "text/plain": [
              "array([[2, 0],\n",
              "       [0, 4]])"
            ]
          },
          "metadata": {},
          "execution_count": 122
        }
      ]
    },
    {
      "cell_type": "code",
      "source": [
        "A@B"
      ],
      "metadata": {
        "colab": {
          "base_uri": "https://localhost:8080/"
        },
        "id": "7MC2mTgOe7B9",
        "outputId": "e39e216d-77b6-4930-e72d-7a2cd9ffe902"
      },
      "execution_count": 123,
      "outputs": [
        {
          "output_type": "execute_result",
          "data": {
            "text/plain": [
              "array([[5, 4],\n",
              "       [3, 4]])"
            ]
          },
          "metadata": {},
          "execution_count": 123
        }
      ]
    },
    {
      "cell_type": "code",
      "source": [
        "A.dot(B)"
      ],
      "metadata": {
        "colab": {
          "base_uri": "https://localhost:8080/"
        },
        "id": "AuT4aoUce_KW",
        "outputId": "33094941-eaf4-4cc4-e458-f2d3ce712f0b"
      },
      "execution_count": 124,
      "outputs": [
        {
          "output_type": "execute_result",
          "data": {
            "text/plain": [
              "array([[5, 4],\n",
              "       [3, 4]])"
            ]
          },
          "metadata": {},
          "execution_count": 124
        }
      ]
    },
    {
      "cell_type": "code",
      "source": [
        "a = np.arange(10)**3\n",
        "print(a)"
      ],
      "metadata": {
        "colab": {
          "base_uri": "https://localhost:8080/"
        },
        "id": "BY2GnK_IfLfq",
        "outputId": "030f457d-60ec-4fbc-8fa2-71d63e77d392"
      },
      "execution_count": 125,
      "outputs": [
        {
          "output_type": "stream",
          "name": "stdout",
          "text": [
            "[  0   1   8  27  64 125 216 343 512 729]\n"
          ]
        }
      ]
    },
    {
      "cell_type": "code",
      "source": [
        "a[2:5]"
      ],
      "metadata": {
        "colab": {
          "base_uri": "https://localhost:8080/"
        },
        "id": "dGEZhjsAfW9Q",
        "outputId": "200278f9-bc35-44d9-8ab5-d5866b3af271"
      },
      "execution_count": 126,
      "outputs": [
        {
          "output_type": "execute_result",
          "data": {
            "text/plain": [
              "array([ 8, 27, 64])"
            ]
          },
          "metadata": {},
          "execution_count": 126
        }
      ]
    },
    {
      "cell_type": "code",
      "source": [
        "a[:8:2]"
      ],
      "metadata": {
        "colab": {
          "base_uri": "https://localhost:8080/"
        },
        "id": "Xk34DzO1fawO",
        "outputId": "a6218ac7-d2b3-4125-d233-6327909782ce"
      },
      "execution_count": 127,
      "outputs": [
        {
          "output_type": "execute_result",
          "data": {
            "text/plain": [
              "array([  0,   8,  64, 216])"
            ]
          },
          "metadata": {},
          "execution_count": 127
        }
      ]
    },
    {
      "cell_type": "code",
      "source": [
        "a[-1]"
      ],
      "metadata": {
        "colab": {
          "base_uri": "https://localhost:8080/"
        },
        "id": "jXwb1k30fetG",
        "outputId": "a47a5d73-530f-43eb-fba0-99fe1b0a075b"
      },
      "execution_count": 128,
      "outputs": [
        {
          "output_type": "execute_result",
          "data": {
            "text/plain": [
              "729"
            ]
          },
          "metadata": {},
          "execution_count": 128
        }
      ]
    },
    {
      "cell_type": "code",
      "source": [
        "a[::-1]"
      ],
      "metadata": {
        "colab": {
          "base_uri": "https://localhost:8080/"
        },
        "id": "p1WwHjodfhPC",
        "outputId": "3a5d8253-de48-499e-fced-995b7fcb820b"
      },
      "execution_count": 129,
      "outputs": [
        {
          "output_type": "execute_result",
          "data": {
            "text/plain": [
              "array([729, 512, 343, 216, 125,  64,  27,   8,   1,   0])"
            ]
          },
          "metadata": {},
          "execution_count": 129
        }
      ]
    },
    {
      "cell_type": "code",
      "source": [
        "C = np.array([[[  0,  1,  2],\n",
        "               [ 10, 12, 13]],\n",
        "              [[100, 101, 102],\n",
        "               [110, 112, 113]]])\n",
        "print(C)"
      ],
      "metadata": {
        "colab": {
          "base_uri": "https://localhost:8080/"
        },
        "id": "X7OhMh-6fj8y",
        "outputId": "6aba8f53-a2bc-4b74-fa56-0f4058db58c4"
      },
      "execution_count": 130,
      "outputs": [
        {
          "output_type": "stream",
          "name": "stdout",
          "text": [
            "[[[  0   1   2]\n",
            "  [ 10  12  13]]\n",
            "\n",
            " [[100 101 102]\n",
            "  [110 112 113]]]\n"
          ]
        }
      ]
    },
    {
      "cell_type": "code",
      "source": [
        "print(C.shape)"
      ],
      "metadata": {
        "colab": {
          "base_uri": "https://localhost:8080/"
        },
        "id": "ooZpl20cfyIj",
        "outputId": "d06fbe33-db4c-43da-cf37-3795ca625e78"
      },
      "execution_count": 131,
      "outputs": [
        {
          "output_type": "stream",
          "name": "stdout",
          "text": [
            "(2, 2, 3)\n"
          ]
        }
      ]
    },
    {
      "cell_type": "code",
      "source": [
        "a = np.array([[ 0,  1,  2,  3],\n",
        "              [ 4,  5,  6,  7],\n",
        "              [ 8,  9, 10, 11]])\n",
        "print(a)"
      ],
      "metadata": {
        "colab": {
          "base_uri": "https://localhost:8080/"
        },
        "id": "PYju_eYhgHrq",
        "outputId": "61386989-9728-4317-a7bc-ba85ff901a7f"
      },
      "execution_count": 132,
      "outputs": [
        {
          "output_type": "stream",
          "name": "stdout",
          "text": [
            "[[ 0  1  2  3]\n",
            " [ 4  5  6  7]\n",
            " [ 8  9 10 11]]\n"
          ]
        }
      ]
    },
    {
      "cell_type": "code",
      "source": [
        "b = a\n",
        "print(b)"
      ],
      "metadata": {
        "colab": {
          "base_uri": "https://localhost:8080/"
        },
        "id": "8YV8R38HgmCD",
        "outputId": "93e7622d-6f8d-42ab-bdbd-a16bcef1ca59"
      },
      "execution_count": 133,
      "outputs": [
        {
          "output_type": "stream",
          "name": "stdout",
          "text": [
            "[[ 0  1  2  3]\n",
            " [ 4  5  6  7]\n",
            " [ 8  9 10 11]]\n"
          ]
        }
      ]
    },
    {
      "cell_type": "code",
      "source": [
        "b[1,:2] = 0\n",
        "print(b)"
      ],
      "metadata": {
        "colab": {
          "base_uri": "https://localhost:8080/"
        },
        "id": "1mwq8-lFgqTQ",
        "outputId": "d0909734-54b1-4aa9-bfca-d1d745a5144b"
      },
      "execution_count": 137,
      "outputs": [
        {
          "output_type": "stream",
          "name": "stdout",
          "text": [
            "[[ 0  1  2  3]\n",
            " [ 0  0  6  7]\n",
            " [ 8  9 10 11]]\n"
          ]
        }
      ]
    },
    {
      "cell_type": "code",
      "source": [
        "a+b"
      ],
      "metadata": {
        "colab": {
          "base_uri": "https://localhost:8080/"
        },
        "id": "D-Er126tg6J6",
        "outputId": "995ac79a-2143-464d-843a-026cc22f1038"
      },
      "execution_count": 138,
      "outputs": [
        {
          "output_type": "execute_result",
          "data": {
            "text/plain": [
              "array([[ 0,  2,  4,  6],\n",
              "       [ 0,  0, 12, 14],\n",
              "       [16, 18, 20, 22]])"
            ]
          },
          "metadata": {},
          "execution_count": 138
        }
      ]
    },
    {
      "cell_type": "code",
      "source": [
        "a = np.array([[ 0,  1,  2,  3],\n",
        "              [ 4,  5,  6,  7],\n",
        "              [ 8,  9, 10, 11]])\n",
        "print(a)"
      ],
      "metadata": {
        "colab": {
          "base_uri": "https://localhost:8080/"
        },
        "id": "9jyUB63MhoMw",
        "outputId": "9c2a3a91-2019-42d4-a2dd-8d31dfec0081"
      },
      "execution_count": 139,
      "outputs": [
        {
          "output_type": "stream",
          "name": "stdout",
          "text": [
            "[[ 0  1  2  3]\n",
            " [ 4  5  6  7]\n",
            " [ 8  9 10 11]]\n"
          ]
        }
      ]
    },
    {
      "cell_type": "code",
      "source": [
        "c = a.copy()\n",
        "print(c)"
      ],
      "metadata": {
        "colab": {
          "base_uri": "https://localhost:8080/"
        },
        "id": "8TtAA_jRh1UI",
        "outputId": "c2cd1fd5-80c4-411e-ef53-fefbdf4fbadb"
      },
      "execution_count": 140,
      "outputs": [
        {
          "output_type": "stream",
          "name": "stdout",
          "text": [
            "[[ 0  1  2  3]\n",
            " [ 4  5  6  7]\n",
            " [ 8  9 10 11]]\n"
          ]
        }
      ]
    },
    {
      "cell_type": "code",
      "source": [
        "c[1,:2] = 0\n",
        "print(c)"
      ],
      "metadata": {
        "colab": {
          "base_uri": "https://localhost:8080/"
        },
        "id": "U79S_c3zh5-H",
        "outputId": "8a2a43e5-0d64-436e-e35d-a9bbabaa1d45"
      },
      "execution_count": 141,
      "outputs": [
        {
          "output_type": "stream",
          "name": "stdout",
          "text": [
            "[[ 0  1  2  3]\n",
            " [ 0  0  6  7]\n",
            " [ 8  9 10 11]]\n"
          ]
        }
      ]
    },
    {
      "cell_type": "code",
      "source": [
        "a+c"
      ],
      "metadata": {
        "colab": {
          "base_uri": "https://localhost:8080/"
        },
        "id": "4xpSgqcxh-zG",
        "outputId": "a85d1dfd-f9a6-40f9-a280-cde1f93b995d"
      },
      "execution_count": 142,
      "outputs": [
        {
          "output_type": "execute_result",
          "data": {
            "text/plain": [
              "array([[ 0,  2,  4,  6],\n",
              "       [ 4,  5, 12, 14],\n",
              "       [16, 18, 20, 22]])"
            ]
          },
          "metadata": {},
          "execution_count": 142
        }
      ]
    },
    {
      "cell_type": "markdown",
      "source": [
        "# Pandas dataframe\n",
        "\n",
        "* https://pandas.pydata.org/docs/user_guide/10min.html\n",
        "* https://pandas.pydata.org/pandas-docs/dev/getting_started/tutorials.html\n",
        "* https://www.learndatasci.com/tutorials/python-pandas-tutorial-complete-introduction-for-beginners/"
      ],
      "metadata": {
        "id": "LcB5_E0bVXUf"
      }
    },
    {
      "cell_type": "code",
      "source": [
        "import pandas as pd"
      ],
      "metadata": {
        "id": "odb8SKLpahPj"
      },
      "execution_count": 97,
      "outputs": []
    },
    {
      "cell_type": "code",
      "source": [
        "a = [1083, 1714, 2124, 3424, 3343, 3793]\n",
        "print(a)"
      ],
      "metadata": {
        "colab": {
          "base_uri": "https://localhost:8080/"
        },
        "id": "fgkQBLs4h_y9",
        "outputId": "ab6c3c9e-a175-480d-b920-528dad7252ff"
      },
      "execution_count": 143,
      "outputs": [
        {
          "output_type": "stream",
          "name": "stdout",
          "text": [
            "[1083, 1714, 2124, 3424, 3343, 3793]\n"
          ]
        }
      ]
    },
    {
      "cell_type": "code",
      "source": [
        "s = pd.Series(a)\n",
        "print(s)"
      ],
      "metadata": {
        "colab": {
          "base_uri": "https://localhost:8080/"
        },
        "id": "J1yxvxkjaumm",
        "outputId": "9155343d-b2e9-4f0b-f99d-ca7558656907"
      },
      "execution_count": 144,
      "outputs": [
        {
          "output_type": "stream",
          "name": "stdout",
          "text": [
            "0    1083\n",
            "1    1714\n",
            "2    2124\n",
            "3    3424\n",
            "4    3343\n",
            "5    3793\n",
            "dtype: int64\n"
          ]
        }
      ]
    },
    {
      "cell_type": "code",
      "source": [
        "df = pd.read_csv('/content/drive/MyDrive/Colab Notebooks/Artificial Intelligence/Data/courselist-spring22.csv')\n",
        "print(df)"
      ],
      "metadata": {
        "colab": {
          "base_uri": "https://localhost:8080/"
        },
        "id": "EDUc6qXpi25v",
        "outputId": "d9f20944-7daf-4ef5-c208-acfa3f77c090"
      },
      "execution_count": 158,
      "outputs": [
        {
          "output_type": "stream",
          "name": "stdout",
          "text": [
            "     Status Subject  Course Section    CRN                           Title  \\\n",
            "0      OPEN      CS    1063       1  20464     Intro to Comp Programming I   \n",
            "1      OPEN      CS    1083       1  31537  Prog I for Computer Scientists   \n",
            "2      OPEN      CS    1083       2  31538  Prog I for Computer Scientists   \n",
            "3    CLOSED      CS    1083       3  31810  Prog I for Computer Scientists   \n",
            "4      OPEN      CS    1083       4  35683  Prog I for Computer Scientists   \n",
            "..      ...     ...     ...     ...    ...                             ...   \n",
            "349    OPEN      CS    7316      22  37320           Doctoral Dissertation   \n",
            "350    OPEN      CS    7316      23  37321           Doctoral Dissertation   \n",
            "351    OPEN      CS    7316      24  37322           Doctoral Dissertation   \n",
            "352    OPEN      CS    7316      25  37323           Doctoral Dissertation   \n",
            "353    OPEN      CS    7316      26  37324           Doctoral Dissertation   \n",
            "\n",
            "    Cred Meeting Days          Times              Meeting Type  ...  \\\n",
            "0      3           MW    4:00-5:15pm  Online only, at set time  ...   \n",
            "1      3           TR    4:00-5:15pm     Traditional in-person  ...   \n",
            "2      3           TR  10:00-11:15am     Traditional in-person  ...   \n",
            "3      3          MWF  10:00-10:50am  Online only, at set time  ...   \n",
            "4      3           TR    1:00-2:15pm     Traditional in-person  ...   \n",
            "..   ...          ...            ...                       ...  ...   \n",
            "349    6          TBA            TBA            To be arranged  ...   \n",
            "350    6          TBA            TBA            To be arranged  ...   \n",
            "351    6          TBA            TBA            To be arranged  ...   \n",
            "352    6          TBA            TBA            To be arranged  ...   \n",
            "353    6          TBA            TBA            To be arranged  ...   \n",
            "\n",
            "      Location                         Instructor         Date Weeks  Seats  \\\n",
            "0                            Rutherford, Linda B.  01/18-05/11    17     75   \n",
            "1    NPB 1.202  Gomez Morales, Mauricio Alejandro  01/18-05/11    17     60   \n",
            "2    NPB 1.202  Gomez Morales, Mauricio Alejandro  01/18-05/11    17     60   \n",
            "3                                  Rathore, Heena  01/18-05/11    17     65   \n",
            "4    NPB 1.238                     Long, Byron L.  01/18-05/11    17     60   \n",
            "..         ...                                ...          ...   ...    ...   \n",
            "349                                         Staff  01/18-05/11    17     10   \n",
            "350                                         Staff  01/18-05/11    17     10   \n",
            "351                                         Staff  01/18-05/11    17     10   \n",
            "352                                         Staff  01/18-05/11    17     10   \n",
            "353                                         Staff  01/18-05/11    17     10   \n",
            "\n",
            "     Enrolled  Available  Wait List                          Final Exam   Fees  \n",
            "0          70          5        NaN  Tue  May 10  07:00 am - 08:50 am    $111   \n",
            "1          32         28        NaN  Tue  May 10  03:00 pm - 04:50 pm    $111   \n",
            "2          53          7        NaN  Tue  May 10  11:00 am - 12:50 pm    $111   \n",
            "3          65          0        NaN  Mon  May 09  11:00 am - 12:50 pm    $111   \n",
            "4          40         20        NaN  Tue  May 10  01:00 pm - 02:50 pm    $111   \n",
            "..        ...        ...        ...                                 ...    ...  \n",
            "349         0         10        NaN     To be determined by instructor   $570   \n",
            "350         0         10        NaN     To be determined by instructor   $570   \n",
            "351         0         10        NaN     To be determined by instructor   $570   \n",
            "352         0         10        NaN     To be determined by instructor   $570   \n",
            "353         0         10        NaN     To be determined by instructor   $570   \n",
            "\n",
            "[354 rows x 21 columns]\n"
          ]
        }
      ]
    },
    {
      "cell_type": "code",
      "source": [
        "print(df.head())"
      ],
      "metadata": {
        "colab": {
          "base_uri": "https://localhost:8080/"
        },
        "id": "VNF23icRkkpE",
        "outputId": "2e18eee4-a2ff-4041-8faf-c2ba0921db4b"
      },
      "execution_count": 159,
      "outputs": [
        {
          "output_type": "stream",
          "name": "stdout",
          "text": [
            "   Status Subject  Course Section    CRN                           Title Cred  \\\n",
            "0    OPEN      CS    1063       1  20464     Intro to Comp Programming I    3   \n",
            "1    OPEN      CS    1083       1  31537  Prog I for Computer Scientists    3   \n",
            "2    OPEN      CS    1083       2  31538  Prog I for Computer Scientists    3   \n",
            "3  CLOSED      CS    1083       3  31810  Prog I for Computer Scientists    3   \n",
            "4    OPEN      CS    1083       4  35683  Prog I for Computer Scientists    3   \n",
            "\n",
            "  Meeting Days          Times              Meeting Type  ...   Location  \\\n",
            "0           MW    4:00-5:15pm  Online only, at set time  ...              \n",
            "1           TR    4:00-5:15pm     Traditional in-person  ...  NPB 1.202   \n",
            "2           TR  10:00-11:15am     Traditional in-person  ...  NPB 1.202   \n",
            "3          MWF  10:00-10:50am  Online only, at set time  ...              \n",
            "4           TR    1:00-2:15pm     Traditional in-person  ...  NPB 1.238   \n",
            "\n",
            "                          Instructor         Date Weeks  Seats  Enrolled  \\\n",
            "0               Rutherford, Linda B.  01/18-05/11    17     75        70   \n",
            "1  Gomez Morales, Mauricio Alejandro  01/18-05/11    17     60        32   \n",
            "2  Gomez Morales, Mauricio Alejandro  01/18-05/11    17     60        53   \n",
            "3                     Rathore, Heena  01/18-05/11    17     65        65   \n",
            "4                     Long, Byron L.  01/18-05/11    17     60        40   \n",
            "\n",
            "   Available  Wait List                          Final Exam   Fees  \n",
            "0          5        NaN  Tue  May 10  07:00 am - 08:50 am    $111   \n",
            "1         28        NaN  Tue  May 10  03:00 pm - 04:50 pm    $111   \n",
            "2          7        NaN  Tue  May 10  11:00 am - 12:50 pm    $111   \n",
            "3          0        NaN  Mon  May 09  11:00 am - 12:50 pm    $111   \n",
            "4         20        NaN  Tue  May 10  01:00 pm - 02:50 pm    $111   \n",
            "\n",
            "[5 rows x 21 columns]\n"
          ]
        }
      ]
    },
    {
      "cell_type": "code",
      "source": [
        "print(df.columns)"
      ],
      "metadata": {
        "colab": {
          "base_uri": "https://localhost:8080/"
        },
        "id": "nKFjiSCDk60D",
        "outputId": "de5ede5f-b32d-474a-bf70-f5a7cb076cad"
      },
      "execution_count": 160,
      "outputs": [
        {
          "output_type": "stream",
          "name": "stdout",
          "text": [
            "Index(['Status', 'Subject', 'Course', 'Section', 'CRN', 'Title', 'Cred',\n",
            "       'Meeting Days', 'Times', 'Meeting Type', 'Campus', 'Location',\n",
            "       'Instructor', 'Date', 'Weeks', 'Seats', 'Enrolled', 'Available',\n",
            "       'Wait List', 'Final Exam', 'Fees'],\n",
            "      dtype='object')\n"
          ]
        }
      ]
    },
    {
      "cell_type": "code",
      "source": [
        "cols_to_drop = ['Meeting Days', 'Times', 'Meeting Type', 'Campus', 'Location', 'Date', 'Weeks', 'Final Exam', 'Wait List']\n",
        "df = df.drop([x for x in cols_to_drop if x in df.columns], axis=1)\n",
        "print(df.columns)\n",
        "print(df.head())"
      ],
      "metadata": {
        "colab": {
          "base_uri": "https://localhost:8080/"
        },
        "id": "_PPS9yzHlK5W",
        "outputId": "b95fec8b-d30c-4cf5-8205-fc14cb597d0e"
      },
      "execution_count": 161,
      "outputs": [
        {
          "output_type": "stream",
          "name": "stdout",
          "text": [
            "Index(['Status', 'Subject', 'Course', 'Section', 'CRN', 'Title', 'Cred',\n",
            "       'Instructor', 'Seats', 'Enrolled', 'Available', 'Fees'],\n",
            "      dtype='object')\n",
            "   Status Subject  Course Section    CRN                           Title Cred  \\\n",
            "0    OPEN      CS    1063       1  20464     Intro to Comp Programming I    3   \n",
            "1    OPEN      CS    1083       1  31537  Prog I for Computer Scientists    3   \n",
            "2    OPEN      CS    1083       2  31538  Prog I for Computer Scientists    3   \n",
            "3  CLOSED      CS    1083       3  31810  Prog I for Computer Scientists    3   \n",
            "4    OPEN      CS    1083       4  35683  Prog I for Computer Scientists    3   \n",
            "\n",
            "                          Instructor  Seats  Enrolled  Available   Fees  \n",
            "0               Rutherford, Linda B.     75        70          5  $111   \n",
            "1  Gomez Morales, Mauricio Alejandro     60        32         28  $111   \n",
            "2  Gomez Morales, Mauricio Alejandro     60        53          7  $111   \n",
            "3                     Rathore, Heena     65        65          0  $111   \n",
            "4                     Long, Byron L.     60        40         20  $111   \n"
          ]
        }
      ]
    },
    {
      "cell_type": "code",
      "source": [
        "print(df.dtypes)"
      ],
      "metadata": {
        "colab": {
          "base_uri": "https://localhost:8080/"
        },
        "id": "26CTT4KFmMT7",
        "outputId": "d3ff0fa7-f876-431a-d612-4a2449bf7c8e"
      },
      "execution_count": 162,
      "outputs": [
        {
          "output_type": "stream",
          "name": "stdout",
          "text": [
            "Status        object\n",
            "Subject       object\n",
            "Course         int64\n",
            "Section       object\n",
            "CRN            int64\n",
            "Title         object\n",
            "Cred          object\n",
            "Instructor    object\n",
            "Seats          int64\n",
            "Enrolled       int64\n",
            "Available      int64\n",
            "Fees          object\n",
            "dtype: object\n"
          ]
        }
      ]
    },
    {
      "cell_type": "code",
      "source": [
        "df = df.astype({'CRN':str})\n",
        "print(df.dtypes)"
      ],
      "metadata": {
        "colab": {
          "base_uri": "https://localhost:8080/"
        },
        "id": "qHYX9fV6mtMV",
        "outputId": "4d44b063-6fe1-489d-8019-7b458f6bc125"
      },
      "execution_count": 163,
      "outputs": [
        {
          "output_type": "stream",
          "name": "stdout",
          "text": [
            "Status        object\n",
            "Subject       object\n",
            "Course         int64\n",
            "Section       object\n",
            "CRN           object\n",
            "Title         object\n",
            "Cred          object\n",
            "Instructor    object\n",
            "Seats          int64\n",
            "Enrolled       int64\n",
            "Available      int64\n",
            "Fees          object\n",
            "dtype: object\n"
          ]
        }
      ]
    },
    {
      "cell_type": "code",
      "source": [
        "df['Cred'] = pd.to_numeric(df['Cred'], errors='coerce')\n",
        "print(df.dtypes)"
      ],
      "metadata": {
        "colab": {
          "base_uri": "https://localhost:8080/"
        },
        "id": "liLGM3x1nhw7",
        "outputId": "8fcd45f0-1e0c-4b82-f35c-83d108be8681"
      },
      "execution_count": 164,
      "outputs": [
        {
          "output_type": "stream",
          "name": "stdout",
          "text": [
            "Status         object\n",
            "Subject        object\n",
            "Course          int64\n",
            "Section        object\n",
            "CRN            object\n",
            "Title          object\n",
            "Cred          float64\n",
            "Instructor     object\n",
            "Seats           int64\n",
            "Enrolled        int64\n",
            "Available       int64\n",
            "Fees           object\n",
            "dtype: object\n"
          ]
        }
      ]
    },
    {
      "cell_type": "code",
      "source": [
        "df['Fees'] = df['Fees'].str.replace('$','')\n",
        "print(df[df['Course']==1714])"
      ],
      "metadata": {
        "colab": {
          "base_uri": "https://localhost:8080/"
        },
        "id": "r1bfPOLQo7YT",
        "outputId": "29cf2b57-7671-48d0-8192-c24b2b25dcfc"
      },
      "execution_count": 165,
      "outputs": [
        {
          "output_type": "stream",
          "name": "stdout",
          "text": [
            "    Status Subject  Course Section    CRN                    Title  Cred  \\\n",
            "13    OPEN      CS    1714     0A1  36483  Computer Programming II   4.0   \n",
            "14    OPEN      CS    1714     0AA  36484  Computer Programming II   NaN   \n",
            "15    OPEN      CS    1714     0AB  36485  Computer Programming II   NaN   \n",
            "16    OPEN      CS    1714     0B2  36622  Computer Programming II   4.0   \n",
            "17    OPEN      CS    1714     0BA  36623  Computer Programming II   NaN   \n",
            "18    OPEN      CS    1714     0BB  36626  Computer Programming II   NaN   \n",
            "19    OPEN      CS    1714     0C3  36634  Computer Programming II   4.0   \n",
            "20    OPEN      CS    1714     0CA  36635  Computer Programming II   NaN   \n",
            "21  CLOSED      CS    1714     0CB  36638  Computer Programming II   NaN   \n",
            "22    OPEN      CS    1714     0D4  36643  Computer Programming II   4.0   \n",
            "23    OPEN      CS    1714     0DA  36646  Computer Programming II   NaN   \n",
            "24    OPEN      CS    1714     0DB  36650  Computer Programming II   NaN   \n",
            "\n",
            "          Instructor  Seats  Enrolled  Available  Fees  \n",
            "13  Jointer, Stanley     66        51         15  148   \n",
            "14  Jointer, Stanley     33        32          1   NaN  \n",
            "15  Jointer, Stanley     33        19         14   NaN  \n",
            "16      Desai, Kevin     70        68          2  148   \n",
            "17      Desai, Kevin     35        34          1   NaN  \n",
            "18      Desai, Kevin     35        34          1   NaN  \n",
            "19      Desai, Kevin     70        69          1  148   \n",
            "20      Desai, Kevin     35        34          1   NaN  \n",
            "21      Desai, Kevin     35        35          0   NaN  \n",
            "22  Jointer, Stanley     60        54          6  148   \n",
            "23  Jointer, Stanley     30        27          3   NaN  \n",
            "24  Jointer, Stanley     30        27          3   NaN  \n"
          ]
        },
        {
          "output_type": "stream",
          "name": "stderr",
          "text": [
            "/usr/local/lib/python3.7/dist-packages/ipykernel_launcher.py:1: FutureWarning: The default value of regex will change from True to False in a future version. In addition, single character regular expressions will *not* be treated as literal strings when regex=True.\n",
            "  \"\"\"Entry point for launching an IPython kernel.\n"
          ]
        }
      ]
    },
    {
      "cell_type": "code",
      "source": [
        "df['Course'] == 1714"
      ],
      "metadata": {
        "colab": {
          "base_uri": "https://localhost:8080/"
        },
        "id": "X3m6BWSKodXx",
        "outputId": "55b11a51-7e01-4c95-fd2f-fc86b2fa01af"
      },
      "execution_count": 166,
      "outputs": [
        {
          "output_type": "execute_result",
          "data": {
            "text/plain": [
              "0      False\n",
              "1      False\n",
              "2      False\n",
              "3      False\n",
              "4      False\n",
              "       ...  \n",
              "349    False\n",
              "350    False\n",
              "351    False\n",
              "352    False\n",
              "353    False\n",
              "Name: Course, Length: 354, dtype: bool"
            ]
          },
          "metadata": {},
          "execution_count": 166
        }
      ]
    },
    {
      "cell_type": "code",
      "source": [
        "print(df[df['Course']==1714])"
      ],
      "metadata": {
        "colab": {
          "base_uri": "https://localhost:8080/"
        },
        "id": "35legVG9oBVr",
        "outputId": "7b1edfd5-21b7-48ae-9503-ce926b69759e"
      },
      "execution_count": 167,
      "outputs": [
        {
          "output_type": "stream",
          "name": "stdout",
          "text": [
            "    Status Subject  Course Section    CRN                    Title  Cred  \\\n",
            "13    OPEN      CS    1714     0A1  36483  Computer Programming II   4.0   \n",
            "14    OPEN      CS    1714     0AA  36484  Computer Programming II   NaN   \n",
            "15    OPEN      CS    1714     0AB  36485  Computer Programming II   NaN   \n",
            "16    OPEN      CS    1714     0B2  36622  Computer Programming II   4.0   \n",
            "17    OPEN      CS    1714     0BA  36623  Computer Programming II   NaN   \n",
            "18    OPEN      CS    1714     0BB  36626  Computer Programming II   NaN   \n",
            "19    OPEN      CS    1714     0C3  36634  Computer Programming II   4.0   \n",
            "20    OPEN      CS    1714     0CA  36635  Computer Programming II   NaN   \n",
            "21  CLOSED      CS    1714     0CB  36638  Computer Programming II   NaN   \n",
            "22    OPEN      CS    1714     0D4  36643  Computer Programming II   4.0   \n",
            "23    OPEN      CS    1714     0DA  36646  Computer Programming II   NaN   \n",
            "24    OPEN      CS    1714     0DB  36650  Computer Programming II   NaN   \n",
            "\n",
            "          Instructor  Seats  Enrolled  Available  Fees  \n",
            "13  Jointer, Stanley     66        51         15  148   \n",
            "14  Jointer, Stanley     33        32          1   NaN  \n",
            "15  Jointer, Stanley     33        19         14   NaN  \n",
            "16      Desai, Kevin     70        68          2  148   \n",
            "17      Desai, Kevin     35        34          1   NaN  \n",
            "18      Desai, Kevin     35        34          1   NaN  \n",
            "19      Desai, Kevin     70        69          1  148   \n",
            "20      Desai, Kevin     35        34          1   NaN  \n",
            "21      Desai, Kevin     35        35          0   NaN  \n",
            "22  Jointer, Stanley     60        54          6  148   \n",
            "23  Jointer, Stanley     30        27          3   NaN  \n",
            "24  Jointer, Stanley     30        27          3   NaN  \n"
          ]
        }
      ]
    },
    {
      "cell_type": "code",
      "source": [
        "df = df.fillna(0)\n",
        "print(df[df['Course']==1714])"
      ],
      "metadata": {
        "colab": {
          "base_uri": "https://localhost:8080/"
        },
        "id": "TMmF5_RdotgT",
        "outputId": "3c86488c-5752-4f97-c172-a913709ec713"
      },
      "execution_count": 168,
      "outputs": [
        {
          "output_type": "stream",
          "name": "stdout",
          "text": [
            "    Status Subject  Course Section    CRN                    Title  Cred  \\\n",
            "13    OPEN      CS    1714     0A1  36483  Computer Programming II   4.0   \n",
            "14    OPEN      CS    1714     0AA  36484  Computer Programming II   0.0   \n",
            "15    OPEN      CS    1714     0AB  36485  Computer Programming II   0.0   \n",
            "16    OPEN      CS    1714     0B2  36622  Computer Programming II   4.0   \n",
            "17    OPEN      CS    1714     0BA  36623  Computer Programming II   0.0   \n",
            "18    OPEN      CS    1714     0BB  36626  Computer Programming II   0.0   \n",
            "19    OPEN      CS    1714     0C3  36634  Computer Programming II   4.0   \n",
            "20    OPEN      CS    1714     0CA  36635  Computer Programming II   0.0   \n",
            "21  CLOSED      CS    1714     0CB  36638  Computer Programming II   0.0   \n",
            "22    OPEN      CS    1714     0D4  36643  Computer Programming II   4.0   \n",
            "23    OPEN      CS    1714     0DA  36646  Computer Programming II   0.0   \n",
            "24    OPEN      CS    1714     0DB  36650  Computer Programming II   0.0   \n",
            "\n",
            "          Instructor  Seats  Enrolled  Available  Fees  \n",
            "13  Jointer, Stanley     66        51         15  148   \n",
            "14  Jointer, Stanley     33        32          1     0  \n",
            "15  Jointer, Stanley     33        19         14     0  \n",
            "16      Desai, Kevin     70        68          2  148   \n",
            "17      Desai, Kevin     35        34          1     0  \n",
            "18      Desai, Kevin     35        34          1     0  \n",
            "19      Desai, Kevin     70        69          1  148   \n",
            "20      Desai, Kevin     35        34          1     0  \n",
            "21      Desai, Kevin     35        35          0     0  \n",
            "22  Jointer, Stanley     60        54          6  148   \n",
            "23  Jointer, Stanley     30        27          3     0  \n",
            "24  Jointer, Stanley     30        27          3     0  \n"
          ]
        }
      ]
    },
    {
      "cell_type": "code",
      "source": [
        "print(df['Instructor'].unique())"
      ],
      "metadata": {
        "colab": {
          "base_uri": "https://localhost:8080/"
        },
        "id": "50s9bkBpm-ZZ",
        "outputId": "27f6dd13-486c-4668-d9f1-66fba591f069"
      },
      "execution_count": 169,
      "outputs": [
        {
          "output_type": "stream",
          "name": "stdout",
          "text": [
            "['Rutherford, Linda B.' 'Gomez Morales, Mauricio Alejandro'\n",
            " 'Rathore, Heena' 'Long, Byron L.' 'Roberson, Dawnlee J.' 'Staff'\n",
            " 'Jointer, Stanley' 'Desai, Kevin' 'Banerjee, Jishnu'\n",
            " 'Sherette, Jonathan L.' 'Heaps, John S.' 'Pritom, Mir Mehedi A.'\n",
            " 'Yang, Zhongxiu' 'Arafat, Imtiaz Muhammad' 'Anderson, Benjamin R.'\n",
            " 'Lu, Qi' 'Dutta, Anandi K.' 'Gibson, Matthew R.' 'Silvestro, Sam A.'\n",
            " \"O'Hara, Steven A.\" 'Korkmaz, Turgay  .' 'Ruan, Jianhua'\n",
            " 'Valadez, Juan M.' 'Wang, Wei' 'Ortiz, John A.' 'Murphy, Richard L.'\n",
            " 'Arora, Ritu' 'Fernandez, Amanda S.' 'Harrison, Keith B.' 'Sandhu, Ravi'\n",
            " 'Quarles, John P.' 'Zhu, Dakai' 'Ku, Bernard S.' 'Rutherford, James R.'\n",
            " 'Slavin, Rocky L.' 'Najafirad, Peyman' 'Wang, Xiaoyin'\n",
            " 'White, Gregory B.' 'Xie, Mimi' 'Lama, Palden' 'Jha, Sumit K.'\n",
            " 'Boppana, Rajendra V.' 'Niu, Jianwei' 'Jadliwala, Murtuza'\n",
            " 'Prasad, Sushil']\n"
          ]
        }
      ]
    },
    {
      "cell_type": "code",
      "source": [
        ""
      ],
      "metadata": {
        "id": "VsZG_xBOnWKq"
      },
      "execution_count": null,
      "outputs": []
    },
    {
      "cell_type": "markdown",
      "source": [
        "# Matplotlib\n",
        "\n",
        "* https://matplotlib.org/stable/tutorials/index.html\n",
        "* https://www.datacamp.com/tutorial/matplotlib-tutorial-python\n",
        "* https://realpython.com/python-matplotlib-guide/\n",
        "* https://www.geeksforgeeks.org/matplotlib-tutorial/"
      ],
      "metadata": {
        "id": "tJ1RDb5cVZ5u"
      }
    },
    {
      "cell_type": "code",
      "source": [
        "import matplotlib.pyplot as plt"
      ],
      "metadata": {
        "id": "zSi0cX49amNw"
      },
      "execution_count": 98,
      "outputs": []
    },
    {
      "cell_type": "code",
      "source": [
        ""
      ],
      "metadata": {
        "id": "qISlgXV6avMP"
      },
      "execution_count": null,
      "outputs": []
    }
  ]
}