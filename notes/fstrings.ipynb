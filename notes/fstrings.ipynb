{
 "cells": [
  {
   "cell_type": "markdown",
   "metadata": {},
   "source": [
    "### Studying python within Jupyter on my own time for future endeavors\n",
    "\n",
    "* [Markdown Cheatsheet for extra practice](https://www.markdownguide.org/cheat-sheet/)\n"
   ]
  },
  {
   "cell_type": "code",
   "execution_count": 15,
   "metadata": {},
   "outputs": [
    {
     "name": "stdout",
     "output_type": "stream",
     "text": [
      "Hello, my name is retro and I am 23 years old\n",
      "74\n",
      "retro m is weird.\n",
      "retro m is weird.\n",
      "Hi Retro. You are a student. You were in computer science.\n",
      "1. Retro M\n",
      "2. Retro M\n",
      "3. Retro M\n",
      "4. Retro M\n",
      "5. The \"student\" is Retro, aged 23.\n",
      "The \"student\" is Retro, aged 23.\n",
      "(single braces in code resulting in no braces)->74->(treated as integers)\n",
      "(double braces in code resulting in single brace)->{70 + 4}->(treated as a string)\n",
      "(triple braces in code resulting in single brace)->{74}->(treated as integers)\n",
      "(more than triple bracing in code resulting in braces)->{{70 + 4}}->(treated as a string)\n",
      "\"retro\"\n"
     ]
    }
   ],
   "source": [
    "#USING f-strings\n",
    "#f-strings are faster than both %-formatting and str.format()\n",
    "name: str=\"retro\"\n",
    "age: int=23\n",
    "#f-string syntax is similar to the one you used with str.format() but less verbose\n",
    "#can use f or F, both valid\n",
    "#Because f-strings are evaluated at runtime, you can put any and all valid Python expressions in them\n",
    "print(f\"Hello, my name is {name} and I am {age} years old\")\n",
    "\n",
    "#f-string EXAMPLE 1\n",
    "#you can do operations\n",
    "print(f\"{2*37}\")\n",
    "\n",
    "#f-string EXAMPLE 2\n",
    "#you can call functions\n",
    "def to_lowercase(input):\n",
    "    return input.lower()\n",
    "name = \"RETRO M\"\n",
    "print(f\"{to_lowercase(name)} is weird.\")\n",
    "#you can also call the method directly\n",
    "print(f\"{name.lower()} is weird.\")\n",
    "\n",
    "#f-string EXAMPLE 3\n",
    "#You can have multiline strings\n",
    "#you need to place an f in front of each line of a multiline string\n",
    "name=\"Retro\"\n",
    "profession=\"student\"\n",
    "affiliation=\"computer science\"\n",
    "message=(\n",
    "    f\"Hi {name}. \"\n",
    "    f\"You are a {profession}. \"\n",
    "    f\"You were in {affiliation}.\"\n",
    ")\n",
    "print(message)\n",
    "\n",
    "#f-string EXAMPLE 4\n",
    "#You can use various types of quotation marks inside the expressions\n",
    "#Just make sure you are not using the same type of quotation mark on the outside of the f-string as you are using in the expression.\n",
    "print(f\"1. {'Retro M'}\")\n",
    "print(f'2. {\"Retro M\"}')\n",
    "print(f\"3. \"\"Retro M\"\"\")\n",
    "print(f'4. ''Retro M''')\n",
    "#If you find you need to use the same type of quotation mark on both the inside and the outside of the string, then you can escape with \\\n",
    "print(f\"5. The \\\"student\\\" is {name}, aged {age}.\")\n",
    "#if you use the same quotation marks...\n",
    "   #print(f\"5. The \"student\" is {name}, aged {age}.\")\n",
    "   #SyntaxError: invalid syntax\n",
    "\n",
    "#f-string EXAMPLE 5\n",
    "#In the case of Dictionaries:\n",
    "#If you are going to use single quotation marks for the keys of the dictionary\n",
    "#then remember to make sure you’re using double quotation marks for the f-strings containing the keys\n",
    "student = {'name': 'Retro', 'age': 23}\n",
    "#dictionary printing styntax is dic_name[key] which returns the value that is linked to the key\n",
    "print(f\"The \\\"student\\\" is {student['name']}, aged {student['age']}.\")\n",
    "\n",
    "#f-string EXAMPLE 6\n",
    "#BRACES\n",
    "#In order to make a brace appear in your string, you must use double braces\n",
    "print(f\"(single braces in code resulting in no braces)->{70 + 4}->(treated as integers)\")\n",
    "print(f\"(double braces in code resulting in single brace)->{{70 + 4}}->(treated as a string)\")\n",
    "#Note that using triple braces will result in there being only single braces in your string:\n",
    "print(f\"(triple braces in code resulting in single brace)->{{{70 + 4}}}->(treated as integers)\")\n",
    "#However, you can get more braces to show if you use more than triple braces\n",
    "print(f\"(more than triple bracing in code resulting in braces)->{{{{70 + 4}}}}->(treated as a string)\")\n",
    "\n",
    "#f-string EXAMPLE 6\n",
    "#BACKSLASHES\n",
    "#you can’t use backslashes to escape in the expression part of an f-string\n",
    "#You can work around this by evaluating the expression beforehand and using the result in the f-string\n",
    "name=\"\\\"retro\\\"\"\n",
    "print(f\"{name}\")"
   ]
  },
  {
   "cell_type": "code",
   "execution_count": 20,
   "metadata": {},
   "outputs": [
    {
     "name": "stdout",
     "output_type": "stream",
     "text": [
      "Hello, my name is retro and I am 23 years old\n"
     ]
    }
   ],
   "source": [
    "#USING % operator\n",
    "name: input(\"name: \")\n",
    "age: int(input(\"age: \"))\n",
    "#String objects have a built-in operation using the % operator, which you can use to format strings\n",
    "#In order to insert more than one variable, you must use a tuple of those variables\n",
    "#Unfortunately, this kind of formatting isn’t great because it is verbose and leads to errors\n",
    "print(\"Hello, my name is %s and I am %d years old\" %(name,age))"
   ]
  },
  {
   "cell_type": "code",
   "execution_count": null,
   "metadata": {},
   "outputs": [],
   "source": [
    "#USING string.format\n",
    "name=input()\n",
    "age=int(input())\n",
    "#The format() method formats the specified value(s) and insert them inside the string's placeholder.\n",
    "#string.format(value1, value2...), The values can be of any data type.\n",
    "#You can reference variables in any order by referencing their index within the curly braces\n",
    "print('Hello, my name is {} and I am {} years old'.format(name,age))"
   ]
  }
 ],
 "metadata": {
  "interpreter": {
   "hash": "51e4f816afd506db7bb7650607a3e2e026e40398beddcc9e11824953f6978b8d"
  },
  "kernelspec": {
   "display_name": "Python 3.10.4 64-bit",
   "language": "python",
   "name": "python3"
  },
  "language_info": {
   "codemirror_mode": {
    "name": "ipython",
    "version": 3
   },
   "file_extension": ".py",
   "mimetype": "text/x-python",
   "name": "python",
   "nbconvert_exporter": "python",
   "pygments_lexer": "ipython3",
   "version": "3.10.4"
  },
  "orig_nbformat": 4
 },
 "nbformat": 4,
 "nbformat_minor": 2
}
